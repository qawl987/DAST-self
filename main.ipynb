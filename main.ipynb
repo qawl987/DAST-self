{
 "cells": [
  {
   "cell_type": "code",
   "execution_count": 1,
   "metadata": {},
   "outputs": [],
   "source": [
    "import torch\n",
    "import torch.nn as nn\n",
    "import torch.nn.functional as F\n",
    "import numpy as np\n",
    "import numpy as np\n",
    "import pandas as pd\n",
    "import matplotlib.pyplot as plt\n",
    "import scipy.io as sio\n",
    "import torch.utils.data.dataloader as Data\n",
    "import os\n",
    "import time\n",
    "from torch.autograd import Variable\n",
    "from DAST_utils import *\n",
    "from DAST_Network import *\n",
    "from torch.utils.data import TensorDataset,DataLoader\n",
    "import sys\n",
    "from tqdm import tqdm"
   ]
  },
  {
   "cell_type": "code",
   "execution_count": 2,
   "metadata": {},
   "outputs": [],
   "source": [
    "import os\n",
    "os.environ[\"CUDA_VISIBLE_DEVICES\"] = \"1\""
   ]
  },
  {
   "cell_type": "code",
   "execution_count": 3,
   "metadata": {},
   "outputs": [],
   "source": [
    "#Myscore function\n",
    "def myScore(Target, Pred):\n",
    "    tmp1 = 0\n",
    "    tmp2 = 0\n",
    "    for i in range(len(Target)):\n",
    "        if Target[i] > Pred[i]:\n",
    "            tmp1 = tmp1 + math.exp((-Pred[i] + Target[i]) / 13.0) - 1\n",
    "        else:\n",
    "            tmp2 = tmp2 + math.exp((Pred[i] - Target[i]) / 10.0) - 1\n",
    "    tmp = tmp1 + tmp2\n",
    "    return tmp"
   ]
  },
  {
   "cell_type": "code",
   "execution_count": 4,
   "metadata": {},
   "outputs": [],
   "source": [
    "prediction_loss = []\n",
    "# Load preprocessed data\n",
    "X_train = sio.loadmat('./F001_window_size_trainX.mat')  # load sliding window preprocessed and Statistical features processed data (mean value and regression coefficient estimates feature)\n",
    "X_train = X_train['train1X']\n",
    "\n",
    "# X_train = X_train.reshape(len(X_train),42,14)\n",
    "Y_train = sio.loadmat('./F001_window_size_trainY.mat')\n",
    "Y_train = Y_train['train1Y']\n",
    "Y_train = Y_train.transpose()\n",
    "\n",
    "X_test = sio.loadmat('./F001_window_size_testX.mat')\n",
    "X_test = X_test['test1X']\n",
    "# X_test = X_test.reshape(len(X_test),42,14)\n",
    "Y_test = sio.loadmat('./F001_window_size_testY.mat')\n",
    "Y_test = Y_test['test1Y']\n",
    "Y_test = Y_test.transpose()"
   ]
  },
  {
   "cell_type": "code",
   "execution_count": 5,
   "metadata": {},
   "outputs": [
    {
     "name": "stdout",
     "output_type": "stream",
     "text": [
      "(16731, 40, 17)\n",
      "(16731, 1)\n"
     ]
    }
   ],
   "source": [
    "print(X_train.shape)\n",
    "print(Y_train.shape)"
   ]
  },
  {
   "cell_type": "code",
   "execution_count": 6,
   "metadata": {},
   "outputs": [],
   "source": [
    "X_train = Variable(torch.Tensor(X_train).float())\n",
    "Y_train = Variable(torch.Tensor(Y_train).float())\n",
    "X_test = Variable(torch.Tensor(X_test).float())\n",
    "Y_test = Variable(torch.Tensor(Y_test).float())"
   ]
  },
  {
   "cell_type": "code",
   "execution_count": 14,
   "metadata": {},
   "outputs": [
    {
     "name": "stdout",
     "output_type": "stream",
     "text": [
      "torch.Size([100, 40, 17])\n",
      "torch.Size([100, 1])\n"
     ]
    }
   ],
   "source": [
    "print(X_test.shape)\n",
    "print(Y_test.shape)"
   ]
  },
  {
   "cell_type": "code",
   "execution_count": 11,
   "metadata": {},
   "outputs": [],
   "source": [
    "#Hyperparameters\n",
    "batch_size = 256\n",
    "dim_val = 32\n",
    "dim_attn = 32\n",
    "dim_val_t = 32\n",
    "dim_attn_t = 32\n",
    "dim_val_s = 32\n",
    "dim_attn_s = 32\n",
    "n_heads = 4\n",
    "n_decoder_layers = 1\n",
    "n_encoder_layers = 2\n",
    "max_rul = 125\n",
    "lr = 0.001\n",
    "epochs = 50\n",
    "time_step = 40\n",
    "dec_seq_len = 4\n",
    "output_sequence_length = 1\n",
    "input_size = 17"
   ]
  },
  {
   "cell_type": "code",
   "execution_count": 8,
   "metadata": {},
   "outputs": [],
   "source": [
    "#Dataloader\n",
    "train_dataset = TensorDataset(X_train,Y_train)\n",
    "train_loader = Data.DataLoader(dataset=train_dataset,batch_size = batch_size,shuffle=True)\n",
    "test_dataset = TensorDataset(X_test,Y_test)\n",
    "test_loader = Data.DataLoader(dataset=test_dataset,batch_size = batch_size,shuffle=False)"
   ]
  },
  {
   "cell_type": "code",
   "execution_count": 12,
   "metadata": {},
   "outputs": [],
   "source": [
    "# print(train_dataset[0:1])\n",
    "# print('=' * 60)\n",
    "# # 循环取数据\n",
    "# for x_train, y_label in train_dataset:\n",
    "#     print(x_train, y_label)"
   ]
  },
  {
   "cell_type": "code",
   "execution_count": 9,
   "metadata": {},
   "outputs": [],
   "source": [
    "# Initialize model parameters\n",
    "device = torch.device('cuda') if torch.cuda.is_available() else torch.device('cpu')\n",
    "# debug = True\n",
    "debug = False\n",
    "model = DAST(dim_val_s,dim_attn_s,dim_val_t,dim_attn_t,dim_val, dim_attn,time_step,input_size,dec_seq_len,output_sequence_length, n_decoder_layers, n_encoder_layers, n_heads, debug)\n",
    "model = model.to(device)\n",
    "optimizer = torch.optim.Adam(model.parameters(), lr=lr)\n",
    "criterion = nn.MSELoss()"
   ]
  },
  {
   "cell_type": "code",
   "execution_count": 14,
   "metadata": {},
   "outputs": [],
   "source": [
    "# model._modules"
   ]
  },
  {
   "cell_type": "code",
   "execution_count": 15,
   "metadata": {},
   "outputs": [
    {
     "name": "stdout",
     "output_type": "stream",
     "text": [
      "cuda:0\n"
     ]
    }
   ],
   "source": [
    "print(next(model.parameters()).device)"
   ]
  },
  {
   "cell_type": "code",
   "execution_count": 16,
   "metadata": {},
   "outputs": [],
   "source": [
    "# model.children()"
   ]
  },
  {
   "cell_type": "code",
   "execution_count": 10,
   "metadata": {},
   "outputs": [],
   "source": [
    "#Training  and testing\n",
    "loss_list = []\n",
    "train_loss_list = []\n",
    "test_loss_list = []\n",
    "train_time = []\n",
    "test_time = []\n",
    "model_loss = 1000"
   ]
  },
  {
   "cell_type": "code",
   "execution_count": 13,
   "metadata": {},
   "outputs": [
    {
     "name": "stderr",
     "output_type": "stream",
     "text": [
      "100%|██████████| 66/66 [00:03<00:00, 20.82it/s]\n"
     ]
    },
    {
     "name": "stdout",
     "output_type": "stream",
     "text": [
      "epoch =  0 train_loss =  24.446738404494067\n",
      "test_loss =  17.761066436767578 test_score =  908.0231101798072\n"
     ]
    },
    {
     "name": "stderr",
     "output_type": "stream",
     "text": [
      "100%|██████████| 66/66 [00:03<00:00, 20.20it/s]\n"
     ]
    },
    {
     "name": "stdout",
     "output_type": "stream",
     "text": [
      "epoch =  1 train_loss =  22.122513396399363\n",
      "test_loss =  15.039674758911133 test_score =  442.7750325009231\n"
     ]
    },
    {
     "name": "stderr",
     "output_type": "stream",
     "text": [
      "100%|██████████| 66/66 [00:03<00:00, 20.05it/s]\n"
     ]
    },
    {
     "name": "stdout",
     "output_type": "stream",
     "text": [
      "epoch =  2 train_loss =  20.422083042960132\n",
      "test_loss =  14.648550033569336 test_score =  361.22249810194114\n"
     ]
    },
    {
     "name": "stderr",
     "output_type": "stream",
     "text": [
      "100%|██████████| 66/66 [00:03<00:00, 21.15it/s]\n"
     ]
    },
    {
     "name": "stdout",
     "output_type": "stream",
     "text": [
      "epoch =  3 train_loss =  19.192991931263993\n",
      "test_loss =  15.742801666259766 test_score =  580.0786233528196\n"
     ]
    },
    {
     "name": "stderr",
     "output_type": "stream",
     "text": [
      "100%|██████████| 66/66 [00:03<00:00, 21.39it/s]\n"
     ]
    },
    {
     "name": "stdout",
     "output_type": "stream",
     "text": [
      "epoch =  4 train_loss =  18.30420891282522\n",
      "test_loss =  14.00121021270752 test_score =  393.69992098554513\n"
     ]
    },
    {
     "name": "stderr",
     "output_type": "stream",
     "text": [
      "100%|██████████| 66/66 [00:03<00:00, 21.18it/s]\n"
     ]
    },
    {
     "name": "stdout",
     "output_type": "stream",
     "text": [
      "epoch =  5 train_loss =  17.521847542472507\n",
      "test_loss =  13.37027359008789 test_score =  335.68507338491247\n"
     ]
    },
    {
     "name": "stderr",
     "output_type": "stream",
     "text": [
      "100%|██████████| 66/66 [00:03<00:00, 21.17it/s]\n"
     ]
    },
    {
     "name": "stdout",
     "output_type": "stream",
     "text": [
      "epoch =  6 train_loss =  16.859172868184718\n",
      "test_loss =  15.357392311096191 test_score =  315.7217106047879\n"
     ]
    },
    {
     "name": "stderr",
     "output_type": "stream",
     "text": [
      "100%|██████████| 66/66 [00:03<00:00, 20.50it/s]\n"
     ]
    },
    {
     "name": "stdout",
     "output_type": "stream",
     "text": [
      "epoch =  7 train_loss =  16.35007526101293\n",
      "test_loss =  13.351934432983398 test_score =  327.7235573282056\n"
     ]
    },
    {
     "name": "stderr",
     "output_type": "stream",
     "text": [
      "100%|██████████| 66/66 [00:03<00:00, 20.06it/s]\n"
     ]
    },
    {
     "name": "stdout",
     "output_type": "stream",
     "text": [
      "epoch =  8 train_loss =  15.865632719544292\n",
      "test_loss =  12.927063941955566 test_score =  288.46957522786084\n"
     ]
    },
    {
     "name": "stderr",
     "output_type": "stream",
     "text": [
      "100%|██████████| 66/66 [00:03<00:00, 20.69it/s]\n"
     ]
    },
    {
     "name": "stdout",
     "output_type": "stream",
     "text": [
      "epoch =  9 train_loss =  15.430167889726755\n",
      "test_loss =  14.230256080627441 test_score =  472.82729699644204\n"
     ]
    },
    {
     "name": "stderr",
     "output_type": "stream",
     "text": [
      "100%|██████████| 66/66 [00:03<00:00, 20.38it/s]\n"
     ]
    },
    {
     "name": "stdout",
     "output_type": "stream",
     "text": [
      "epoch =  10 train_loss =  15.06281171026109\n",
      "test_loss =  13.622057914733887 test_score =  398.02563868565574\n"
     ]
    },
    {
     "name": "stderr",
     "output_type": "stream",
     "text": [
      "100%|██████████| 66/66 [00:03<00:00, 21.06it/s]\n"
     ]
    },
    {
     "name": "stdout",
     "output_type": "stream",
     "text": [
      "epoch =  11 train_loss =  14.752398349414362\n",
      "test_loss =  12.827686309814453 test_score =  308.43308771809507\n"
     ]
    },
    {
     "name": "stderr",
     "output_type": "stream",
     "text": [
      "100%|██████████| 66/66 [00:03<00:00, 20.67it/s]\n"
     ]
    },
    {
     "name": "stdout",
     "output_type": "stream",
     "text": [
      "epoch =  12 train_loss =  14.453222300639121\n",
      "test_loss =  13.508145332336426 test_score =  407.65390838444813\n"
     ]
    },
    {
     "name": "stderr",
     "output_type": "stream",
     "text": [
      "100%|██████████| 66/66 [00:03<00:00, 21.01it/s]\n"
     ]
    },
    {
     "name": "stdout",
     "output_type": "stream",
     "text": [
      "epoch =  13 train_loss =  14.209075759779587\n",
      "test_loss =  12.838987350463867 test_score =  259.9081564656869\n"
     ]
    },
    {
     "name": "stderr",
     "output_type": "stream",
     "text": [
      "100%|██████████| 66/66 [00:03<00:00, 20.42it/s]\n"
     ]
    },
    {
     "name": "stdout",
     "output_type": "stream",
     "text": [
      "epoch =  14 train_loss =  13.976061259546588\n",
      "test_loss =  12.131062507629395 test_score =  237.82196032613604\n"
     ]
    },
    {
     "name": "stderr",
     "output_type": "stream",
     "text": [
      "100%|██████████| 66/66 [00:03<00:00, 20.69it/s]\n"
     ]
    },
    {
     "name": "stdout",
     "output_type": "stream",
     "text": [
      "epoch =  15 train_loss =  13.758941022413117\n",
      "test_loss =  12.356527328491211 test_score =  240.1537663391779\n"
     ]
    },
    {
     "name": "stderr",
     "output_type": "stream",
     "text": [
      "100%|██████████| 66/66 [00:03<00:00, 21.28it/s]\n"
     ]
    },
    {
     "name": "stdout",
     "output_type": "stream",
     "text": [
      "epoch =  16 train_loss =  13.56331780829277\n",
      "test_loss =  12.626605987548828 test_score =  283.1348599682184\n"
     ]
    },
    {
     "name": "stderr",
     "output_type": "stream",
     "text": [
      "100%|██████████| 66/66 [00:03<00:00, 21.24it/s]\n"
     ]
    },
    {
     "name": "stdout",
     "output_type": "stream",
     "text": [
      "epoch =  17 train_loss =  13.391043296256385\n",
      "test_loss =  12.841021537780762 test_score =  283.6239947516239\n"
     ]
    },
    {
     "name": "stderr",
     "output_type": "stream",
     "text": [
      "100%|██████████| 66/66 [00:03<00:00, 20.84it/s]\n"
     ]
    },
    {
     "name": "stdout",
     "output_type": "stream",
     "text": [
      "epoch =  18 train_loss =  13.230917410713046\n",
      "test_loss =  12.477392196655273 test_score =  301.30387605159206\n"
     ]
    },
    {
     "name": "stderr",
     "output_type": "stream",
     "text": [
      "100%|██████████| 66/66 [00:03<00:00, 20.73it/s]\n"
     ]
    },
    {
     "name": "stdout",
     "output_type": "stream",
     "text": [
      "epoch =  19 train_loss =  13.08466565712339\n",
      "test_loss =  12.584953308105469 test_score =  280.01199942981214\n"
     ]
    },
    {
     "name": "stderr",
     "output_type": "stream",
     "text": [
      "100%|██████████| 66/66 [00:03<00:00, 21.15it/s]\n"
     ]
    },
    {
     "name": "stdout",
     "output_type": "stream",
     "text": [
      "epoch =  20 train_loss =  12.941005684096238\n",
      "test_loss =  12.104507446289062 test_score =  253.8599932417028\n"
     ]
    },
    {
     "name": "stderr",
     "output_type": "stream",
     "text": [
      "100%|██████████| 66/66 [00:03<00:00, 20.93it/s]\n"
     ]
    },
    {
     "name": "stdout",
     "output_type": "stream",
     "text": [
      "epoch =  21 train_loss =  12.809573987857647\n",
      "test_loss =  12.309959411621094 test_score =  277.51037095121166\n"
     ]
    },
    {
     "name": "stderr",
     "output_type": "stream",
     "text": [
      "100%|██████████| 66/66 [00:03<00:00, 20.97it/s]\n"
     ]
    },
    {
     "name": "stdout",
     "output_type": "stream",
     "text": [
      "epoch =  22 train_loss =  12.692778513494845\n",
      "test_loss =  12.715673446655273 test_score =  278.07328428474204\n"
     ]
    },
    {
     "name": "stderr",
     "output_type": "stream",
     "text": [
      "100%|██████████| 66/66 [00:03<00:00, 21.12it/s]\n"
     ]
    },
    {
     "name": "stdout",
     "output_type": "stream",
     "text": [
      "epoch =  23 train_loss =  12.589688197212311\n",
      "test_loss =  12.646455764770508 test_score =  270.80852457673507\n"
     ]
    },
    {
     "name": "stderr",
     "output_type": "stream",
     "text": [
      "100%|██████████| 66/66 [00:03<00:00, 21.09it/s]\n"
     ]
    },
    {
     "name": "stdout",
     "output_type": "stream",
     "text": [
      "epoch =  24 train_loss =  12.479738593518803\n",
      "test_loss =  13.606546401977539 test_score =  418.73901009226165\n"
     ]
    },
    {
     "name": "stderr",
     "output_type": "stream",
     "text": [
      "100%|██████████| 66/66 [00:03<00:00, 21.01it/s]\n"
     ]
    },
    {
     "name": "stdout",
     "output_type": "stream",
     "text": [
      "epoch =  25 train_loss =  12.377285590600431\n",
      "test_loss =  12.316902160644531 test_score =  284.73374715590114\n"
     ]
    },
    {
     "name": "stderr",
     "output_type": "stream",
     "text": [
      "100%|██████████| 66/66 [00:03<00:00, 20.97it/s]\n"
     ]
    },
    {
     "name": "stdout",
     "output_type": "stream",
     "text": [
      "epoch =  26 train_loss =  12.281623798744391\n",
      "test_loss =  11.852420806884766 test_score =  220.38335988732223\n"
     ]
    },
    {
     "name": "stderr",
     "output_type": "stream",
     "text": [
      "100%|██████████| 66/66 [00:03<00:00, 20.39it/s]\n"
     ]
    },
    {
     "name": "stdout",
     "output_type": "stream",
     "text": [
      "epoch =  27 train_loss =  12.189727262223615\n",
      "test_loss =  12.518597602844238 test_score =  269.10814484850675\n"
     ]
    },
    {
     "name": "stderr",
     "output_type": "stream",
     "text": [
      "100%|██████████| 66/66 [00:03<00:00, 20.11it/s]\n"
     ]
    },
    {
     "name": "stdout",
     "output_type": "stream",
     "text": [
      "epoch =  28 train_loss =  12.10130034925\n",
      "test_loss =  14.136476516723633 test_score =  453.862006225717\n"
     ]
    },
    {
     "name": "stderr",
     "output_type": "stream",
     "text": [
      "100%|██████████| 66/66 [00:03<00:00, 20.51it/s]\n"
     ]
    },
    {
     "name": "stdout",
     "output_type": "stream",
     "text": [
      "epoch =  29 train_loss =  12.022600077602961\n",
      "test_loss =  12.853275299072266 test_score =  271.4835161354947\n"
     ]
    },
    {
     "name": "stderr",
     "output_type": "stream",
     "text": [
      "100%|██████████| 66/66 [00:03<00:00, 19.88it/s]\n"
     ]
    },
    {
     "name": "stdout",
     "output_type": "stream",
     "text": [
      "epoch =  30 train_loss =  11.941289152579285\n",
      "test_loss =  12.843466758728027 test_score =  273.049625742771\n"
     ]
    },
    {
     "name": "stderr",
     "output_type": "stream",
     "text": [
      "100%|██████████| 66/66 [00:03<00:00, 20.63it/s]\n"
     ]
    },
    {
     "name": "stdout",
     "output_type": "stream",
     "text": [
      "epoch =  31 train_loss =  11.864083797396983\n",
      "test_loss =  12.352721214294434 test_score =  286.05007482862203\n"
     ]
    },
    {
     "name": "stderr",
     "output_type": "stream",
     "text": [
      "100%|██████████| 66/66 [00:03<00:00, 20.41it/s]\n"
     ]
    },
    {
     "name": "stdout",
     "output_type": "stream",
     "text": [
      "epoch =  32 train_loss =  11.78938890332946\n",
      "test_loss =  12.200155258178711 test_score =  238.28996883443324\n"
     ]
    },
    {
     "name": "stderr",
     "output_type": "stream",
     "text": [
      "100%|██████████| 66/66 [00:03<00:00, 20.71it/s]\n"
     ]
    },
    {
     "name": "stdout",
     "output_type": "stream",
     "text": [
      "epoch =  33 train_loss =  11.716586711501744\n",
      "test_loss =  13.012388229370117 test_score =  336.44861394253354\n"
     ]
    },
    {
     "name": "stderr",
     "output_type": "stream",
     "text": [
      "100%|██████████| 66/66 [00:03<00:00, 20.97it/s]\n"
     ]
    },
    {
     "name": "stdout",
     "output_type": "stream",
     "text": [
      "epoch =  34 train_loss =  11.654132745199677\n",
      "test_loss =  12.86469841003418 test_score =  327.35896857990014\n"
     ]
    },
    {
     "name": "stderr",
     "output_type": "stream",
     "text": [
      "100%|██████████| 66/66 [00:02<00:00, 22.04it/s]\n"
     ]
    },
    {
     "name": "stdout",
     "output_type": "stream",
     "text": [
      "epoch =  35 train_loss =  11.584279702530532\n",
      "test_loss =  12.688591003417969 test_score =  344.43135601420033\n"
     ]
    },
    {
     "name": "stderr",
     "output_type": "stream",
     "text": [
      "100%|██████████| 66/66 [00:03<00:00, 21.81it/s]\n"
     ]
    },
    {
     "name": "stdout",
     "output_type": "stream",
     "text": [
      "epoch =  36 train_loss =  11.514827354565108\n",
      "test_loss =  13.002861022949219 test_score =  290.4926007075244\n"
     ]
    },
    {
     "name": "stderr",
     "output_type": "stream",
     "text": [
      "100%|██████████| 66/66 [00:03<00:00, 21.43it/s]\n"
     ]
    },
    {
     "name": "stdout",
     "output_type": "stream",
     "text": [
      "epoch =  37 train_loss =  11.450998078052587\n",
      "test_loss =  13.208093643188477 test_score =  315.16638176853695\n"
     ]
    },
    {
     "name": "stderr",
     "output_type": "stream",
     "text": [
      "100%|██████████| 66/66 [00:03<00:00, 20.97it/s]\n"
     ]
    },
    {
     "name": "stdout",
     "output_type": "stream",
     "text": [
      "epoch =  38 train_loss =  11.382775125583073\n",
      "test_loss =  13.450491905212402 test_score =  353.4073148186366\n"
     ]
    },
    {
     "name": "stderr",
     "output_type": "stream",
     "text": [
      "100%|██████████| 66/66 [00:03<00:00, 21.56it/s]\n"
     ]
    },
    {
     "name": "stdout",
     "output_type": "stream",
     "text": [
      "epoch =  39 train_loss =  11.319775511174512\n",
      "test_loss =  12.951577186584473 test_score =  293.1772742067021\n"
     ]
    },
    {
     "name": "stderr",
     "output_type": "stream",
     "text": [
      "100%|██████████| 66/66 [00:03<00:00, 21.94it/s]\n"
     ]
    },
    {
     "name": "stdout",
     "output_type": "stream",
     "text": [
      "epoch =  40 train_loss =  11.258902204768322\n",
      "test_loss =  13.537982940673828 test_score =  366.2599697817115\n"
     ]
    },
    {
     "name": "stderr",
     "output_type": "stream",
     "text": [
      "100%|██████████| 66/66 [00:03<00:00, 21.03it/s]\n"
     ]
    },
    {
     "name": "stdout",
     "output_type": "stream",
     "text": [
      "epoch =  41 train_loss =  11.204138204140119\n",
      "test_loss =  13.147566795349121 test_score =  325.2860281984513\n"
     ]
    },
    {
     "name": "stderr",
     "output_type": "stream",
     "text": [
      "100%|██████████| 66/66 [00:03<00:00, 21.28it/s]\n"
     ]
    },
    {
     "name": "stdout",
     "output_type": "stream",
     "text": [
      "epoch =  42 train_loss =  11.148794604530835\n",
      "test_loss =  13.901690483093262 test_score =  403.58149237624406\n"
     ]
    },
    {
     "name": "stderr",
     "output_type": "stream",
     "text": [
      "100%|██████████| 66/66 [00:03<00:00, 21.57it/s]\n"
     ]
    },
    {
     "name": "stdout",
     "output_type": "stream",
     "text": [
      "epoch =  43 train_loss =  11.089887173188664\n",
      "test_loss =  13.298297882080078 test_score =  374.5772422748894\n"
     ]
    },
    {
     "name": "stderr",
     "output_type": "stream",
     "text": [
      "100%|██████████| 66/66 [00:03<00:00, 20.83it/s]\n"
     ]
    },
    {
     "name": "stdout",
     "output_type": "stream",
     "text": [
      "epoch =  44 train_loss =  11.034228406930017\n",
      "test_loss =  13.274701118469238 test_score =  316.76122513554793\n"
     ]
    },
    {
     "name": "stderr",
     "output_type": "stream",
     "text": [
      "100%|██████████| 66/66 [00:03<00:00, 20.78it/s]\n"
     ]
    },
    {
     "name": "stdout",
     "output_type": "stream",
     "text": [
      "epoch =  45 train_loss =  10.979923967853669\n",
      "test_loss =  14.363375663757324 test_score =  371.45379851271684\n"
     ]
    },
    {
     "name": "stderr",
     "output_type": "stream",
     "text": [
      "100%|██████████| 66/66 [00:03<00:00, 21.78it/s]\n"
     ]
    },
    {
     "name": "stdout",
     "output_type": "stream",
     "text": [
      "epoch =  46 train_loss =  10.922701776743086\n",
      "test_loss =  13.993597984313965 test_score =  288.5565742209875\n"
     ]
    },
    {
     "name": "stderr",
     "output_type": "stream",
     "text": [
      "100%|██████████| 66/66 [00:03<00:00, 21.05it/s]\n"
     ]
    },
    {
     "name": "stdout",
     "output_type": "stream",
     "text": [
      "epoch =  47 train_loss =  10.868400820263542\n",
      "test_loss =  13.70245361328125 test_score =  393.2704201744499\n"
     ]
    },
    {
     "name": "stderr",
     "output_type": "stream",
     "text": [
      "100%|██████████| 66/66 [00:03<00:00, 21.35it/s]\n"
     ]
    },
    {
     "name": "stdout",
     "output_type": "stream",
     "text": [
      "epoch =  48 train_loss =  10.81759789743302\n",
      "test_loss =  15.034974098205566 test_score =  655.8459609099284\n"
     ]
    },
    {
     "name": "stderr",
     "output_type": "stream",
     "text": [
      "100%|██████████| 66/66 [00:03<00:00, 20.50it/s]\n"
     ]
    },
    {
     "name": "stdout",
     "output_type": "stream",
     "text": [
      "epoch =  49 train_loss =  10.764820724406793\n",
      "test_loss =  13.815367698669434 test_score =  403.5359623338984\n"
     ]
    }
   ],
   "source": [
    "for epoch in range(epochs):\n",
    "    #training\n",
    "    model.train()\n",
    "    start1 = time.time()\n",
    "    loop = tqdm(train_loader, leave=True)\n",
    "    for i,(X, Y) in enumerate(loop):\n",
    "        batch_X = X.to(device)\n",
    "        batch_Y = Y.to(device)\n",
    "        out = model(batch_X)\n",
    "        # print(out[0])\n",
    "        # print(out.next)\n",
    "        loss = torch.sqrt(criterion(out*max_rul, batch_Y*max_rul))\n",
    "        # print(loss)\n",
    "        optimizer.zero_grad()\n",
    "        loss.backward()\n",
    "        optimizer.step()\n",
    "        loss_list.append(loss.item())\n",
    "    end1 = time.time()\n",
    "    train_time.append(end1 - start1)\n",
    "    loss_eopch = np.mean(np.array(loss_list))\n",
    "    train_loss_list.append(loss_eopch)\n",
    "    print('epoch = ',epoch,\n",
    "            'train_loss = ',loss_eopch.item())\n",
    "\n",
    "    #testing\n",
    "    model.eval()\n",
    "    prediction_list = []\n",
    "    for j ,(batch_x,batch_y) in enumerate(test_loader):\n",
    "        batch_X = batch_x.to(device)\n",
    "        batch_Y = batch_y.to(device)\n",
    "        start2= time.time()\n",
    "        prediction = model(batch_X)\n",
    "        end2 = time.time()\n",
    "        test_time.append(end2 - start2)\n",
    "        prediction[prediction<0] = 0\n",
    "        prediction_list.append(prediction)\n",
    "\n",
    "    out_batch_pre = torch.cat(prediction_list).detach().cpu().numpy()\n",
    "    prediction_tensor = torch.from_numpy(out_batch_pre)\n",
    "    test_loss = torch.sqrt(criterion(prediction_tensor*125, Y_test*125))\n",
    "    test_loss_list.append(test_loss.item())\n",
    "    Y_test_numpy = Y_test.detach().numpy()\n",
    "    test_score = myScore(Y_test_numpy*125, out_batch_pre*125)\n",
    "    print('test_loss = ', test_loss.item(),\n",
    "            'test_score = ', test_score)\n",
    "    "
   ]
  },
  {
   "cell_type": "code",
   "execution_count": 69,
   "metadata": {},
   "outputs": [
    {
     "name": "stdout",
     "output_type": "stream",
     "text": [
      "<class 'list'>\n"
     ]
    }
   ],
   "source": [
    "print(type(prediction_list))"
   ]
  },
  {
   "cell_type": "code",
   "execution_count": null,
   "metadata": {},
   "outputs": [],
   "source": []
  }
 ],
 "metadata": {
  "kernelspec": {
   "display_name": "nlp",
   "language": "python",
   "name": "python3"
  },
  "language_info": {
   "codemirror_mode": {
    "name": "ipython",
    "version": 3
   },
   "file_extension": ".py",
   "mimetype": "text/x-python",
   "name": "python",
   "nbconvert_exporter": "python",
   "pygments_lexer": "ipython3",
   "version": "3.7.15"
  },
  "orig_nbformat": 4,
  "vscode": {
   "interpreter": {
    "hash": "c30bcecd2be579928454f23a335de72e6ac700ea152f8294e8f6fe0cbdd0121a"
   }
  }
 },
 "nbformat": 4,
 "nbformat_minor": 2
}
