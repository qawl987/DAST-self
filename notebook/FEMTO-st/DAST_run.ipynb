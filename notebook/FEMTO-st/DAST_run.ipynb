{
  "cells": [
    {
      "cell_type": "code",
      "execution_count": null,
      "metadata": {
        "id": "syLEKQq4tgpj"
      },
      "outputs": [],
      "source": [
        "from google.colab import drive\n",
        "drive.mount('/content/drive')"
      ]
    },
    {
      "cell_type": "markdown",
      "metadata": {
        "id": "-RRsALhaPUSd"
      },
      "source": [
        "#### 解壓縮zip內容到colab RAM中, 再複製到drive空間內。注意不能指定到/content/drive/ 下面。好像會解壓縮不全。"
      ]
    },
    {
      "cell_type": "code",
      "execution_count": null,
      "metadata": {
        "id": "og-ibkzTuWEA"
      },
      "outputs": [],
      "source": [
        "!unzip /content/drive/MyDrive/phm-ieee-2012-data-challenge-dataset-master.zip -d /content/"
      ]
    },
    {
      "cell_type": "code",
      "execution_count": null,
      "metadata": {
        "id": "R9Q4UOKQu16B"
      },
      "outputs": [],
      "source": [
        "!cp -r \"/content/phm-ieee-2012-data-challenge-dataset-master\" \"/content/drive/MyDrive/TMP-for-DAST\""
      ]
    },
    {
      "cell_type": "code",
      "execution_count": null,
      "metadata": {
        "id": "goApW_2A5IpA"
      },
      "outputs": [],
      "source": [
        "# 下面的code可以觀察有沒有解壓csv成功\n",
        "# import os\n",
        "# _, _, files = next(os.walk(\"/content/drive/MyDrive/TMP-for-DAST/phm-ieee-2012-data-challenge-dataset-master/Full_Test_Set/Bearing2_4\"))\n",
        "# print(len(files))"
      ]
    },
    {
      "cell_type": "markdown",
      "metadata": {
        "id": "fkVcOw1TVMP1"
      },
      "source": [
        "#### 將完整的訓練與測試資料集搬到DAST-self/data/10FEMTO/raw_data/Validation_set下"
      ]
    },
    {
      "cell_type": "code",
      "execution_count": null,
      "metadata": {
        "id": "EX3e0OzwSzZJ"
      },
      "outputs": [],
      "source": [
        "!mv /content/drive/MyDrive/TMP-for-DAST/phm-ieee-2012-data-challenge-dataset-master/Full_Test_Set/* /content/drive/MyDrive/DAST-self/data/10FEMTO/raw_data/Validation_set"
      ]
    },
    {
      "cell_type": "code",
      "execution_count": null,
      "metadata": {
        "id": "M5j1qUuhVHtj"
      },
      "outputs": [],
      "source": [
        "!mv /content/drive/MyDrive/TMP-for-DAST/phm-ieee-2012-data-challenge-dataset-master/Learning_set/* /content/drive/MyDrive/DAST-self/data/10FEMTO/raw_data/Validation_set"
      ]
    },
    {
      "cell_type": "markdown",
      "metadata": {
        "id": "x6GxWuhDmkOb"
      },
      "source": [
        "### 與訓練相關部分"
      ]
    },
    {
      "cell_type": "code",
      "execution_count": 6,
      "metadata": {
        "colab": {
          "base_uri": "https://localhost:8080/"
        },
        "id": "lEUO0th8XTzz",
        "outputId": "adf85733-4c8c-4c4d-81ce-d40933451e36"
      },
      "outputs": [
        {
          "name": "stdout",
          "output_type": "stream",
          "text": [
            "/content/drive/MyDrive/DAST-self/notebook/FEMTO-st\n"
          ]
        }
      ],
      "source": [
        "%cd /content/drive/MyDrive/DAST-self/notebook/FEMTO-st"
      ]
    },
    {
      "cell_type": "markdown",
      "metadata": {
        "id": "eKbFl86LWK0z"
      },
      "source": [
        "#### 預處理"
      ]
    },
    {
      "cell_type": "code",
      "execution_count": 2,
      "metadata": {
        "id": "Ec0ZAgCaVdF_"
      },
      "outputs": [],
      "source": [
        "import sys\n",
        "sys.path.append('/content/drive/MyDrive/DAST-self/notebook/FEMTO-st/data_processing')"
      ]
    },
    {
      "cell_type": "code",
      "execution_count": 4,
      "metadata": {
        "id": "LW6OLyaVWKRo"
      },
      "outputs": [],
      "source": [
        "from preprocess import Process\n",
        "FEMTO_PATH = '../../data/10FEMTO/raw_data/Validation_set/'\n",
        "POST_PROCESS_PATH = '../../data/10FEMTO/processed_data/'\n",
        "# 想要快速驗證跑一個訓練一個測試即可\n",
        "DATASET = [('Bearing1_2', True, 30), ('Bearing1_4', False, 50)]\n",
        "# 跑全部資料集\n",
        "# DATASET = [('Bearing1_1', True, 100), ('Bearing1_2', True, 30), ('Bearing1_3', False, 80), ('Bearing1_4', False, 50), ('Bearing1_5', False, 90), ('Bearing1_6', False, 90), ('Bearing1_7', False, 80),('Bearing2_1', True, 30), ('Bearing2_2', True, 30), ('Bearing2_3', False, 70), ('Bearing2_4', False, 27), ('Bearing2_5', False, 84), ('Bearing2_6', False, 25), ('Bearing2_7', False, 8), ('Bearing3_1', True, 17), ('Bearing3_2', True, 50), ('Bearing3_3', False, 15)]\n",
        "WINDOW_SIZE = 40\n",
        "MIN_SIGNAL_SIZE = 640\n",
        "IS_SAVE = True"
      ]
    },
    {
      "cell_type": "code",
      "execution_count": null,
      "metadata": {
        "id": "FT8U3UGFXLM6"
      },
      "outputs": [],
      "source": [
        "process = Process(DATASET, WINDOW_SIZE, MIN_SIGNAL_SIZE, FEMTO_PATH, POST_PROCESS_PATH, IS_SAVE)\n",
        "process.loop_folder()"
      ]
    },
    {
      "cell_type": "markdown",
      "metadata": {
        "id": "dlAom657c-Oy"
      },
      "source": [
        "#### DL"
      ]
    },
    {
      "cell_type": "code",
      "execution_count": 2,
      "metadata": {
        "id": "K5IFwtlmc9CK"
      },
      "outputs": [],
      "source": [
        "import sys\n",
        "sys.path.append('/content/drive/MyDrive/DAST-self/notebook/FEMTO-st/model_training')\n",
        "sys.path.append('/content/drive/MyDrive/DAST-self/network')\n",
        "from enums import NormType, TrainType\n",
        "from train import DASTModel, DASTTF"
      ]
    },
    {
      "cell_type": "code",
      "execution_count": 18,
      "metadata": {
        "id": "VmHxizeXdc9X"
      },
      "outputs": [],
      "source": [
        "selected_indices = [1, 3, 5, 7, 9, 10, 14]\n",
        "# selected_indices = [0, 1, 2, 3, 4, 5, 6, 7, 8, 9, 10, 11, 12, 13, 14, 15]\n",
        "FEATURE_LEN = len(selected_indices)\n",
        "FEATURE_SIZE = 20\n",
        "EMBEDD = 10\n",
        "HYPER_PARAMETERS = {\n",
        "    # model parameter\n",
        "    'batch_size': 256,\n",
        "    'dim_val': FEATURE_SIZE,\n",
        "    'dim_attn': EMBEDD,\n",
        "    'dim_val_t': FEATURE_SIZE,\n",
        "    'dim_attn_t': EMBEDD,\n",
        "    'dim_val_s': FEATURE_SIZE,\n",
        "    'dim_attn_s': EMBEDD,\n",
        "    'n_heads': 4,\n",
        "    'n_decoder_layers': 1,\n",
        "    'n_encoder_layers': 2,\n",
        "    'lr': 1e-3,\n",
        "    'epochs': 10,\n",
        "    'time_step': 40,\n",
        "    # limit how many last input used, important!\n",
        "    'dec_seq_len': 6,\n",
        "    'output_sequence_length': 1,\n",
        "    'feature_len': FEATURE_LEN,\n",
        "    'debug': True\n",
        "    # else parameter\n",
        "}"
      ]
    },
    {
      "cell_type": "code",
      "execution_count": 19,
      "metadata": {
        "id": "Un9NkXgRdgvW"
      },
      "outputs": [],
      "source": [
        "DATA_PATH = '../../data/10FEMTO/processed_data/'\n",
        "# 快速驗證用\n",
        "TRAIN_DATASETS = ['Bearing1_2']\n",
        "TEST_DATASET = ['Bearing1_4']\n",
        "# 自選哪個train, test資料集\n",
        "# TRAIN_DATASETS = ['Bearing1_1', 'Bearing1_2']\n",
        "# TEST_DATASET = ['Bearing1_3', 'Bearing1_4', 'Bearing1_5', 'Bearing1_6', 'Bearing1_7']\n",
        "# TRAIN_DATASETS = ['Bearing2_1', 'Bearing2_2']\n",
        "# TEST_DATASET = ['Bearing2_3', 'Bearing2_4', 'Bearing2_5', 'Bearing2_6', 'Bearing2_7']\n",
        "# TRAIN_DATASETS = ['Bearing3_1', 'Bearing3_2']\n",
        "# TEST_DATASET = ['Bearing3_3']\n",
        "\n",
        "# 更改model儲存名稱\n",
        "MODEL_SAVE_NAME = f'Bearing{TRAIN_DATASETS[0][7]}_pretrain_{len(selected_indices)}_colab_test'\n",
        "NORM_TYPE = NormType.NO_NORM\n",
        "TRAIN_TYPE = TrainType.DL\n",
        "MODEL_SAVE_PATH = '../../model/'\n",
        "IS_SAVE_MODEL = True"
      ]
    },
    {
      "cell_type": "code",
      "execution_count": 20,
      "metadata": {
        "id": "QUC0QlK8jnlO"
      },
      "outputs": [],
      "source": [
        "dast_model = DASTModel(train_datasets=TRAIN_DATASETS, test_dataset=TEST_DATASET, data_path=DATA_PATH, norm_type=NORM_TYPE, hyper_parameters=HYPER_PARAMETERS, model_save_path=MODEL_SAVE_PATH, model_save_name=MODEL_SAVE_NAME, is_save_model=IS_SAVE_MODEL, train_type=TRAIN_TYPE)"
      ]
    },
    {
      "cell_type": "code",
      "execution_count": 21,
      "metadata": {
        "colab": {
          "base_uri": "https://localhost:8080/"
        },
        "id": "9w3XplpXjqja",
        "outputId": "ce08e036-36c0-453c-e44c-b24eedd38028"
      },
      "outputs": [
        {
          "name": "stderr",
          "output_type": "stream",
          "text": [
            "100%|██████████| 4/4 [00:02<00:00,  1.65it/s]\n"
          ]
        },
        {
          "name": "stdout",
          "output_type": "stream",
          "text": [
            "epoch =  0 train_loss =  0.3010791453998536\n",
            "rmse_loss =  0.5870177745819092 mae_loss =  0.4598703384399414 mse_loss =  0.34458988904953003\n"
          ]
        },
        {
          "name": "stderr",
          "output_type": "stream",
          "text": [
            "100%|██████████| 4/4 [00:02<00:00,  1.58it/s]\n"
          ]
        },
        {
          "name": "stdout",
          "output_type": "stream",
          "text": [
            "epoch =  1 train_loss =  0.06269301008433104\n",
            "rmse_loss =  0.5694174766540527 mae_loss =  0.5133672952651978 mse_loss =  0.3242362439632416\n"
          ]
        },
        {
          "name": "stderr",
          "output_type": "stream",
          "text": [
            "100%|██████████| 4/4 [00:03<00:00,  1.16it/s]\n"
          ]
        },
        {
          "name": "stdout",
          "output_type": "stream",
          "text": [
            "epoch =  2 train_loss =  0.10157477483153343\n",
            "rmse_loss =  0.4205920696258545 mae_loss =  0.38002607226371765 mse_loss =  0.17689768970012665\n"
          ]
        },
        {
          "name": "stderr",
          "output_type": "stream",
          "text": [
            "100%|██████████| 4/4 [00:02<00:00,  1.71it/s]\n"
          ]
        },
        {
          "name": "stdout",
          "output_type": "stream",
          "text": [
            "epoch =  3 train_loss =  0.07787319319322705\n",
            "rmse_loss =  0.2951732873916626 mae_loss =  0.16822850704193115 mse_loss =  0.08712726086378098\n"
          ]
        },
        {
          "name": "stderr",
          "output_type": "stream",
          "text": [
            "100%|██████████| 4/4 [00:02<00:00,  1.66it/s]\n"
          ]
        },
        {
          "name": "stdout",
          "output_type": "stream",
          "text": [
            "epoch =  4 train_loss =  0.04229102155659348\n",
            "rmse_loss =  0.42229408025741577 mae_loss =  0.27225586771965027 mse_loss =  0.17833228409290314\n"
          ]
        },
        {
          "name": "stderr",
          "output_type": "stream",
          "text": [
            "100%|██████████| 4/4 [00:02<00:00,  1.45it/s]\n"
          ]
        },
        {
          "name": "stdout",
          "output_type": "stream",
          "text": [
            "epoch =  5 train_loss =  0.02526290121022612\n",
            "rmse_loss =  0.5595560669898987 mae_loss =  0.4381231367588043 mse_loss =  0.3131030201911926\n"
          ]
        },
        {
          "name": "stderr",
          "output_type": "stream",
          "text": [
            "100%|██████████| 4/4 [00:03<00:00,  1.20it/s]\n"
          ]
        },
        {
          "name": "stdout",
          "output_type": "stream",
          "text": [
            "epoch =  6 train_loss =  0.038543632719665766\n",
            "rmse_loss =  0.5268391966819763 mae_loss =  0.4004243016242981 mse_loss =  0.2775595188140869\n"
          ]
        },
        {
          "name": "stderr",
          "output_type": "stream",
          "text": [
            "100%|██████████| 4/4 [00:02<00:00,  1.69it/s]\n"
          ]
        },
        {
          "name": "stdout",
          "output_type": "stream",
          "text": [
            "epoch =  7 train_loss =  0.03159363684244454\n",
            "rmse_loss =  0.42596426606178284 mae_loss =  0.29240313172340393 mse_loss =  0.18144555389881134\n"
          ]
        },
        {
          "name": "stderr",
          "output_type": "stream",
          "text": [
            "100%|██████████| 4/4 [00:02<00:00,  1.69it/s]\n"
          ]
        },
        {
          "name": "stdout",
          "output_type": "stream",
          "text": [
            "epoch =  8 train_loss =  0.027284152107313275\n",
            "rmse_loss =  0.40039390325546265 mae_loss =  0.305122971534729 mse_loss =  0.16031527519226074\n"
          ]
        },
        {
          "name": "stderr",
          "output_type": "stream",
          "text": [
            "100%|██████████| 4/4 [00:02<00:00,  1.45it/s]\n"
          ]
        },
        {
          "name": "stdout",
          "output_type": "stream",
          "text": [
            "epoch =  9 train_loss =  0.019625682849437\n",
            "rmse_loss =  0.4388522505760193 mae_loss =  0.3735014796257019 mse_loss =  0.19259129464626312\n",
            "train time: 0.2690176, s/epoch\n",
            "embed1: 20, embed2: 20, lr: 0.001, dec_seq_len: 6\n",
            "0.0196257\n",
            "0.0871273\n",
            "0.2951733\n"
          ]
        }
      ],
      "source": [
        "dast_model.main(selected_indices)"
      ]
    },
    {
      "cell_type": "code",
      "execution_count": null,
      "metadata": {
        "id": "HkSotpbQjrre"
      },
      "outputs": [],
      "source": [
        "dast_model.plt_loss_list()\n",
        "dast_model.plt_best_predict()\n",
        "dast_model.plt_last_predict_vs_y()"
      ]
    },
    {
      "cell_type": "markdown",
      "metadata": {
        "id": "fxabdGmZkrV7"
      },
      "source": [
        "#### TL"
      ]
    },
    {
      "cell_type": "code",
      "execution_count": 3,
      "metadata": {
        "id": "qLZDeXJ7kslD"
      },
      "outputs": [],
      "source": [
        "selected_indices = [1, 3, 5, 7, 9, 10, 14]\n",
        "# selected_indices = [0, 1, 2, 3, 4, 5, 6, 7, 8, 9, 10, 11, 12, 13, 14, 15]\n",
        "FEATURE_LEN = len(selected_indices)\n",
        "FEATURE_SIZE = 20\n",
        "EMBEDD = 10\n",
        "HYPER_PARAMETERS = {\n",
        "    # model parameter\n",
        "    'batch_size': 256,\n",
        "    'dim_val': FEATURE_SIZE,\n",
        "    'dim_attn': EMBEDD,\n",
        "    'dim_val_t': FEATURE_SIZE,\n",
        "    'dim_attn_t': EMBEDD,\n",
        "    'dim_val_s': FEATURE_SIZE,\n",
        "    'dim_attn_s': EMBEDD,\n",
        "    'n_heads': 4,\n",
        "    'n_decoder_layers': 1,\n",
        "    'n_encoder_layers': 2,\n",
        "    'lr': 1e-3,\n",
        "    'epochs': 10,\n",
        "    'time_step': 40,\n",
        "    # limit how many last input used, important!\n",
        "    'dec_seq_len': 6,\n",
        "    'output_sequence_length': 1,\n",
        "    'feature_len': FEATURE_LEN,\n",
        "    'debug': True\n",
        "}"
      ]
    },
    {
      "cell_type": "code",
      "execution_count": 4,
      "metadata": {
        "id": "YZ6aOzP8kvBe"
      },
      "outputs": [],
      "source": [
        "DATA_PATH = '../../data/10FEMTO/processed_data/'\n",
        "PRETRAIN_DATASET = 'Bearing2'\n",
        "FINETUNE_DATASET = 'Bearing1'\n",
        "# 快速驗證用\n",
        "TRAIN_DATASETS = ['Bearing1_2']\n",
        "TEST_DATASET = ['Bearing1_4']\n",
        "# 自選哪個train, test資料集\n",
        "# TRAIN_DATASETS = ['Bearing1_1', 'Bearing1_2']\n",
        "# TEST_DATASET = ['Bearing1_3', 'Bearing1_4', 'Bearing1_5', 'Bearing1_6', 'Bearing1_7']\n",
        "# TRAIN_DATASETS = ['Bearing2_1', 'Bearing2_2']\n",
        "# TEST_DATASET = ['Bearing2_3', 'Bearing2_4', 'Bearing2_5', 'Bearing2_6', 'Bearing2_7']\n",
        "# TRAIN_DATASETS = ['Bearing3_1', 'Bearing3_2']\n",
        "# TEST_DATASET = ['Bearing3_3']\n",
        "\n",
        "MODEL_SAVE_PATH = '../../model'\n",
        "# 更改model儲存名稱\n",
        "MODEL_SAVE_NAME = f'{PRETRAIN_DATASET}_pretrain_{FINETUNE_DATASET}_finetune_7_colab_test'\n",
        "PRETRAIN_MODEL_PATH = '../../model'\n",
        "PRETRAIN_MODEL_NAME = f'{PRETRAIN_DATASET}_pretrain_7'\n",
        "IS_SAVE_MODEL = True\n",
        "NORM_TYPE = NormType.NO_NORM\n",
        "TRAIN_TYPE = TrainType.TL"
      ]
    },
    {
      "cell_type": "code",
      "execution_count": 7,
      "metadata": {
        "id": "dhTyhARFkxPX"
      },
      "outputs": [],
      "source": [
        "pretrain_model = DASTTF(HYPER_PARAMETERS, PRETRAIN_MODEL_PATH, PRETRAIN_MODEL_NAME).pretrained_model"
      ]
    },
    {
      "cell_type": "code",
      "execution_count": 11,
      "metadata": {
        "id": "_zcWwZpOkyVW"
      },
      "outputs": [],
      "source": [
        "dast_model = DASTModel(train_datasets=TRAIN_DATASETS, test_dataset=TEST_DATASET, data_path=DATA_PATH, norm_type=NORM_TYPE, hyper_parameters=HYPER_PARAMETERS, model_save_path=MODEL_SAVE_PATH, model_save_name=MODEL_SAVE_NAME, is_save_model=IS_SAVE_MODEL, train_type=TRAIN_TYPE)\n",
        "dast_model.set_model(pretrain_model)"
      ]
    },
    {
      "cell_type": "code",
      "execution_count": null,
      "metadata": {
        "id": "qndMoUYskzZU"
      },
      "outputs": [],
      "source": [
        "dast_model.main(selected_indices)"
      ]
    },
    {
      "cell_type": "code",
      "execution_count": null,
      "metadata": {
        "id": "5uDmMLlMk0ag"
      },
      "outputs": [],
      "source": [
        "dast_model.plt_loss_list()\n",
        "dast_model.plt_best_predict()\n",
        "dast_model.plt_last_predict_vs_y()"
      ]
    }
  ],
  "metadata": {
    "accelerator": "GPU",
    "colab": {
      "gpuType": "T4",
      "provenance": []
    },
    "kernelspec": {
      "display_name": "Python 3",
      "name": "python3"
    },
    "language_info": {
      "name": "python"
    }
  },
  "nbformat": 4,
  "nbformat_minor": 0
}
