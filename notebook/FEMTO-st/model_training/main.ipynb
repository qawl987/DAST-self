{
 "cells": [
  {
   "cell_type": "code",
   "execution_count": null,
   "metadata": {},
   "outputs": [],
   "source": [
    "import sys\n",
    "import os\n",
    "sys.path.append('/home/kai/DAST/network')\n",
    "from enums import NormType, TrainType\n",
    "from train import DASTModel, DASTTF\n",
    "os.environ[\"CUDA_VISIBLE_DEVICES\"] = \"0\""
   ]
  },
  {
   "cell_type": "markdown",
   "metadata": {},
   "source": [
    "## DL"
   ]
  },
  {
   "cell_type": "code",
   "execution_count": null,
   "metadata": {},
   "outputs": [],
   "source": [
    "selected_indices = [1, 3, 5, 7, 9, 10, 14]\n",
    "# selected_indices = [0, 1, 2, 3, 4, 5, 6, 7, 8, 9, 10, 11, 12, 13, 14, 15]\n",
    "FEATURE_LEN = len(selected_indices)\n",
    "FEATURE_SIZE = 20\n",
    "EMBEDD = 20\n",
    "HYPER_PARAMETERS = {\n",
    "    # model parameter\n",
    "    'batch_size': 256,\n",
    "    'dim_val': FEATURE_SIZE,\n",
    "    'dim_attn': EMBEDD,\n",
    "    'dim_val_t': FEATURE_SIZE,\n",
    "    'dim_attn_t': EMBEDD,\n",
    "    'dim_val_s': FEATURE_SIZE,\n",
    "    'dim_attn_s': EMBEDD,\n",
    "    'n_heads': 4,\n",
    "    'n_decoder_layers': 1,\n",
    "    'n_encoder_layers': 2,\n",
    "    'lr': 1e-3,\n",
    "    'epochs': 100,\n",
    "    'time_step': 40,\n",
    "    # limit how many last input used, important!\n",
    "    'dec_seq_len': 6,\n",
    "    'output_sequence_length': 1,\n",
    "    'feature_len': FEATURE_LEN,\n",
    "    'debug': True\n",
    "    # else parameter\n",
    "}"
   ]
  },
  {
   "cell_type": "code",
   "execution_count": null,
   "metadata": {},
   "outputs": [],
   "source": [
    "DATA_PATH = '../../../data/10FEMTO/processed_data/'\n",
    "TRAIN_DATASETS = ['Bearing1_1', 'Bearing1_2']\n",
    "TEST_DATASET = ['Bearing1_3', 'Bearing1_4', 'Bearing1_5', 'Bearing1_6', 'Bearing1_7']\n",
    "# TRAIN_DATASETS = ['Bearing2_1', 'Bearing2_2']\n",
    "# TEST_DATASET = ['Bearing2_3', 'Bearing2_4', 'Bearing2_5', 'Bearing2_6', 'Bearing2_7']\n",
    "# TRAIN_DATASETS = ['Bearing3_1', 'Bearing3_2']\n",
    "# TEST_DATASET = ['Bearing3_3']\n",
    "\n",
    "MODEL_SAVE_NAME = f'Bearing{TRAIN_DATASETS[0][7]}_pretrain_{len(selected_indices)}_norm_test'\n",
    "NORM_TYPE = NormType.NO_NORM\n",
    "TRAIN_TYPE = TrainType.DL\n",
    "MODEL_SAVE_PATH = '../../../model/norm'\n",
    "IS_SAVE_MODEL = False"
   ]
  },
  {
   "cell_type": "code",
   "execution_count": null,
   "metadata": {},
   "outputs": [],
   "source": [
    "dast_model = DASTModel(train_datasets=TRAIN_DATASETS, test_dataset=TEST_DATASET, data_path=DATA_PATH, norm_type=NORM_TYPE, hyper_parameters=HYPER_PARAMETERS, model_save_path=MODEL_SAVE_PATH, model_save_name=MODEL_SAVE_NAME, is_save_model=IS_SAVE_MODEL, train_type=TRAIN_TYPE)"
   ]
  },
  {
   "cell_type": "code",
   "execution_count": null,
   "metadata": {},
   "outputs": [],
   "source": [
    "dast_model.main(selected_indices)"
   ]
  },
  {
   "cell_type": "code",
   "execution_count": null,
   "metadata": {},
   "outputs": [],
   "source": [
    "dast_model.plt_loss_list()\n",
    "dast_model.plt_best_predict()\n",
    "dast_model.plt_last_predict_vs_y()"
   ]
  },
  {
   "cell_type": "markdown",
   "metadata": {},
   "source": [
    "## TL"
   ]
  },
  {
   "cell_type": "code",
   "execution_count": null,
   "metadata": {},
   "outputs": [],
   "source": [
    "selected_indices = [1, 3, 5, 7, 9, 10, 14]\n",
    "# selected_indices = [0, 1, 2, 3, 4, 5, 6, 7, 8, 9, 10, 11, 12, 13, 14, 15]\n",
    "FEATURE_LEN = len(selected_indices)\n",
    "FEATURE_SIZE = 20\n",
    "EMBEDD = 10\n",
    "HYPER_PARAMETERS = {\n",
    "    # model parameter\n",
    "    'batch_size': 256,\n",
    "    'dim_val': FEATURE_SIZE,\n",
    "    'dim_attn': EMBEDD,\n",
    "    'dim_val_t': FEATURE_SIZE,\n",
    "    'dim_attn_t': EMBEDD,\n",
    "    'dim_val_s': FEATURE_SIZE,\n",
    "    'dim_attn_s': EMBEDD,\n",
    "    'n_heads': 4,\n",
    "    'n_decoder_layers': 1,\n",
    "    'n_encoder_layers': 2,\n",
    "    'lr': 1e-3,\n",
    "    'epochs': 10,\n",
    "    'time_step': 40,\n",
    "    # limit how many last input used, important!\n",
    "    'dec_seq_len': 6,\n",
    "    'output_sequence_length': 1,\n",
    "    'feature_len': FEATURE_LEN,\n",
    "    'debug': True\n",
    "}"
   ]
  },
  {
   "cell_type": "code",
   "execution_count": null,
   "metadata": {},
   "outputs": [],
   "source": [
    "DATA_PATH = '../../../data/10FEMTO/processed_data/'\n",
    "PRETRAIN_DATASET = 'Bearing2'\n",
    "FINETUNE_DATASET = 'Bearing3'\n",
    "\n",
    "TRAIN_DATASETS = ['Bearing1_1', 'Bearing1_2']\n",
    "TEST_DATASET = ['Bearing1_3', 'Bearing1_4', 'Bearing1_5', 'Bearing1_6', 'Bearing1_7']\n",
    "# TRAIN_DATASETS = ['Bearing2_1', 'Bearing2_2']\n",
    "# TEST_DATASET = ['Bearing2_3', 'Bearing2_4', 'Bearing2_5', 'Bearing2_6', 'Bearing2_7']\n",
    "# TRAIN_DATASETS = ['Bearing3_1', 'Bearing3_2']\n",
    "# TEST_DATASET = ['Bearing3_3']\n",
    "\n",
    "MODEL_SAVE_PATH = '../../../model'\n",
    "MODEL_SAVE_NAME = f'{PRETRAIN_DATASET}_pretrain_{FINETUNE_DATASET}_finetune_7'\n",
    "PRETRAIN_MODEL_PATH = '../../../model'\n",
    "PRETRAIN_MODEL_NAME = f'{PRETRAIN_DATASET}_pretrain_7'\n",
    "IS_SAVE_MODEL = False\n",
    "NORM_TYPE = NormType.NO_NORM\n",
    "TRAIN_TYPE = TrainType.TL"
   ]
  },
  {
   "cell_type": "code",
   "execution_count": null,
   "metadata": {},
   "outputs": [],
   "source": [
    "pretrain_model = DASTTF(HYPER_PARAMETERS, PRETRAIN_MODEL_PATH, PRETRAIN_MODEL_NAME).pretrained_model"
   ]
  },
  {
   "cell_type": "code",
   "execution_count": null,
   "metadata": {},
   "outputs": [],
   "source": [
    "dast_model = DASTModel(train_datasets=TRAIN_DATASETS, test_dataset=TEST_DATASET, data_path=DATA_PATH, norm_type=NORM_TYPE, hyper_parameters=HYPER_PARAMETERS, model_save_path=MODEL_SAVE_PATH, model_save_name=MODEL_SAVE_NAME, is_save_model=IS_SAVE_MODEL, train_type=TRAIN_TYPE)\n",
    "dast_model.set_model(pretrain_model)"
   ]
  },
  {
   "cell_type": "code",
   "execution_count": null,
   "metadata": {},
   "outputs": [],
   "source": [
    "dast_model.main(selected_indices)"
   ]
  },
  {
   "cell_type": "code",
   "execution_count": null,
   "metadata": {},
   "outputs": [],
   "source": [
    "dast_model.plt_loss_list()\n",
    "dast_model.plt_best_predict()\n",
    "dast_model.plt_last_predict_vs_y()"
   ]
  }
 ],
 "metadata": {
  "kernelspec": {
   "display_name": "nlp",
   "language": "python",
   "name": "python3"
  },
  "language_info": {
   "codemirror_mode": {
    "name": "ipython",
    "version": 3
   },
   "file_extension": ".py",
   "mimetype": "text/x-python",
   "name": "python",
   "nbconvert_exporter": "python",
   "pygments_lexer": "ipython3",
   "version": "3.7.15"
  }
 },
 "nbformat": 4,
 "nbformat_minor": 2
}
