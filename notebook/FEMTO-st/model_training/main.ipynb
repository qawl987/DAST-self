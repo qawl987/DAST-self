{
 "cells": [
  {
   "cell_type": "code",
   "execution_count": 59,
   "metadata": {},
   "outputs": [],
   "source": [
    "import sys\n",
    "sys.path.append('/home/kai/DAST/network')\n",
    "import torch\n",
    "import torch.nn as nn\n",
    "import torch.nn.functional as F\n",
    "import numpy as np\n",
    "import numpy as np\n",
    "import pandas as pd\n",
    "import matplotlib.pyplot as plt\n",
    "import scipy.io as sio\n",
    "import torch.utils.data.dataloader as Data\n",
    "import os\n",
    "import time\n",
    "from torch.autograd import Variable\n",
    "from DAST_utils import *\n",
    "from DAST_Network import *\n",
    "from torch.utils.data import TensorDataset,DataLoader\n",
    "import sys\n",
    "from tqdm import tqdm\n",
    "import math"
   ]
  },
  {
   "cell_type": "code",
   "execution_count": 60,
   "metadata": {},
   "outputs": [],
   "source": [
    "import os\n",
    "os.environ[\"CUDA_VISIBLE_DEVICES\"] = \"1\""
   ]
  },
  {
   "cell_type": "code",
   "execution_count": 61,
   "metadata": {},
   "outputs": [],
   "source": [
    "#Myscore function\n",
    "def myScore(target, pred):\n",
    "    print('target', target.shape)\n",
    "    print('pred', pred.shape)\n",
    "    Er = 100 * ((target - pred) / target)\n",
    "    print(Er.shape)\n",
    "    A = math.exp(-np.log(0.5) * (Er / 5)) if Er <=0 else math.exp(np.log(0.5) * (Er / 20))\n",
    "    return A"
   ]
  },
  {
   "cell_type": "code",
   "execution_count": 62,
   "metadata": {},
   "outputs": [],
   "source": [
    "def RMSE(target, pred):\n",
    "    square_error = (target - pred) ** 2\n",
    "    mse =  (torch.sum(square_error)) / len(target)\n",
    "    rmse = mse ** 0.5\n",
    "    return rmse"
   ]
  },
  {
   "cell_type": "code",
   "execution_count": 63,
   "metadata": {},
   "outputs": [],
   "source": [
    "def MAE(target, pred):\n",
    "    absolute_error = np.abs(target - pred)\n",
    "    return torch.sum(absolute_error) / len(target)"
   ]
  },
  {
   "cell_type": "code",
   "execution_count": 64,
   "metadata": {},
   "outputs": [],
   "source": [
    "DATA_PATH = '../../../data/10FEMTO/processed_data/'\n",
    "FOLDER = 'Bearing1_1'"
   ]
  },
  {
   "cell_type": "code",
   "execution_count": 65,
   "metadata": {},
   "outputs": [],
   "source": [
    "X_train_1 = np.load(f'{DATA_PATH}/{FOLDER}/{FOLDER}_train_X.npy')\n",
    "Y_train_1 = np.load(f'{DATA_PATH}/{FOLDER}/{FOLDER}_train_Y.npy')\n",
    "FOLDER = 'Bearing1_2'\n",
    "X_train_2 = np.load(f'{DATA_PATH}/{FOLDER}/{FOLDER}_train_X.npy')\n",
    "Y_train_2 = np.load(f'{DATA_PATH}/{FOLDER}/{FOLDER}_train_Y.npy')\n",
    "FOLDER = 'Bearing1_4'\n",
    "X_train_3 = np.load(f'{DATA_PATH}/{FOLDER}/{FOLDER}_train_X.npy')\n",
    "Y_train_3 = np.load(f'{DATA_PATH}/{FOLDER}/{FOLDER}_train_Y.npy')\n",
    "FOLDER = 'Bearing1_3'\n",
    "# Y_train = Y_train.transpose()\n",
    "X_test = np.load(f'{DATA_PATH}/{FOLDER}/{FOLDER}_test_X.npy')\n",
    "Y_test = np.load(f'{DATA_PATH}/{FOLDER}/{FOLDER}_test_Y.npy')"
   ]
  },
  {
   "cell_type": "code",
   "execution_count": 66,
   "metadata": {},
   "outputs": [],
   "source": [
    "Y_train_1 = np.reshape(Y_train_1, (len(Y_train_1), -1))\n",
    "Y_train_2 = np.reshape(Y_train_2, (len(Y_train_2), -1))\n",
    "Y_train_3 = np.reshape(Y_train_3, (len(Y_train_3), -1))\n",
    "Y_test = np.reshape(Y_test, (len(Y_test), -1))"
   ]
  },
  {
   "cell_type": "code",
   "execution_count": 67,
   "metadata": {},
   "outputs": [
    {
     "data": {
      "text/plain": [
       "(2763, 40, 20)"
      ]
     },
     "execution_count": 67,
     "metadata": {},
     "output_type": "execute_result"
    }
   ],
   "source": [
    "X_train_1.shape"
   ]
  },
  {
   "cell_type": "code",
   "execution_count": 68,
   "metadata": {},
   "outputs": [],
   "source": [
    "X_train = np.concatenate((X_train_1, X_train_2, X_train_3), axis=0)\n",
    "Y_train = np.concatenate((Y_train_1, Y_train_2, Y_train_3), axis=0)"
   ]
  },
  {
   "cell_type": "code",
   "execution_count": 69,
   "metadata": {},
   "outputs": [],
   "source": [
    "X_train = Variable(torch.Tensor(X_train_1).float())\n",
    "Y_train = Variable(torch.Tensor(Y_train_1).float())\n",
    "X_test = Variable(torch.Tensor(X_test).float())\n",
    "Y_test = Variable(torch.Tensor(Y_test).float())"
   ]
  },
  {
   "cell_type": "code",
   "execution_count": 70,
   "metadata": {},
   "outputs": [],
   "source": [
    "#Hyperparameters\n",
    "batch_size = 256\n",
    "dim_val = 20\n",
    "dim_attn = 20\n",
    "dim_val_t = 20\n",
    "dim_attn_t = 20\n",
    "dim_val_s = 20\n",
    "dim_attn_s = 20\n",
    "n_heads = 4\n",
    "n_decoder_layers = 1\n",
    "n_encoder_layers = 2\n",
    "lr = 1e-5\n",
    "epochs = 50\n",
    "time_step = 40\n",
    "dec_seq_len = 4\n",
    "output_sequence_length = 1\n",
    "input_size = 20"
   ]
  },
  {
   "cell_type": "code",
   "execution_count": 71,
   "metadata": {},
   "outputs": [],
   "source": [
    "train_dataset = TensorDataset(X_train,Y_train)\n",
    "train_loader = Data.DataLoader(dataset=train_dataset,batch_size = batch_size,shuffle=False)\n",
    "test_dataset = TensorDataset(X_test,Y_test)\n",
    "test_loader = Data.DataLoader(dataset=test_dataset,batch_size = batch_size,shuffle=False)"
   ]
  },
  {
   "cell_type": "code",
   "execution_count": 72,
   "metadata": {},
   "outputs": [],
   "source": [
    "# Initialize model parameters\n",
    "device = torch.device('cuda') if torch.cuda.is_available() else torch.device('cpu')\n",
    "# debug = True\n",
    "debug = False\n",
    "model = DAST(dim_val_s,dim_attn_s,dim_val_t,dim_attn_t,dim_val, dim_attn,time_step,input_size,dec_seq_len,output_sequence_length, n_decoder_layers, n_encoder_layers, n_heads, debug)\n",
    "model = model.to(device)\n",
    "optimizer = torch.optim.Adam(model.parameters(), lr=lr)\n",
    "criterion = nn.MSELoss()"
   ]
  },
  {
   "cell_type": "code",
   "execution_count": 73,
   "metadata": {},
   "outputs": [],
   "source": [
    "loss_list = []\n",
    "train_loss_list = []\n",
    "test_loss_list = []\n",
    "train_time = []\n",
    "test_time = []"
   ]
  },
  {
   "cell_type": "code",
   "execution_count": 74,
   "metadata": {},
   "outputs": [
    {
     "name": "stderr",
     "output_type": "stream",
     "text": [
      "100%|██████████| 11/11 [00:00<00:00, 30.21it/s]\n"
     ]
    },
    {
     "name": "stdout",
     "output_type": "stream",
     "text": [
      "epoch =  0 train_loss =  0.28994021022861655\n",
      "rmse_loss =  0.4674127399921417 mae_loss =  0.3850037455558777\n"
     ]
    },
    {
     "name": "stderr",
     "output_type": "stream",
     "text": [
      "100%|██████████| 11/11 [00:00<00:00, 41.01it/s]\n"
     ]
    },
    {
     "name": "stdout",
     "output_type": "stream",
     "text": [
      "epoch =  1 train_loss =  0.2724349613894116\n",
      "rmse_loss =  0.44997408986091614 mae_loss =  0.3653857707977295\n"
     ]
    },
    {
     "name": "stderr",
     "output_type": "stream",
     "text": [
      "100%|██████████| 11/11 [00:00<00:00, 40.97it/s]\n"
     ]
    },
    {
     "name": "stdout",
     "output_type": "stream",
     "text": [
      "epoch =  2 train_loss =  0.25651332597728027\n",
      "rmse_loss =  0.431367427110672 mae_loss =  0.3450039029121399\n"
     ]
    },
    {
     "name": "stderr",
     "output_type": "stream",
     "text": [
      "100%|██████████| 11/11 [00:00<00:00, 41.08it/s]\n"
     ]
    },
    {
     "name": "stdout",
     "output_type": "stream",
     "text": [
      "epoch =  3 train_loss =  0.24186971250244163\n",
      "rmse_loss =  0.41186439990997314 mae_loss =  0.32474687695503235\n"
     ]
    },
    {
     "name": "stderr",
     "output_type": "stream",
     "text": [
      "100%|██████████| 11/11 [00:00<00:00, 41.04it/s]\n"
     ]
    },
    {
     "name": "stdout",
     "output_type": "stream",
     "text": [
      "epoch =  4 train_loss =  0.22838368796828118\n",
      "rmse_loss =  0.39298537373542786 mae_loss =  0.3062765598297119\n"
     ]
    },
    {
     "name": "stderr",
     "output_type": "stream",
     "text": [
      "100%|██████████| 11/11 [00:00<00:00, 41.04it/s]\n"
     ]
    },
    {
     "name": "stdout",
     "output_type": "stream",
     "text": [
      "epoch =  5 train_loss =  0.2159739093093032\n",
      "rmse_loss =  0.3744346499443054 mae_loss =  0.2896902859210968\n"
     ]
    },
    {
     "name": "stderr",
     "output_type": "stream",
     "text": [
      "100%|██████████| 11/11 [00:00<00:00, 41.14it/s]\n"
     ]
    },
    {
     "name": "stdout",
     "output_type": "stream",
     "text": [
      "epoch =  6 train_loss =  0.20458604466750638\n",
      "rmse_loss =  0.35649487376213074 mae_loss =  0.2750413119792938\n"
     ]
    },
    {
     "name": "stderr",
     "output_type": "stream",
     "text": [
      "100%|██████████| 11/11 [00:00<00:00, 40.62it/s]\n"
     ]
    },
    {
     "name": "stdout",
     "output_type": "stream",
     "text": [
      "epoch =  7 train_loss =  0.1941910980121148\n",
      "rmse_loss =  0.3402923047542572 mae_loss =  0.26252812147140503\n"
     ]
    },
    {
     "name": "stderr",
     "output_type": "stream",
     "text": [
      "100%|██████████| 11/11 [00:00<00:00, 41.08it/s]\n"
     ]
    },
    {
     "name": "stdout",
     "output_type": "stream",
     "text": [
      "epoch =  8 train_loss =  0.1847604824832142\n",
      "rmse_loss =  0.32643160223960876 mae_loss =  0.2522706389427185\n"
     ]
    },
    {
     "name": "stderr",
     "output_type": "stream",
     "text": [
      "100%|██████████| 11/11 [00:00<00:00, 41.13it/s]\n"
     ]
    },
    {
     "name": "stdout",
     "output_type": "stream",
     "text": [
      "epoch =  9 train_loss =  0.17625766351649708\n",
      "rmse_loss =  0.31497257947921753 mae_loss =  0.2440158575773239\n"
     ]
    },
    {
     "name": "stderr",
     "output_type": "stream",
     "text": [
      "100%|██████████| 11/11 [00:00<00:00, 41.10it/s]\n"
     ]
    },
    {
     "name": "stdout",
     "output_type": "stream",
     "text": [
      "epoch =  10 train_loss =  0.16862575889157116\n",
      "rmse_loss =  0.3055948317050934 mae_loss =  0.2374347597360611\n"
     ]
    },
    {
     "name": "stderr",
     "output_type": "stream",
     "text": [
      "100%|██████████| 11/11 [00:00<00:00, 40.97it/s]\n"
     ]
    },
    {
     "name": "stdout",
     "output_type": "stream",
     "text": [
      "epoch =  11 train_loss =  0.16178542606278576\n",
      "rmse_loss =  0.29780715703964233 mae_loss =  0.23227308690547943\n"
     ]
    },
    {
     "name": "stderr",
     "output_type": "stream",
     "text": [
      "100%|██████████| 11/11 [00:00<00:00, 41.11it/s]\n"
     ]
    },
    {
     "name": "stdout",
     "output_type": "stream",
     "text": [
      "epoch =  12 train_loss =  0.15564758460187203\n",
      "rmse_loss =  0.29124557971954346 mae_loss =  0.22789064049720764\n"
     ]
    },
    {
     "name": "stderr",
     "output_type": "stream",
     "text": [
      "100%|██████████| 11/11 [00:00<00:00, 41.08it/s]\n"
     ]
    },
    {
     "name": "stdout",
     "output_type": "stream",
     "text": [
      "epoch =  13 train_loss =  0.1501232501204041\n",
      "rmse_loss =  0.28563201427459717 mae_loss =  0.22409187257289886\n"
     ]
    },
    {
     "name": "stderr",
     "output_type": "stream",
     "text": [
      "100%|██████████| 11/11 [00:00<00:00, 41.11it/s]\n"
     ]
    },
    {
     "name": "stdout",
     "output_type": "stream",
     "text": [
      "epoch =  14 train_loss =  0.14513068686267644\n",
      "rmse_loss =  0.28073999285697937 mae_loss =  0.22075378894805908\n"
     ]
    },
    {
     "name": "stderr",
     "output_type": "stream",
     "text": [
      "100%|██████████| 11/11 [00:00<00:00, 41.11it/s]\n"
     ]
    },
    {
     "name": "stdout",
     "output_type": "stream",
     "text": [
      "epoch =  15 train_loss =  0.1405991355264136\n",
      "rmse_loss =  0.2763945162296295 mae_loss =  0.21769621968269348\n"
     ]
    },
    {
     "name": "stderr",
     "output_type": "stream",
     "text": [
      "100%|██████████| 11/11 [00:00<00:00, 41.04it/s]\n"
     ]
    },
    {
     "name": "stdout",
     "output_type": "stream",
     "text": [
      "epoch =  16 train_loss =  0.1364689022053611\n",
      "rmse_loss =  0.2724912762641907 mae_loss =  0.21487875282764435\n"
     ]
    },
    {
     "name": "stderr",
     "output_type": "stream",
     "text": [
      "100%|██████████| 11/11 [00:00<00:00, 41.10it/s]\n"
     ]
    },
    {
     "name": "stdout",
     "output_type": "stream",
     "text": [
      "epoch =  17 train_loss =  0.13268756404086346\n",
      "rmse_loss =  0.2689269483089447 mae_loss =  0.21225154399871826\n"
     ]
    },
    {
     "name": "stderr",
     "output_type": "stream",
     "text": [
      "100%|██████████| 11/11 [00:00<00:00, 41.14it/s]\n"
     ]
    },
    {
     "name": "stdout",
     "output_type": "stream",
     "text": [
      "epoch =  18 train_loss =  0.1292094825833822\n",
      "rmse_loss =  0.2656540870666504 mae_loss =  0.2098182886838913\n"
     ]
    },
    {
     "name": "stderr",
     "output_type": "stream",
     "text": [
      "100%|██████████| 11/11 [00:00<00:00, 41.07it/s]\n"
     ]
    },
    {
     "name": "stdout",
     "output_type": "stream",
     "text": [
      "epoch =  19 train_loss =  0.12599614859050648\n",
      "rmse_loss =  0.2626228630542755 mae_loss =  0.2075325846672058\n"
     ]
    },
    {
     "name": "stderr",
     "output_type": "stream",
     "text": [
      "100%|██████████| 11/11 [00:00<00:00, 41.15it/s]\n"
     ]
    },
    {
     "name": "stdout",
     "output_type": "stream",
     "text": [
      "epoch =  20 train_loss =  0.12301511854110729\n",
      "rmse_loss =  0.25977107882499695 mae_loss =  0.2053409069776535\n"
     ]
    },
    {
     "name": "stderr",
     "output_type": "stream",
     "text": [
      "100%|██████████| 11/11 [00:00<00:00, 40.99it/s]\n"
     ]
    },
    {
     "name": "stdout",
     "output_type": "stream",
     "text": [
      "epoch =  21 train_loss =  0.12023758885550721\n",
      "rmse_loss =  0.2570663094520569 mae_loss =  0.20323492586612701\n"
     ]
    },
    {
     "name": "stderr",
     "output_type": "stream",
     "text": [
      "100%|██████████| 11/11 [00:00<00:00, 40.99it/s]\n"
     ]
    },
    {
     "name": "stdout",
     "output_type": "stream",
     "text": [
      "epoch =  22 train_loss =  0.11763825954817854\n",
      "rmse_loss =  0.25446435809135437 mae_loss =  0.20114821195602417\n"
     ]
    },
    {
     "name": "stderr",
     "output_type": "stream",
     "text": [
      "100%|██████████| 11/11 [00:00<00:00, 41.05it/s]\n"
     ]
    },
    {
     "name": "stdout",
     "output_type": "stream",
     "text": [
      "epoch =  23 train_loss =  0.11519641111336762\n",
      "rmse_loss =  0.251968652009964 mae_loss =  0.19908198714256287\n"
     ]
    },
    {
     "name": "stderr",
     "output_type": "stream",
     "text": [
      "100%|██████████| 11/11 [00:00<00:00, 41.19it/s]\n"
     ]
    },
    {
     "name": "stdout",
     "output_type": "stream",
     "text": [
      "epoch =  24 train_loss =  0.11289568200368773\n",
      "rmse_loss =  0.2496439814567566 mae_loss =  0.19711589813232422\n"
     ]
    },
    {
     "name": "stderr",
     "output_type": "stream",
     "text": [
      "100%|██████████| 11/11 [00:00<00:00, 41.12it/s]\n"
     ]
    },
    {
     "name": "stdout",
     "output_type": "stream",
     "text": [
      "epoch =  25 train_loss =  0.11072233089708261\n",
      "rmse_loss =  0.24749155342578888 mae_loss =  0.19528204202651978\n"
     ]
    },
    {
     "name": "stderr",
     "output_type": "stream",
     "text": [
      "100%|██████████| 11/11 [00:00<00:00, 41.12it/s]\n"
     ]
    },
    {
     "name": "stdout",
     "output_type": "stream",
     "text": [
      "epoch =  26 train_loss =  0.10866297702759704\n",
      "rmse_loss =  0.2454439401626587 mae_loss =  0.1935352087020874\n"
     ]
    },
    {
     "name": "stderr",
     "output_type": "stream",
     "text": [
      "100%|██████████| 11/11 [00:00<00:00, 41.15it/s]\n"
     ]
    },
    {
     "name": "stdout",
     "output_type": "stream",
     "text": [
      "epoch =  27 train_loss =  0.10670538608577441\n",
      "rmse_loss =  0.24344417452812195 mae_loss =  0.19181978702545166\n"
     ]
    },
    {
     "name": "stderr",
     "output_type": "stream",
     "text": [
      "100%|██████████| 11/11 [00:00<00:00, 41.12it/s]\n"
     ]
    },
    {
     "name": "stdout",
     "output_type": "stream",
     "text": [
      "epoch =  28 train_loss =  0.10483968327096357\n",
      "rmse_loss =  0.2414821982383728 mae_loss =  0.19011647999286652\n"
     ]
    },
    {
     "name": "stderr",
     "output_type": "stream",
     "text": [
      "100%|██████████| 11/11 [00:00<00:00, 41.18it/s]\n"
     ]
    },
    {
     "name": "stdout",
     "output_type": "stream",
     "text": [
      "epoch =  29 train_loss =  0.10305815600705417\n",
      "rmse_loss =  0.23955759406089783 mae_loss =  0.1884617656469345\n"
     ]
    },
    {
     "name": "stderr",
     "output_type": "stream",
     "text": [
      "100%|██████████| 11/11 [00:00<00:00, 41.03it/s]\n"
     ]
    },
    {
     "name": "stdout",
     "output_type": "stream",
     "text": [
      "epoch =  30 train_loss =  0.10135460469347378\n",
      "rmse_loss =  0.2376721203327179 mae_loss =  0.1868276298046112\n"
     ]
    },
    {
     "name": "stderr",
     "output_type": "stream",
     "text": [
      "100%|██████████| 11/11 [00:00<00:00, 41.15it/s]\n"
     ]
    },
    {
     "name": "stdout",
     "output_type": "stream",
     "text": [
      "epoch =  31 train_loss =  0.09972299006502991\n",
      "rmse_loss =  0.23580099642276764 mae_loss =  0.1851954162120819\n"
     ]
    },
    {
     "name": "stderr",
     "output_type": "stream",
     "text": [
      "100%|██████████| 11/11 [00:00<00:00, 41.11it/s]\n"
     ]
    },
    {
     "name": "stdout",
     "output_type": "stream",
     "text": [
      "epoch =  32 train_loss =  0.09815782468417049\n",
      "rmse_loss =  0.23397623002529144 mae_loss =  0.18363530933856964\n"
     ]
    },
    {
     "name": "stderr",
     "output_type": "stream",
     "text": [
      "100%|██████████| 11/11 [00:00<00:00, 41.01it/s]\n"
     ]
    },
    {
     "name": "stdout",
     "output_type": "stream",
     "text": [
      "epoch =  33 train_loss =  0.09665457163016028\n",
      "rmse_loss =  0.2322114109992981 mae_loss =  0.1821420043706894\n"
     ]
    },
    {
     "name": "stderr",
     "output_type": "stream",
     "text": [
      "100%|██████████| 11/11 [00:00<00:00, 41.05it/s]\n"
     ]
    },
    {
     "name": "stdout",
     "output_type": "stream",
     "text": [
      "epoch =  34 train_loss =  0.09520913760915592\n",
      "rmse_loss =  0.23050279915332794 mae_loss =  0.18066728115081787\n"
     ]
    },
    {
     "name": "stderr",
     "output_type": "stream",
     "text": [
      "100%|██████████| 11/11 [00:00<00:00, 33.82it/s]\n"
     ]
    },
    {
     "name": "stdout",
     "output_type": "stream",
     "text": [
      "epoch =  35 train_loss =  0.09381797880338824\n",
      "rmse_loss =  0.2288292944431305 mae_loss =  0.17923401296138763\n"
     ]
    },
    {
     "name": "stderr",
     "output_type": "stream",
     "text": [
      "100%|██████████| 11/11 [00:00<00:00, 41.09it/s]\n"
     ]
    },
    {
     "name": "stdout",
     "output_type": "stream",
     "text": [
      "epoch =  36 train_loss =  0.09247784894325882\n",
      "rmse_loss =  0.22719480097293854 mae_loss =  0.17784185707569122\n"
     ]
    },
    {
     "name": "stderr",
     "output_type": "stream",
     "text": [
      "100%|██████████| 11/11 [00:00<00:00, 41.08it/s]\n"
     ]
    },
    {
     "name": "stdout",
     "output_type": "stream",
     "text": [
      "epoch =  37 train_loss =  0.09118565919465925\n",
      "rmse_loss =  0.22559978067874908 mae_loss =  0.17647771537303925\n"
     ]
    },
    {
     "name": "stderr",
     "output_type": "stream",
     "text": [
      "100%|██████████| 11/11 [00:00<00:00, 41.15it/s]\n"
     ]
    },
    {
     "name": "stdout",
     "output_type": "stream",
     "text": [
      "epoch =  38 train_loss =  0.08993854302053268\n",
      "rmse_loss =  0.22404547035694122 mae_loss =  0.17516548931598663\n"
     ]
    },
    {
     "name": "stderr",
     "output_type": "stream",
     "text": [
      "100%|██████████| 11/11 [00:00<00:00, 41.06it/s]\n"
     ]
    },
    {
     "name": "stdout",
     "output_type": "stream",
     "text": [
      "epoch =  39 train_loss =  0.0887338922041553\n",
      "rmse_loss =  0.22254139184951782 mae_loss =  0.1739237755537033\n"
     ]
    },
    {
     "name": "stderr",
     "output_type": "stream",
     "text": [
      "100%|██████████| 11/11 [00:00<00:00, 41.01it/s]\n"
     ]
    },
    {
     "name": "stdout",
     "output_type": "stream",
     "text": [
      "epoch =  40 train_loss =  0.08756931334890904\n",
      "rmse_loss =  0.22109392285346985 mae_loss =  0.1727377027273178\n"
     ]
    },
    {
     "name": "stderr",
     "output_type": "stream",
     "text": [
      "100%|██████████| 11/11 [00:00<00:00, 41.11it/s]\n"
     ]
    },
    {
     "name": "stdout",
     "output_type": "stream",
     "text": [
      "epoch =  41 train_loss =  0.0864426366343804\n",
      "rmse_loss =  0.21970222890377045 mae_loss =  0.17161868512630463\n"
     ]
    },
    {
     "name": "stderr",
     "output_type": "stream",
     "text": [
      "100%|██████████| 11/11 [00:00<00:00, 41.03it/s]\n"
     ]
    },
    {
     "name": "stdout",
     "output_type": "stream",
     "text": [
      "epoch =  42 train_loss =  0.08535186661088379\n",
      "rmse_loss =  0.21836091578006744 mae_loss =  0.17056013643741608\n"
     ]
    },
    {
     "name": "stderr",
     "output_type": "stream",
     "text": [
      "100%|██████████| 11/11 [00:00<00:00, 41.03it/s]\n"
     ]
    },
    {
     "name": "stdout",
     "output_type": "stream",
     "text": [
      "epoch =  43 train_loss =  0.08429514676571077\n",
      "rmse_loss =  0.21706879138946533 mae_loss =  0.16953641176223755\n"
     ]
    },
    {
     "name": "stderr",
     "output_type": "stream",
     "text": [
      "100%|██████████| 11/11 [00:00<00:00, 41.04it/s]\n"
     ]
    },
    {
     "name": "stdout",
     "output_type": "stream",
     "text": [
      "epoch =  44 train_loss =  0.08327076616273685\n",
      "rmse_loss =  0.2158202826976776 mae_loss =  0.1685348004102707\n"
     ]
    },
    {
     "name": "stderr",
     "output_type": "stream",
     "text": [
      "100%|██████████| 11/11 [00:00<00:00, 41.17it/s]\n"
     ]
    },
    {
     "name": "stdout",
     "output_type": "stream",
     "text": [
      "epoch =  45 train_loss =  0.0822771568985089\n",
      "rmse_loss =  0.21461059153079987 mae_loss =  0.16756945848464966\n"
     ]
    },
    {
     "name": "stderr",
     "output_type": "stream",
     "text": [
      "100%|██████████| 11/11 [00:00<00:00, 41.01it/s]\n"
     ]
    },
    {
     "name": "stdout",
     "output_type": "stream",
     "text": [
      "epoch =  46 train_loss =  0.08131279467967135\n",
      "rmse_loss =  0.21344006061553955 mae_loss =  0.16663658618927002\n"
     ]
    },
    {
     "name": "stderr",
     "output_type": "stream",
     "text": [
      "100%|██████████| 11/11 [00:00<00:00, 41.09it/s]\n"
     ]
    },
    {
     "name": "stdout",
     "output_type": "stream",
     "text": [
      "epoch =  47 train_loss =  0.08037624090811181\n",
      "rmse_loss =  0.21231576800346375 mae_loss =  0.16573910415172577\n"
     ]
    },
    {
     "name": "stderr",
     "output_type": "stream",
     "text": [
      "100%|██████████| 11/11 [00:00<00:00, 41.14it/s]\n"
     ]
    },
    {
     "name": "stdout",
     "output_type": "stream",
     "text": [
      "epoch =  48 train_loss =  0.07946628530843249\n",
      "rmse_loss =  0.21122774481773376 mae_loss =  0.16487854719161987\n"
     ]
    },
    {
     "name": "stderr",
     "output_type": "stream",
     "text": [
      "100%|██████████| 11/11 [00:00<00:00, 41.17it/s]\n"
     ]
    },
    {
     "name": "stdout",
     "output_type": "stream",
     "text": [
      "epoch =  49 train_loss =  0.07858178501271389\n",
      "rmse_loss =  0.21016976237297058 mae_loss =  0.16404925286769867\n"
     ]
    }
   ],
   "source": [
    "for epoch in range(epochs):\n",
    "    #training\n",
    "    model.train()\n",
    "    loop = tqdm(train_loader, leave=True)\n",
    "    for i,(X, Y) in enumerate(loop):\n",
    "        batch_X = X.to(device)\n",
    "        batch_Y = Y.to(device)\n",
    "        out = model(batch_X)\n",
    "        loss = criterion(out, batch_Y)\n",
    "        optimizer.zero_grad()\n",
    "        loss.backward()\n",
    "        optimizer.step()\n",
    "        loss_list.append(loss.item())\n",
    "    loss_eopch = np.mean(np.array(loss_list))\n",
    "    train_loss_list.append(loss_eopch)\n",
    "    print('epoch = ',epoch,\n",
    "            'train_loss = ',loss_eopch.item())\n",
    "\n",
    "    #testing\n",
    "    model.eval()\n",
    "    prediction_list = []\n",
    "    for j ,(batch_x,batch_y) in enumerate(test_loader):\n",
    "        batch_X = batch_x.to(device)\n",
    "        batch_Y = batch_y.to(device)\n",
    "        prediction = model(batch_X)\n",
    "        prediction[prediction<0] = 0\n",
    "        prediction_list.append(prediction)\n",
    "\n",
    "    out_batch_pre = torch.cat(prediction_list).detach().cpu().numpy()\n",
    "    prediction_tensor = torch.from_numpy(out_batch_pre)\n",
    "    rmse_loss = RMSE(Y_test, prediction_tensor, )\n",
    "    mae_loss = MAE(Y_test, prediction_tensor, )\n",
    "    print('rmse_loss = ', rmse_loss.item(),\n",
    "            'mae_loss = ', mae_loss.item())"
   ]
  },
  {
   "cell_type": "code",
   "execution_count": 75,
   "metadata": {},
   "outputs": [],
   "source": [
    "z = np.reshape(out_batch_pre, (-1))\n",
    "z = z.tolist()"
   ]
  },
  {
   "cell_type": "code",
   "execution_count": 76,
   "metadata": {},
   "outputs": [],
   "source": [
    "y = Y_test.detach().cpu().numpy()\n",
    "y = np.reshape(y, -1)\n",
    "y = y.tolist()"
   ]
  },
  {
   "cell_type": "code",
   "execution_count": 77,
   "metadata": {},
   "outputs": [],
   "source": [
    "# z = z[::50]\n",
    "# y = y[::50]"
   ]
  },
  {
   "cell_type": "code",
   "execution_count": 78,
   "metadata": {},
   "outputs": [
    {
     "name": "stdout",
     "output_type": "stream",
     "text": [
      "2335\n"
     ]
    }
   ],
   "source": [
    "print(len(z))"
   ]
  },
  {
   "cell_type": "code",
   "execution_count": 79,
   "metadata": {},
   "outputs": [
    {
     "name": "stdout",
     "output_type": "stream",
     "text": [
      "2335\n"
     ]
    }
   ],
   "source": [
    "print(len(y))"
   ]
  },
  {
   "cell_type": "code",
   "execution_count": 58,
   "metadata": {},
   "outputs": [
    {
     "data": {
      "image/png": "[encoded data removed]",
      "text/plain": [
       "<Figure size 640x480 with 1 Axes>"
      ]
     },
     "metadata": {},
     "output_type": "display_data"
    }
   ],
   "source": [
    "import matplotlib.pyplot as plt\n",
    "\n",
    "# Example data\n",
    "\n",
    "# Plotting the line chart\n",
    "plt.plot(z, label='Pred', marker='o', markersize=1)\n",
    "plt.plot(y, label='Y', marker='s', markersize=1)\n",
    "# Adding labels and title\n",
    "plt.xlabel('X-axis Label')\n",
    "plt.ylabel('Y-axis Label')\n",
    "plt.title('Line Chart Example')\n",
    "\n",
    "# Adding a legend\n",
    "plt.legend()\n",
    "\n",
    "# Display the plot\n",
    "plt.show()"
   ]
  }
 ],
 "metadata": {
  "kernelspec": {
   "display_name": "nlp",
   "language": "python",
   "name": "python3"
  },
  "language_info": {
   "codemirror_mode": {
    "name": "ipython",
    "version": 3
   },
   "file_extension": ".py",
   "mimetype": "text/x-python",
   "name": "python",
   "nbconvert_exporter": "python",
   "pygments_lexer": "ipython3",
   "version": "3.7.15"
  }
 },
 "nbformat": 4,
 "nbformat_minor": 2
}
