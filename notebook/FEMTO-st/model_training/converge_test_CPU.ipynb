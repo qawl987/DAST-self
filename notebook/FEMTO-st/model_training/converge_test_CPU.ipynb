{
 "cells": [
  {
   "cell_type": "code",
   "execution_count": 122,
   "metadata": {},
   "outputs": [],
   "source": [
    "import sys\n",
    "sys.path.append('/home/kai/DAST/network')\n",
    "import torch\n",
    "import torch.nn as nn\n",
    "import torch.nn.functional as F\n",
    "import numpy as np\n",
    "import numpy as np\n",
    "import pandas as pd\n",
    "import matplotlib.pyplot as plt\n",
    "import scipy.io as sio\n",
    "import torch.utils.data.dataloader as Data\n",
    "import os\n",
    "import time\n",
    "from torch.autograd import Variable\n",
    "from DAST_utils_CPU import *\n",
    "from DAST_Network_CPU import *\n",
    "from torch.utils.data import TensorDataset,DataLoader\n",
    "import sys\n",
    "from tqdm import tqdm\n",
    "import math"
   ]
  },
  {
   "cell_type": "code",
   "execution_count": 123,
   "metadata": {},
   "outputs": [],
   "source": [
    "#Myscore function\n",
    "def myScore(target, pred):\n",
    "    print('target', target.shape)\n",
    "    print('pred', pred.shape)\n",
    "    Er = 100 * ((target - pred) / target)\n",
    "    print(Er.shape)\n",
    "    A = math.exp(-np.log(0.5) * (Er / 5)) if Er <=0 else math.exp(np.log(0.5) * (Er / 20))\n",
    "    return A"
   ]
  },
  {
   "cell_type": "code",
   "execution_count": 124,
   "metadata": {},
   "outputs": [],
   "source": [
    "def RMSE(target, pred):\n",
    "    square_error = (target - pred) ** 2\n",
    "    mse =  (torch.sum(square_error)) / len(target)\n",
    "    rmse = mse ** 0.5\n",
    "    return rmse"
   ]
  },
  {
   "cell_type": "code",
   "execution_count": 125,
   "metadata": {},
   "outputs": [],
   "source": [
    "def MAE(target, pred):\n",
    "    pred = pred.detach().numpy()\n",
    "    absolute_error = np.abs(target - pred)\n",
    "    return torch.sum(absolute_error) / len(target)"
   ]
  },
  {
   "cell_type": "code",
   "execution_count": 126,
   "metadata": {},
   "outputs": [],
   "source": [
    "DATA_PATH = '../../../data/10FEMTO/processed_data/'\n",
    "FOLDER = 'Bearing1_1'"
   ]
  },
  {
   "cell_type": "code",
   "execution_count": 127,
   "metadata": {},
   "outputs": [],
   "source": [
    "X_np = np.load(f'../../../data/10FEMTO/processed_data/simple_data_2000_40_1_X.npy')\n",
    "Y_np = np.load(f'../../../data/10FEMTO/processed_data/simple_data_2000_40_1_Y.npy')\n",
    "X_train, X_test = X_np[:1600], X_np[:2000]\n",
    "Y_train, Y_test = Y_np[:1600], Y_np[:2000]\n",
    "Y_train = np.reshape(Y_train, (len(Y_train), -1))\n",
    "Y_test = np.reshape(Y_test, (len(Y_test), -1))"
   ]
  },
  {
   "cell_type": "code",
   "execution_count": 128,
   "metadata": {},
   "outputs": [],
   "source": [
    "X_train = Variable(torch.Tensor(X_train).float())\n",
    "Y_train = Variable(torch.Tensor(Y_train).float())\n",
    "X_test = Variable(torch.Tensor(X_test).float())\n",
    "Y_test = Variable(torch.Tensor(Y_test).float())"
   ]
  },
  {
   "cell_type": "code",
   "execution_count": 129,
   "metadata": {},
   "outputs": [],
   "source": [
    "#Hyperparameters\n",
    "FEATURE = 1\n",
    "EMBEDD = 50\n",
    "batch_size = 256\n",
    "dim_val = FEATURE\n",
    "dim_attn = EMBEDD\n",
    "dim_val_t = FEATURE\n",
    "dim_attn_t = EMBEDD\n",
    "dim_val_s = FEATURE\n",
    "dim_attn_s = EMBEDD\n",
    "n_heads = 4\n",
    "n_decoder_layers = 1\n",
    "n_encoder_layers = 1\n",
    "lr = 1e-5\n",
    "epochs = 15\n",
    "time_step = 40\n",
    "dec_seq_len = 4\n",
    "output_sequence_length = 1\n",
    "input_size = FEATURE"
   ]
  },
  {
   "cell_type": "code",
   "execution_count": 130,
   "metadata": {},
   "outputs": [],
   "source": [
    "train_dataset = TensorDataset(X_train,Y_train)\n",
    "train_loader = Data.DataLoader(dataset=train_dataset,batch_size = batch_size,shuffle=False)\n",
    "test_dataset = TensorDataset(X_test,Y_test)\n",
    "test_loader = Data.DataLoader(dataset=test_dataset,batch_size = batch_size,shuffle=False)"
   ]
  },
  {
   "cell_type": "code",
   "execution_count": 131,
   "metadata": {},
   "outputs": [],
   "source": [
    "# Initialize model parameters\n",
    "device = torch.device('cuda') if torch.cuda.is_available() else torch.device('cpu')\n",
    "# debug = True\n",
    "debug = False\n",
    "model = DAST(dim_val_s,dim_attn_s,dim_val_t,dim_attn_t,dim_val, dim_attn,time_step,input_size,dec_seq_len,output_sequence_length, n_decoder_layers, n_encoder_layers, n_heads, debug)\n",
    "optimizer = torch.optim.Adam(model.parameters(), lr=lr)\n",
    "criterion = nn.MSELoss()"
   ]
  },
  {
   "cell_type": "code",
   "execution_count": 132,
   "metadata": {},
   "outputs": [],
   "source": [
    "loss_list = []\n",
    "train_loss_list = []\n",
    "test_loss_list = []\n",
    "train_time = []\n",
    "test_time = []"
   ]
  },
  {
   "cell_type": "code",
   "execution_count": 133,
   "metadata": {},
   "outputs": [
    {
     "name": "stderr",
     "output_type": "stream",
     "text": [
      "100%|██████████| 7/7 [00:00<00:00, 27.04it/s]\n"
     ]
    },
    {
     "name": "stdout",
     "output_type": "stream",
     "text": [
      "epoch =  0 train_loss =  0.18503910146786698\n",
      "rmse_loss =  0.5000601410865784 mae_loss =  0.4184151589870453 mse_loss =  0.25006017088890076\n"
     ]
    },
    {
     "name": "stderr",
     "output_type": "stream",
     "text": [
      "100%|██████████| 7/7 [00:00<00:00, 33.26it/s]\n"
     ]
    },
    {
     "name": "stdout",
     "output_type": "stream",
     "text": [
      "epoch =  1 train_loss =  0.18501809999413257\n",
      "rmse_loss =  0.500011682510376 mae_loss =  0.4183657765388489 mse_loss =  0.25001171231269836\n"
     ]
    },
    {
     "name": "stderr",
     "output_type": "stream",
     "text": [
      "100%|██████████| 7/7 [00:00<00:00, 29.06it/s]\n"
     ]
    },
    {
     "name": "stdout",
     "output_type": "stream",
     "text": [
      "epoch =  2 train_loss =  0.18499707919545472\n",
      "rmse_loss =  0.49996283650398254 mae_loss =  0.41831594705581665 mse_loss =  0.24996283650398254\n"
     ]
    },
    {
     "name": "stderr",
     "output_type": "stream",
     "text": [
      "100%|██████████| 7/7 [00:00<00:00, 31.09it/s]\n"
     ]
    },
    {
     "name": "stdout",
     "output_type": "stream",
     "text": [
      "epoch =  3 train_loss =  0.1849760474204751\n",
      "rmse_loss =  0.4999139606952667 mae_loss =  0.4182661175727844 mse_loss =  0.24991397559642792\n"
     ]
    },
    {
     "name": "stderr",
     "output_type": "stream",
     "text": [
      "100%|██████████| 7/7 [00:00<00:00, 32.72it/s]\n"
     ]
    },
    {
     "name": "stdout",
     "output_type": "stream",
     "text": [
      "epoch =  4 train_loss =  0.18495503596828453\n",
      "rmse_loss =  0.49986517429351807 mae_loss =  0.41821643710136414 mse_loss =  0.24986520409584045\n"
     ]
    },
    {
     "name": "stderr",
     "output_type": "stream",
     "text": [
      "100%|██████████| 7/7 [00:00<00:00, 32.52it/s]\n"
     ]
    },
    {
     "name": "stdout",
     "output_type": "stream",
     "text": [
      "epoch =  5 train_loss =  0.1849340508564464\n",
      "rmse_loss =  0.49981650710105896 mae_loss =  0.41816678643226624 mse_loss =  0.24981655180454254\n"
     ]
    },
    {
     "name": "stderr",
     "output_type": "stream",
     "text": [
      "100%|██████████| 7/7 [00:00<00:00, 30.36it/s]\n"
     ]
    },
    {
     "name": "stdout",
     "output_type": "stream",
     "text": [
      "epoch =  6 train_loss =  0.1849130980162026\n",
      "rmse_loss =  0.4997679889202118 mae_loss =  0.41811737418174744 mse_loss =  0.24976803362369537\n"
     ]
    },
    {
     "name": "stderr",
     "output_type": "stream",
     "text": [
      "100%|██████████| 7/7 [00:00<00:00, 32.80it/s]\n"
     ]
    },
    {
     "name": "stdout",
     "output_type": "stream",
     "text": [
      "epoch =  7 train_loss =  0.1848921779414273\n",
      "rmse_loss =  0.4997195899486542 mae_loss =  0.418067991733551 mse_loss =  0.24971966445446014\n"
     ]
    },
    {
     "name": "stderr",
     "output_type": "stream",
     "text": [
      "100%|██████████| 7/7 [00:00<00:00, 32.76it/s]\n"
     ]
    },
    {
     "name": "stdout",
     "output_type": "stream",
     "text": [
      "epoch =  8 train_loss =  0.1848712899881075\n",
      "rmse_loss =  0.49967125058174133 mae_loss =  0.41801872849464417 mse_loss =  0.24967136979103088\n"
     ]
    },
    {
     "name": "stderr",
     "output_type": "stream",
     "text": [
      "100%|██████████| 7/7 [00:00<00:00, 33.00it/s]\n"
     ]
    },
    {
     "name": "stdout",
     "output_type": "stream",
     "text": [
      "epoch =  9 train_loss =  0.1848504321067594\n",
      "rmse_loss =  0.49962303042411804 mae_loss =  0.41796964406967163 mse_loss =  0.2496231645345688\n"
     ]
    },
    {
     "name": "stderr",
     "output_type": "stream",
     "text": [
      "100%|██████████| 7/7 [00:00<00:00, 32.90it/s]\n"
     ]
    },
    {
     "name": "stdout",
     "output_type": "stream",
     "text": [
      "epoch =  10 train_loss =  0.1848296034588273\n",
      "rmse_loss =  0.49957484006881714 mae_loss =  0.4179205298423767 mse_loss =  0.24957501888275146\n"
     ]
    },
    {
     "name": "stderr",
     "output_type": "stream",
     "text": [
      "100%|██████████| 7/7 [00:00<00:00, 32.52it/s]\n"
     ]
    },
    {
     "name": "stdout",
     "output_type": "stream",
     "text": [
      "epoch =  11 train_loss =  0.18480879930263786\n",
      "rmse_loss =  0.499526709318161 mae_loss =  0.4178715944290161 mse_loss =  0.2495269477367401\n"
     ]
    },
    {
     "name": "stderr",
     "output_type": "stream",
     "text": [
      "100%|██████████| 7/7 [00:00<00:00, 32.86it/s]\n"
     ]
    },
    {
     "name": "stdout",
     "output_type": "stream",
     "text": [
      "epoch =  12 train_loss =  0.18478801864030475\n",
      "rmse_loss =  0.49947863817214966 mae_loss =  0.41782256960868835 mse_loss =  0.24947892129421234\n"
     ]
    },
    {
     "name": "stderr",
     "output_type": "stream",
     "text": [
      "100%|██████████| 7/7 [00:00<00:00, 32.94it/s]\n"
     ]
    },
    {
     "name": "stdout",
     "output_type": "stream",
     "text": [
      "epoch =  13 train_loss =  0.1847672601757875\n",
      "rmse_loss =  0.4994306266307831 mae_loss =  0.41777369379997253 mse_loss =  0.24943093955516815\n"
     ]
    },
    {
     "name": "stderr",
     "output_type": "stream",
     "text": [
      "100%|██████████| 7/7 [00:00<00:00, 31.91it/s]\n"
     ]
    },
    {
     "name": "stdout",
     "output_type": "stream",
     "text": [
      "epoch =  14 train_loss =  0.1847465207356782\n",
      "rmse_loss =  0.4993826448917389 mae_loss =  0.41772475838661194 mse_loss =  0.24938301742076874\n"
     ]
    }
   ],
   "source": [
    "for epoch in range(epochs):\n",
    "    #training\n",
    "    model.train()\n",
    "    loop = tqdm(train_loader, leave=True)\n",
    "    for i,(batch_X, batch_Y) in enumerate(loop):\n",
    "        out = model(batch_X)\n",
    "        loss = criterion(out, batch_Y)\n",
    "        optimizer.zero_grad()\n",
    "        loss.backward()\n",
    "        optimizer.step()\n",
    "        loss_list.append(loss.item())\n",
    "    loss_eopch = np.mean(np.array(loss_list))\n",
    "    train_loss_list.append(loss_eopch)\n",
    "    print('epoch = ',epoch,\n",
    "            'train_loss = ',loss_eopch.item())\n",
    "\n",
    "    #testing\n",
    "    model.eval()\n",
    "    prediction_list = []\n",
    "    for j ,(batch_x,batch_y) in enumerate(test_loader):\n",
    "        prediction = model(batch_x)\n",
    "        # prediction[prediction<0] = 0\n",
    "        prediction_list.append(prediction)\n",
    "\n",
    "    out_batch_pre = torch.cat(prediction_list)\n",
    "    rmse_loss = RMSE(Y_test, out_batch_pre, )\n",
    "    mae_loss = MAE(Y_test, out_batch_pre, )\n",
    "    test_loss = criterion(out_batch_pre, Y_test)\n",
    "    test_loss_list.append(test_loss.detach().numpy())\n",
    "    print('rmse_loss = ', rmse_loss.item(),\n",
    "            'mae_loss = ', mae_loss.item(),\n",
    "            'mse_loss = ', test_loss.item())"
   ]
  },
  {
   "cell_type": "code",
   "execution_count": 134,
   "metadata": {},
   "outputs": [],
   "source": [
    "z = np.reshape(out_batch_pre.detach().numpy(), (-1))\n",
    "z = z.tolist()"
   ]
  },
  {
   "cell_type": "code",
   "execution_count": 135,
   "metadata": {},
   "outputs": [],
   "source": [
    "y = Y_test.detach().cpu().numpy()\n",
    "y = np.reshape(y, -1)\n",
    "y = y.tolist()"
   ]
  },
  {
   "cell_type": "code",
   "execution_count": 136,
   "metadata": {},
   "outputs": [
    {
     "data": {
      "image/png": "[encoded data removed]",
      "text/plain": [
       "<Figure size 640x480 with 1 Axes>"
      ]
     },
     "metadata": {},
     "output_type": "display_data"
    }
   ],
   "source": [
    "import matplotlib.pyplot as plt\n",
    "\n",
    "# Example data\n",
    "\n",
    "# Plotting the line chart\n",
    "plt.plot(train_loss_list, label='Train loss', marker='o', markersize=1)\n",
    "plt.plot(test_loss_list, label='Test loss', marker='s', markersize=1)\n",
    "# Adding labels and title\n",
    "plt.xlabel('X-axis Label')\n",
    "plt.ylabel('Y-axis Label')\n",
    "plt.title('Train Loss Curve')\n",
    "\n",
    "# Adding a legend\n",
    "plt.legend()\n",
    "\n",
    "# Display the plot\n",
    "plt.show()"
   ]
  },
  {
   "cell_type": "code",
   "execution_count": 137,
   "metadata": {},
   "outputs": [
    {
     "data": {
      "image/png": "[encoded data removed]",
      "text/plain": [
       "<Figure size 640x480 with 1 Axes>"
      ]
     },
     "metadata": {},
     "output_type": "display_data"
    }
   ],
   "source": [
    "import matplotlib.pyplot as plt\n",
    "\n",
    "# Example data\n",
    "\n",
    "# Plotting the line chart\n",
    "plt.plot(X_np[0], label='Pred', marker='o', markersize=1)\n",
    "plt.plot(Y_np, label='Y', marker='s', markersize=1)\n",
    "# Adding labels and title\n",
    "plt.xlabel('X-axis Label')\n",
    "plt.ylabel('Y-axis Label')\n",
    "plt.title('Train Loss Curve')\n",
    "\n",
    "# Adding a legend\n",
    "plt.legend()\n",
    "\n",
    "# Display the plot\n",
    "plt.show()"
   ]
  },
  {
   "cell_type": "code",
   "execution_count": 138,
   "metadata": {},
   "outputs": [
    {
     "data": {
      "image/png": "[encoded data removed]",
      "text/plain": [
       "<Figure size 640x480 with 1 Axes>"
      ]
     },
     "metadata": {},
     "output_type": "display_data"
    }
   ],
   "source": [
    "import matplotlib.pyplot as plt\n",
    "\n",
    "# Example data\n",
    "\n",
    "# Plotting the line chart\n",
    "plt.plot(z, label='Pred', marker='o', markersize=1)\n",
    "plt.plot(y, label='Y', marker='s', markersize=1)\n",
    "# Adding labels and title\n",
    "plt.xlabel('X-axis Label')\n",
    "plt.ylabel('Y-axis Label')\n",
    "plt.title('Line Chart Example')\n",
    "\n",
    "# Adding a legend\n",
    "plt.legend()\n",
    "\n",
    "# Display the plot\n",
    "plt.show()"
   ]
  }
 ],
 "metadata": {
  "kernelspec": {
   "display_name": "nlp",
   "language": "python",
   "name": "python3"
  },
  "language_info": {
   "codemirror_mode": {
    "name": "ipython",
    "version": 3
   },
   "file_extension": ".py",
   "mimetype": "text/x-python",
   "name": "python",
   "nbconvert_exporter": "python",
   "pygments_lexer": "ipython3",
   "version": "3.7.15"
  }
 },
 "nbformat": 4,
 "nbformat_minor": 2
}
