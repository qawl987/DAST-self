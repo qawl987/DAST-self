{
 "cells": [
  {
   "cell_type": "code",
   "execution_count": 189,
   "metadata": {},
   "outputs": [],
   "source": [
    "import sys\n",
    "sys.path.append('/home/kai/DAST/network')\n",
    "import torch\n",
    "import torch.nn as nn\n",
    "import torch.nn.functional as F\n",
    "import numpy as np\n",
    "import numpy as np\n",
    "import pandas as pd\n",
    "import matplotlib.pyplot as plt\n",
    "import scipy.io as sio\n",
    "import torch.utils.data.dataloader as Data\n",
    "import os\n",
    "import time\n",
    "from torch.autograd import Variable\n",
    "from DAST_utils import *\n",
    "from DAST_Network import *\n",
    "from torch.utils.data import TensorDataset,DataLoader\n",
    "import sys\n",
    "from tqdm import tqdm\n",
    "import math"
   ]
  },
  {
   "cell_type": "code",
   "execution_count": 190,
   "metadata": {},
   "outputs": [],
   "source": [
    "from statsmodels.tsa.statespace.sarimax import SARIMAX"
   ]
  },
  {
   "cell_type": "code",
   "execution_count": 191,
   "metadata": {},
   "outputs": [],
   "source": [
    "import os\n",
    "os.environ[\"CUDA_VISIBLE_DEVICES\"] = \"1\""
   ]
  },
  {
   "cell_type": "code",
   "execution_count": 192,
   "metadata": {},
   "outputs": [],
   "source": [
    "#Myscore function\n",
    "def myScore(target, pred):\n",
    "    print('target', target.shape)\n",
    "    print('pred', pred.shape)\n",
    "    Er = 100 * ((target - pred) / target)\n",
    "    print(Er.shape)\n",
    "    A = math.exp(-np.log(0.5) * (Er / 5)) if Er <=0 else math.exp(np.log(0.5) * (Er / 20))\n",
    "    return A"
   ]
  },
  {
   "cell_type": "code",
   "execution_count": 193,
   "metadata": {},
   "outputs": [],
   "source": [
    "def RMSE(target, pred):\n",
    "    square_error = (target - pred) ** 2\n",
    "    mse =  (torch.sum(square_error)) / len(target)\n",
    "    rmse = mse ** 0.5\n",
    "    return rmse"
   ]
  },
  {
   "cell_type": "code",
   "execution_count": 194,
   "metadata": {},
   "outputs": [],
   "source": [
    "def MAE(target, pred):\n",
    "    absolute_error = np.abs(target - pred)\n",
    "    return torch.sum(absolute_error) / len(target)"
   ]
  },
  {
   "cell_type": "code",
   "execution_count": 195,
   "metadata": {},
   "outputs": [],
   "source": [
    "DATA_PATH = '../../../data/10FEMTO/processed_data/'\n",
    "FOLDER = 'Bearing1_1'"
   ]
  },
  {
   "cell_type": "code",
   "execution_count": 196,
   "metadata": {},
   "outputs": [],
   "source": [
    "X_np = np.load(f'../../../data/10FEMTO/processed_data/simple_data_2000_40_1_X.npy')\n",
    "Y_np = np.load(f'../../../data/10FEMTO/processed_data/simple_data_2000_40_1_Y.npy')\n",
    "X_train, X_test = X_np[:1600], X_np[:2000]\n",
    "Y_train, Y_test = Y_np[:1600], Y_np[:2000]\n",
    "Y_train = np.reshape(Y_train, (len(Y_train), -1))\n",
    "Y_test = np.reshape(Y_test, (len(Y_test), -1))"
   ]
  },
  {
   "cell_type": "code",
   "execution_count": 197,
   "metadata": {},
   "outputs": [],
   "source": [
    "from sklearn.neural_network import MLPRegressor"
   ]
  },
  {
   "cell_type": "code",
   "execution_count": 198,
   "metadata": {},
   "outputs": [],
   "source": [
    "# mlp_regressor  = MLPRegressor(hidden_layer_sizes=(5000,), max_iter=2000, random_state=42)\n",
    "# mlp_regressor.fit(X_train, Y_train)\n",
    "# predictions = mlp_regressor.predict(X_test)\n",
    "# import matplotlib.pyplot as plt\n",
    "\n",
    "# # Example data\n",
    "\n",
    "# # Plotting the line chart\n",
    "# plt.plot(predictions, label='Pred', marker='o', markersize=1)\n",
    "# plt.plot(Y_test, label='Y', marker='o', markersize=1)\n",
    "# # Adding labels and title\n",
    "# plt.xlabel('X-axis Label')\n",
    "# plt.ylabel('Y-axis Label')\n",
    "# plt.title('Line Chart Example')\n",
    "\n",
    "# # Adding a legend\n",
    "# plt.legend()\n",
    "\n",
    "# # Display the plot\n",
    "# plt.show()"
   ]
  },
  {
   "cell_type": "code",
   "execution_count": 199,
   "metadata": {},
   "outputs": [],
   "source": [
    "X_train = Variable(torch.Tensor(X_train).float())\n",
    "Y_train = Variable(torch.Tensor(Y_train).float())\n",
    "X_test = Variable(torch.Tensor(X_test).float())\n",
    "Y_test = Variable(torch.Tensor(Y_test).float())"
   ]
  },
  {
   "cell_type": "code",
   "execution_count": 200,
   "metadata": {},
   "outputs": [],
   "source": [
    "#Hyperparameters\n",
    "FEATURE = 1\n",
    "EMBEDD = 20\n",
    "batch_size = 256\n",
    "dim_val = FEATURE\n",
    "dim_attn = EMBEDD\n",
    "dim_val_t = FEATURE\n",
    "dim_attn_t = EMBEDD\n",
    "dim_val_s = FEATURE\n",
    "dim_attn_s = EMBEDD\n",
    "n_heads = 4\n",
    "n_decoder_layers = 1\n",
    "n_encoder_layers = 2\n",
    "lr = 1e-3\n",
    "epochs = 50\n",
    "time_step = 40\n",
    "dec_seq_len = 4\n",
    "output_sequence_length = 1\n",
    "input_size = FEATURE"
   ]
  },
  {
   "cell_type": "code",
   "execution_count": 201,
   "metadata": {},
   "outputs": [],
   "source": [
    "train_dataset = TensorDataset(X_train,Y_train)\n",
    "train_loader = Data.DataLoader(dataset=train_dataset,batch_size = batch_size,shuffle=False)\n",
    "test_dataset = TensorDataset(X_test,Y_test)\n",
    "test_loader = Data.DataLoader(dataset=test_dataset,batch_size = batch_size,shuffle=False)"
   ]
  },
  {
   "cell_type": "code",
   "execution_count": 202,
   "metadata": {},
   "outputs": [],
   "source": [
    "# Initialize model parameters\n",
    "device = torch.device('cuda') if torch.cuda.is_available() else torch.device('cpu')\n",
    "# debug = True\n",
    "debug = False\n",
    "model = DAST(dim_val_s,dim_attn_s,dim_val_t,dim_attn_t,dim_val, dim_attn,time_step,input_size,dec_seq_len,output_sequence_length, n_decoder_layers, n_encoder_layers, n_heads, debug)\n",
    "model = model.to(device)\n",
    "optimizer = torch.optim.Adam(model.parameters(), lr=lr)\n",
    "criterion = nn.MSELoss()"
   ]
  },
  {
   "cell_type": "code",
   "execution_count": 203,
   "metadata": {},
   "outputs": [],
   "source": [
    "loss_list = []\n",
    "train_loss_list = []\n",
    "test_loss_list = []\n",
    "train_time = []\n",
    "test_time = []"
   ]
  },
  {
   "cell_type": "code",
   "execution_count": 204,
   "metadata": {},
   "outputs": [
    {
     "name": "stderr",
     "output_type": "stream",
     "text": [
      "100%|██████████| 7/7 [00:00<00:00, 20.20it/s]\n"
     ]
    },
    {
     "name": "stdout",
     "output_type": "stream",
     "text": [
      "epoch =  0 train_loss =  0.060332140918555\n",
      "rmse_loss =  0.28753721714019775 mae_loss =  0.24776872992515564 mse_loss =  0.08267765492200851\n"
     ]
    },
    {
     "name": "stderr",
     "output_type": "stream",
     "text": [
      "100%|██████████| 7/7 [00:00<00:00, 20.06it/s]\n"
     ]
    },
    {
     "name": "stdout",
     "output_type": "stream",
     "text": [
      "epoch =  1 train_loss =  0.06001188367372379\n",
      "rmse_loss =  0.28773486614227295 mae_loss =  0.2478846162557602 mse_loss =  0.08279135078191757\n"
     ]
    },
    {
     "name": "stderr",
     "output_type": "stream",
     "text": [
      "100%|██████████| 7/7 [00:00<00:00, 23.27it/s]\n"
     ]
    },
    {
     "name": "stdout",
     "output_type": "stream",
     "text": [
      "epoch =  2 train_loss =  0.05986931744319875\n",
      "rmse_loss =  0.2878343462944031 mae_loss =  0.2479429692029953 mse_loss =  0.08284860849380493\n"
     ]
    },
    {
     "name": "stderr",
     "output_type": "stream",
     "text": [
      "100%|██████████| 7/7 [00:00<00:00, 23.47it/s]\n"
     ]
    },
    {
     "name": "stdout",
     "output_type": "stream",
     "text": [
      "epoch =  3 train_loss =  0.059788040089188144\n",
      "rmse_loss =  0.28789782524108887 mae_loss =  0.2479802668094635 mse_loss =  0.08288516104221344\n"
     ]
    },
    {
     "name": "stderr",
     "output_type": "stream",
     "text": [
      "100%|██████████| 7/7 [00:00<00:00, 23.69it/s]\n"
     ]
    },
    {
     "name": "stdout",
     "output_type": "stream",
     "text": [
      "epoch =  4 train_loss =  0.05973554060328752\n",
      "rmse_loss =  0.2879451513290405 mae_loss =  0.24800804257392883 mse_loss =  0.08291240781545639\n"
     ]
    },
    {
     "name": "stderr",
     "output_type": "stream",
     "text": [
      "100%|██████████| 7/7 [00:00<00:00, 21.86it/s]\n"
     ]
    },
    {
     "name": "stdout",
     "output_type": "stream",
     "text": [
      "epoch =  5 train_loss =  0.059698879156106464\n",
      "rmse_loss =  0.28798437118530273 mae_loss =  0.2480311244726181 mse_loss =  0.08293500542640686\n"
     ]
    },
    {
     "name": "stderr",
     "output_type": "stream",
     "text": [
      "100%|██████████| 7/7 [00:00<00:00, 24.67it/s]\n"
     ]
    },
    {
     "name": "stdout",
     "output_type": "stream",
     "text": [
      "epoch =  6 train_loss =  0.059671833757216075\n",
      "rmse_loss =  0.2880192697048187 mae_loss =  0.2480515092611313 mse_loss =  0.08295509964227676\n"
     ]
    },
    {
     "name": "stderr",
     "output_type": "stream",
     "text": [
      "100%|██████████| 7/7 [00:00<00:00, 24.78it/s]\n"
     ]
    },
    {
     "name": "stdout",
     "output_type": "stream",
     "text": [
      "epoch =  7 train_loss =  0.059651039941984764\n",
      "rmse_loss =  0.2880515158176422 mae_loss =  0.24807050824165344 mse_loss =  0.0829736739397049\n"
     ]
    },
    {
     "name": "stderr",
     "output_type": "stream",
     "text": [
      "100%|██████████| 7/7 [00:00<00:00, 23.06it/s]\n"
     ]
    },
    {
     "name": "stdout",
     "output_type": "stream",
     "text": [
      "epoch =  8 train_loss =  0.05963452232055484\n",
      "rmse_loss =  0.28808197379112244 mae_loss =  0.24808838963508606 mse_loss =  0.08299122005701065\n"
     ]
    },
    {
     "name": "stderr",
     "output_type": "stream",
     "text": [
      "100%|██████████| 7/7 [00:00<00:00, 23.15it/s]\n"
     ]
    },
    {
     "name": "stdout",
     "output_type": "stream",
     "text": [
      "epoch =  9 train_loss =  0.05962105315245156\n",
      "rmse_loss =  0.2881110906600952 mae_loss =  0.2481054663658142 mse_loss =  0.08300800621509552\n"
     ]
    },
    {
     "name": "stderr",
     "output_type": "stream",
     "text": [
      "100%|██████████| 7/7 [00:00<00:00, 23.13it/s]\n"
     ]
    },
    {
     "name": "stdout",
     "output_type": "stream",
     "text": [
      "epoch =  10 train_loss =  0.05960982871036251\n",
      "rmse_loss =  0.28813910484313965 mae_loss =  0.248121976852417 mse_loss =  0.08302414417266846\n"
     ]
    },
    {
     "name": "stderr",
     "output_type": "stream",
     "text": [
      "100%|██████████| 7/7 [00:00<00:00, 23.29it/s]\n"
     ]
    },
    {
     "name": "stdout",
     "output_type": "stream",
     "text": [
      "epoch =  11 train_loss =  0.05960030606920121\n",
      "rmse_loss =  0.2881661057472229 mae_loss =  0.24813781678676605 mse_loss =  0.08303970098495483\n"
     ]
    },
    {
     "name": "stderr",
     "output_type": "stream",
     "text": [
      "100%|██████████| 7/7 [00:00<00:00, 22.39it/s]\n"
     ]
    },
    {
     "name": "stdout",
     "output_type": "stream",
     "text": [
      "epoch =  12 train_loss =  0.05959210340266249\n",
      "rmse_loss =  0.28819218277931213 mae_loss =  0.24815310537815094 mse_loss =  0.08305472880601883\n"
     ]
    },
    {
     "name": "stderr",
     "output_type": "stream",
     "text": [
      "100%|██████████| 7/7 [00:00<00:00, 24.15it/s]\n"
     ]
    },
    {
     "name": "stdout",
     "output_type": "stream",
     "text": [
      "epoch =  13 train_loss =  0.05958494694300034\n",
      "rmse_loss =  0.28821736574172974 mae_loss =  0.24816791713237762 mse_loss =  0.08306924998760223\n"
     ]
    },
    {
     "name": "stderr",
     "output_type": "stream",
     "text": [
      "100%|██████████| 7/7 [00:00<00:00, 23.60it/s]\n"
     ]
    },
    {
     "name": "stdout",
     "output_type": "stream",
     "text": [
      "epoch =  14 train_loss =  0.05957863543825667\n",
      "rmse_loss =  0.2882417142391205 mae_loss =  0.2481822818517685 mse_loss =  0.08308329433202744\n"
     ]
    },
    {
     "name": "stderr",
     "output_type": "stream",
     "text": [
      "100%|██████████| 7/7 [00:00<00:00, 24.46it/s]\n"
     ]
    },
    {
     "name": "stdout",
     "output_type": "stream",
     "text": [
      "epoch =  15 train_loss =  0.05957301524696439\n",
      "rmse_loss =  0.28826528787612915 mae_loss =  0.24819611012935638 mse_loss =  0.08309686928987503\n"
     ]
    },
    {
     "name": "stderr",
     "output_type": "stream",
     "text": [
      "100%|██████████| 7/7 [00:00<00:00, 23.72it/s]\n"
     ]
    },
    {
     "name": "stdout",
     "output_type": "stream",
     "text": [
      "epoch =  16 train_loss =  0.05956796945186191\n",
      "rmse_loss =  0.28828802704811096 mae_loss =  0.2482094168663025 mse_loss =  0.08310998231172562\n"
     ]
    },
    {
     "name": "stderr",
     "output_type": "stream",
     "text": [
      "100%|██████████| 7/7 [00:00<00:00, 24.76it/s]\n"
     ]
    },
    {
     "name": "stdout",
     "output_type": "stream",
     "text": [
      "epoch =  17 train_loss =  0.059563406535224725\n",
      "rmse_loss =  0.2883099913597107 mae_loss =  0.24822235107421875 mse_loss =  0.08312264829874039\n"
     ]
    },
    {
     "name": "stderr",
     "output_type": "stream",
     "text": [
      "100%|██████████| 7/7 [00:00<00:00, 22.27it/s]\n"
     ]
    },
    {
     "name": "stdout",
     "output_type": "stream",
     "text": [
      "epoch =  18 train_loss =  0.05955925493508129\n",
      "rmse_loss =  0.2883312404155731 mae_loss =  0.24823489785194397 mse_loss =  0.08313489705324173\n"
     ]
    },
    {
     "name": "stderr",
     "output_type": "stream",
     "text": [
      "100%|██████████| 7/7 [00:00<00:00, 22.90it/s]\n"
     ]
    },
    {
     "name": "stdout",
     "output_type": "stream",
     "text": [
      "epoch =  19 train_loss =  0.059555456335822654\n",
      "rmse_loss =  0.28835174441337585 mae_loss =  0.2482469230890274 mse_loss =  0.08314672857522964\n"
     ]
    },
    {
     "name": "stderr",
     "output_type": "stream",
     "text": [
      "100%|██████████| 7/7 [00:00<00:00, 23.88it/s]\n"
     ]
    },
    {
     "name": "stdout",
     "output_type": "stream",
     "text": [
      "epoch =  20 train_loss =  0.05955196330149588\n",
      "rmse_loss =  0.28837156295776367 mae_loss =  0.2482585459947586 mse_loss =  0.08315815776586533\n"
     ]
    },
    {
     "name": "stderr",
     "output_type": "stream",
     "text": [
      "100%|██████████| 7/7 [00:00<00:00, 23.79it/s]\n"
     ]
    },
    {
     "name": "stdout",
     "output_type": "stream",
     "text": [
      "epoch =  21 train_loss =  0.05954873679408368\n",
      "rmse_loss =  0.2883906960487366 mae_loss =  0.24826979637145996 mse_loss =  0.08316919952630997\n"
     ]
    },
    {
     "name": "stderr",
     "output_type": "stream",
     "text": [
      "100%|██████████| 7/7 [00:00<00:00, 23.67it/s]\n"
     ]
    },
    {
     "name": "stdout",
     "output_type": "stream",
     "text": [
      "epoch =  22 train_loss =  0.059545744383296934\n",
      "rmse_loss =  0.28840917348861694 mae_loss =  0.24828067421913147 mse_loss =  0.08317984640598297\n"
     ]
    },
    {
     "name": "stderr",
     "output_type": "stream",
     "text": [
      "100%|██████████| 7/7 [00:00<00:00, 22.29it/s]\n"
     ]
    },
    {
     "name": "stdout",
     "output_type": "stream",
     "text": [
      "epoch =  23 train_loss =  0.059542959567070716\n",
      "rmse_loss =  0.2884270250797272 mae_loss =  0.24829119443893433 mse_loss =  0.08319014310836792\n"
     ]
    },
    {
     "name": "stderr",
     "output_type": "stream",
     "text": [
      "100%|██████████| 7/7 [00:00<00:00, 25.16it/s]\n"
     ]
    },
    {
     "name": "stdout",
     "output_type": "stream",
     "text": [
      "epoch =  24 train_loss =  0.05954035943174469\n",
      "rmse_loss =  0.2884442210197449 mae_loss =  0.24830129742622375 mse_loss =  0.08320007473230362\n"
     ]
    },
    {
     "name": "stderr",
     "output_type": "stream",
     "text": [
      "100%|██████████| 7/7 [00:00<00:00, 24.81it/s]\n"
     ]
    },
    {
     "name": "stdout",
     "output_type": "stream",
     "text": [
      "epoch =  25 train_loss =  0.05953792436624069\n",
      "rmse_loss =  0.2884608507156372 mae_loss =  0.24831107258796692 mse_loss =  0.08320966362953186\n"
     ]
    },
    {
     "name": "stderr",
     "output_type": "stream",
     "text": [
      "100%|██████████| 7/7 [00:00<00:00, 23.11it/s]\n"
     ]
    },
    {
     "name": "stdout",
     "output_type": "stream",
     "text": [
      "epoch =  26 train_loss =  0.05953563760015029\n",
      "rmse_loss =  0.2884768843650818 mae_loss =  0.24832046031951904 mse_loss =  0.08321891725063324\n"
     ]
    },
    {
     "name": "stderr",
     "output_type": "stream",
     "text": [
      "100%|██████████| 7/7 [00:00<00:00, 24.51it/s]\n"
     ]
    },
    {
     "name": "stdout",
     "output_type": "stream",
     "text": [
      "epoch =  27 train_loss =  0.059533485313592364\n",
      "rmse_loss =  0.2884923815727234 mae_loss =  0.24832962453365326 mse_loss =  0.08322785049676895\n"
     ]
    },
    {
     "name": "stderr",
     "output_type": "stream",
     "text": [
      "100%|██████████| 7/7 [00:00<00:00, 24.34it/s]\n"
     ]
    },
    {
     "name": "stdout",
     "output_type": "stream",
     "text": [
      "epoch =  28 train_loss =  0.05953145471144596\n",
      "rmse_loss =  0.2885073125362396 mae_loss =  0.24833843111991882 mse_loss =  0.08323647081851959\n"
     ]
    },
    {
     "name": "stderr",
     "output_type": "stream",
     "text": [
      "100%|██████████| 7/7 [00:00<00:00, 23.30it/s]\n"
     ]
    },
    {
     "name": "stdout",
     "output_type": "stream",
     "text": [
      "epoch =  29 train_loss =  0.05952953494575229\n",
      "rmse_loss =  0.28852173686027527 mae_loss =  0.24834692478179932 mse_loss =  0.08324479311704636\n"
     ]
    },
    {
     "name": "stderr",
     "output_type": "stream",
     "text": [
      "100%|██████████| 7/7 [00:00<00:00, 23.65it/s]\n"
     ]
    },
    {
     "name": "stdout",
     "output_type": "stream",
     "text": [
      "epoch =  30 train_loss =  0.0595277165232252\n",
      "rmse_loss =  0.2885356843471527 mae_loss =  0.24835512042045593 mse_loss =  0.08325283974409103\n"
     ]
    },
    {
     "name": "stderr",
     "output_type": "stream",
     "text": [
      "100%|██████████| 7/7 [00:00<00:00, 24.08it/s]\n"
     ]
    },
    {
     "name": "stdout",
     "output_type": "stream",
     "text": [
      "epoch =  31 train_loss =  0.05952599085243752\n",
      "rmse_loss =  0.2885490953922272 mae_loss =  0.24836301803588867 mse_loss =  0.08326058834791183\n"
     ]
    },
    {
     "name": "stderr",
     "output_type": "stream",
     "text": [
      "100%|██████████| 7/7 [00:00<00:00, 24.54it/s]\n"
     ]
    },
    {
     "name": "stdout",
     "output_type": "stream",
     "text": [
      "epoch =  32 train_loss =  0.059524350525464585\n",
      "rmse_loss =  0.2885620594024658 mae_loss =  0.24837061762809753 mse_loss =  0.08326806873083115\n"
     ]
    },
    {
     "name": "stderr",
     "output_type": "stream",
     "text": [
      "100%|██████████| 7/7 [00:00<00:00, 22.74it/s]\n"
     ]
    },
    {
     "name": "stdout",
     "output_type": "stream",
     "text": [
      "epoch =  33 train_loss =  0.0595227888283445\n",
      "rmse_loss =  0.28857457637786865 mae_loss =  0.2483779340982437 mse_loss =  0.08327528834342957\n"
     ]
    },
    {
     "name": "stderr",
     "output_type": "stream",
     "text": [
      "100%|██████████| 7/7 [00:00<00:00, 24.53it/s]\n"
     ]
    },
    {
     "name": "stdout",
     "output_type": "stream",
     "text": [
      "epoch =  34 train_loss =  0.0595212998795228\n",
      "rmse_loss =  0.28858664631843567 mae_loss =  0.24838505685329437 mse_loss =  0.08328224718570709\n"
     ]
    },
    {
     "name": "stderr",
     "output_type": "stream",
     "text": [
      "100%|██████████| 7/7 [00:00<00:00, 24.55it/s]\n"
     ]
    },
    {
     "name": "stdout",
     "output_type": "stream",
     "text": [
      "epoch =  35 train_loss =  0.05951987868978731\n",
      "rmse_loss =  0.28859826922416687 mae_loss =  0.24839194118976593 mse_loss =  0.08328895270824432\n"
     ]
    },
    {
     "name": "stderr",
     "output_type": "stream",
     "text": [
      "100%|██████████| 7/7 [00:00<00:00, 24.85it/s]\n"
     ]
    },
    {
     "name": "stdout",
     "output_type": "stream",
     "text": [
      "epoch =  36 train_loss =  0.05951852005282525\n",
      "rmse_loss =  0.28860947489738464 mae_loss =  0.2483985424041748 mse_loss =  0.08329543471336365\n"
     ]
    },
    {
     "name": "stderr",
     "output_type": "stream",
     "text": [
      "100%|██████████| 7/7 [00:00<00:00, 24.40it/s]\n"
     ]
    },
    {
     "name": "stdout",
     "output_type": "stream",
     "text": [
      "epoch =  37 train_loss =  0.059517219884555675\n",
      "rmse_loss =  0.28862032294273376 mae_loss =  0.24840490520000458 mse_loss =  0.08330168575048447\n"
     ]
    },
    {
     "name": "stderr",
     "output_type": "stream",
     "text": [
      "100%|██████████| 7/7 [00:00<00:00, 24.91it/s]\n"
     ]
    },
    {
     "name": "stdout",
     "output_type": "stream",
     "text": [
      "epoch =  38 train_loss =  0.05951597421530689\n",
      "rmse_loss =  0.28863075375556946 mae_loss =  0.24841107428073883 mse_loss =  0.08330771327018738\n"
     ]
    },
    {
     "name": "stderr",
     "output_type": "stream",
     "text": [
      "100%|██████████| 7/7 [00:00<00:00, 23.41it/s]\n"
     ]
    },
    {
     "name": "stdout",
     "output_type": "stream",
     "text": [
      "epoch =  39 train_loss =  0.0595147795563597\n",
      "rmse_loss =  0.2886408269405365 mae_loss =  0.2484169751405716 mse_loss =  0.08331353217363358\n"
     ]
    },
    {
     "name": "stderr",
     "output_type": "stream",
     "text": [
      "100%|██████████| 7/7 [00:00<00:00, 24.64it/s]\n"
     ]
    },
    {
     "name": "stdout",
     "output_type": "stream",
     "text": [
      "epoch =  40 train_loss =  0.05951363266200697\n",
      "rmse_loss =  0.2886505424976349 mae_loss =  0.24842266738414764 mse_loss =  0.08331913501024246\n"
     ]
    },
    {
     "name": "stderr",
     "output_type": "stream",
     "text": [
      "100%|██████████| 7/7 [00:00<00:00, 24.68it/s]\n"
     ]
    },
    {
     "name": "stdout",
     "output_type": "stream",
     "text": [
      "epoch =  41 train_loss =  0.05951253063604552\n",
      "rmse_loss =  0.2886599004268646 mae_loss =  0.24842818081378937 mse_loss =  0.08332454413175583\n"
     ]
    },
    {
     "name": "stderr",
     "output_type": "stream",
     "text": [
      "100%|██████████| 7/7 [00:00<00:00, 24.07it/s]\n"
     ]
    },
    {
     "name": "stdout",
     "output_type": "stream",
     "text": [
      "epoch =  42 train_loss =  0.05951147062427046\n",
      "rmse_loss =  0.2886689603328705 mae_loss =  0.24843347072601318 mse_loss =  0.08332976698875427\n"
     ]
    },
    {
     "name": "stderr",
     "output_type": "stream",
     "text": [
      "100%|██████████| 7/7 [00:00<00:00, 23.92it/s]\n"
     ]
    },
    {
     "name": "stdout",
     "output_type": "stream",
     "text": [
      "epoch =  43 train_loss =  0.05951045019372197\n",
      "rmse_loss =  0.2886776626110077 mae_loss =  0.24843862652778625 mse_loss =  0.0833347961306572\n"
     ]
    },
    {
     "name": "stderr",
     "output_type": "stream",
     "text": [
      "100%|██████████| 7/7 [00:00<00:00, 23.41it/s]\n"
     ]
    },
    {
     "name": "stdout",
     "output_type": "stream",
     "text": [
      "epoch =  44 train_loss =  0.059509467207161444\n",
      "rmse_loss =  0.288686066865921 mae_loss =  0.2484436184167862 mse_loss =  0.0833396464586258\n"
     ]
    },
    {
     "name": "stderr",
     "output_type": "stream",
     "text": [
      "100%|██████████| 7/7 [00:00<00:00, 23.70it/s]\n"
     ]
    },
    {
     "name": "stdout",
     "output_type": "stream",
     "text": [
      "epoch =  45 train_loss =  0.0595085194402357\n",
      "rmse_loss =  0.2886941730976105 mae_loss =  0.24844840168952942 mse_loss =  0.08334432542324066\n"
     ]
    },
    {
     "name": "stderr",
     "output_type": "stream",
     "text": [
      "100%|██████████| 7/7 [00:00<00:00, 24.65it/s]\n"
     ]
    },
    {
     "name": "stdout",
     "output_type": "stream",
     "text": [
      "epoch =  46 train_loss =  0.059507604902836644\n",
      "rmse_loss =  0.28870198130607605 mae_loss =  0.24845299124717712 mse_loss =  0.0833488404750824\n"
     ]
    },
    {
     "name": "stderr",
     "output_type": "stream",
     "text": [
      "100%|██████████| 7/7 [00:00<00:00, 23.25it/s]\n"
     ]
    },
    {
     "name": "stdout",
     "output_type": "stream",
     "text": [
      "epoch =  47 train_loss =  0.05950672199382791\n",
      "rmse_loss =  0.28870952129364014 mae_loss =  0.2484574317932129 mse_loss =  0.083353191614151\n"
     ]
    },
    {
     "name": "stderr",
     "output_type": "stream",
     "text": [
      "100%|██████████| 7/7 [00:00<00:00, 24.48it/s]\n"
     ]
    },
    {
     "name": "stdout",
     "output_type": "stream",
     "text": [
      "epoch =  48 train_loss =  0.05950586899806835\n",
      "rmse_loss =  0.28871679306030273 mae_loss =  0.2484617382287979 mse_loss =  0.08335739374160767\n"
     ]
    },
    {
     "name": "stderr",
     "output_type": "stream",
     "text": [
      "100%|██████████| 7/7 [00:00<00:00, 24.92it/s]\n"
     ]
    },
    {
     "name": "stdout",
     "output_type": "stream",
     "text": [
      "epoch =  49 train_loss =  0.0595050441616747\n",
      "rmse_loss =  0.28872382640838623 mae_loss =  0.24846585094928741 mse_loss =  0.0833614394068718\n"
     ]
    }
   ],
   "source": [
    "for epoch in range(epochs):\n",
    "    #training\n",
    "    model.train()\n",
    "    loop = tqdm(train_loader, leave=True)\n",
    "    for i,(X, Y) in enumerate(loop):\n",
    "        batch_X = X.to(device)\n",
    "        batch_Y = Y.to(device)\n",
    "        out = model(batch_X)\n",
    "        loss = criterion(out, batch_Y)\n",
    "        optimizer.zero_grad()\n",
    "        loss.backward()\n",
    "        optimizer.step()\n",
    "        loss_list.append(loss.item())\n",
    "    loss_eopch = np.mean(np.array(loss_list))\n",
    "    train_loss_list.append(loss_eopch)\n",
    "    print('epoch = ',epoch,\n",
    "            'train_loss = ',loss_eopch.item())\n",
    "\n",
    "    #testing\n",
    "    model.eval()\n",
    "    prediction_list = []\n",
    "    for j ,(batch_x,batch_y) in enumerate(test_loader):\n",
    "        batch_X = batch_x.to(device)\n",
    "        batch_Y = batch_y.to(device)\n",
    "        prediction = model(batch_X)\n",
    "        # prediction[prediction<0] = 0\n",
    "        prediction_list.append(prediction)\n",
    "        \n",
    "    out_batch_pre = torch.cat(prediction_list).detach().cpu()\n",
    "    # prediction_tensor = torch.from_numpy(out_batch_pre)\n",
    "    rmse_loss = RMSE(Y_test, out_batch_pre, )\n",
    "    mae_loss = MAE(Y_test, out_batch_pre, )\n",
    "    test_loss = criterion(out_batch_pre, Y_test)\n",
    "    test_loss_list.append(test_loss)\n",
    "    print('rmse_loss = ', rmse_loss.item(),\n",
    "            'mae_loss = ', mae_loss.item(),\n",
    "            'mse_loss = ', test_loss.item())"
   ]
  },
  {
   "cell_type": "code",
   "execution_count": 205,
   "metadata": {},
   "outputs": [],
   "source": [
    "z = np.reshape(out_batch_pre, (-1))\n",
    "z = z.tolist()"
   ]
  },
  {
   "cell_type": "code",
   "execution_count": 206,
   "metadata": {},
   "outputs": [],
   "source": [
    "y = Y_test.detach().cpu().numpy()\n",
    "y = np.reshape(y, -1)\n",
    "y = y.tolist()"
   ]
  },
  {
   "cell_type": "code",
   "execution_count": 207,
   "metadata": {},
   "outputs": [
    {
     "data": {
      "image/png": "[encoded data removed]",
      "text/plain": [
       "<Figure size 640x480 with 1 Axes>"
      ]
     },
     "metadata": {},
     "output_type": "display_data"
    }
   ],
   "source": [
    "import matplotlib.pyplot as plt\n",
    "\n",
    "# Example data\n",
    "\n",
    "# Plotting the line chart\n",
    "plt.plot(train_loss_list, label='Train loss', marker='o', markersize=1)\n",
    "plt.plot(test_loss_list, label='Test loss', marker='s', markersize=1)\n",
    "# Adding labels and title\n",
    "plt.xlabel('X-axis Label')\n",
    "plt.ylabel('Y-axis Label')\n",
    "plt.title('Train Loss Curve')\n",
    "\n",
    "# Adding a legend\n",
    "plt.legend()\n",
    "\n",
    "# Display the plot\n",
    "plt.show()"
   ]
  },
  {
   "cell_type": "code",
   "execution_count": 208,
   "metadata": {},
   "outputs": [
    {
     "data": {
      "image/png": "[encoded data removed]",
      "text/plain": [
       "<Figure size 640x480 with 1 Axes>"
      ]
     },
     "metadata": {},
     "output_type": "display_data"
    }
   ],
   "source": [
    "import matplotlib.pyplot as plt\n",
    "\n",
    "# Example data\n",
    "\n",
    "# Plotting the line chart\n",
    "plt.plot(X_np[0], label='Pred', marker='o', markersize=1)\n",
    "plt.plot(Y_np, label='Y', marker='s', markersize=1)\n",
    "# Adding labels and title\n",
    "plt.xlabel('X-axis Label')\n",
    "plt.ylabel('Y-axis Label')\n",
    "plt.title('Train Loss Curve')\n",
    "\n",
    "# Adding a legend\n",
    "plt.legend()\n",
    "\n",
    "# Display the plot\n",
    "plt.show()"
   ]
  },
  {
   "cell_type": "code",
   "execution_count": 209,
   "metadata": {},
   "outputs": [
    {
     "data": {
      "image/png": "[encoded data removed]",
      "text/plain": [
       "<Figure size 640x480 with 1 Axes>"
      ]
     },
     "metadata": {},
     "output_type": "display_data"
    }
   ],
   "source": [
    "import matplotlib.pyplot as plt\n",
    "\n",
    "# Example data\n",
    "\n",
    "# Plotting the line chart\n",
    "plt.plot(z, label='Pred', marker='o', markersize=1)\n",
    "plt.plot(y, label='Y', marker='s', markersize=1)\n",
    "# Adding labels and title\n",
    "plt.xlabel('X-axis Label')\n",
    "plt.ylabel('Y-axis Label')\n",
    "plt.title('Line Chart Example')\n",
    "\n",
    "# Adding a legend\n",
    "plt.legend()\n",
    "\n",
    "# Display the plot\n",
    "plt.show()"
   ]
  }
 ],
 "metadata": {
  "kernelspec": {
   "display_name": "nlp",
   "language": "python",
   "name": "python3"
  },
  "language_info": {
   "codemirror_mode": {
    "name": "ipython",
    "version": 3
   },
   "file_extension": ".py",
   "mimetype": "text/x-python",
   "name": "python",
   "nbconvert_exporter": "python",
   "pygments_lexer": "ipython3",
   "version": "3.7.15"
  }
 },
 "nbformat": 4,
 "nbformat_minor": 2
}
