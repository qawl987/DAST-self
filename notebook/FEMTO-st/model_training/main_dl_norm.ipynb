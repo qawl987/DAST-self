{
 "cells": [
  {
   "cell_type": "code",
   "execution_count": 1,
   "metadata": {},
   "outputs": [],
   "source": [
    "import copy\n",
    "import sys\n",
    "sys.path.append('/home/kai/DAST/network')\n",
    "import torch\n",
    "import torch.nn as nn\n",
    "import numpy as np\n",
    "import numpy as np\n",
    "import matplotlib.pyplot as plt\n",
    "import os\n",
    "import matplotlib.pyplot as plt\n",
    "import sys\n",
    "import os\n",
    "import time\n",
    "from torch.autograd import Variable\n",
    "from DAST_utils import *\n",
    "from DAST_Network import *\n",
    "from torch.utils.data import TensorDataset, DataLoader\n",
    "from tqdm import tqdm\n",
    "from typing import List\n",
    "os.environ[\"CUDA_VISIBLE_DEVICES\"] = \"1\"\n",
    "torch.manual_seed(42)\n",
    "if torch.cuda.is_available():\n",
    "    torch.cuda.manual_seed_all(42)\n"
   ]
  },
  {
   "cell_type": "code",
   "execution_count": 2,
   "metadata": {},
   "outputs": [],
   "source": [
    "class DASTModel():\n",
    "    def __init__(self, train_datasets: List[str], test_dataset: List[str], data_path: str, is_norm: bool, hyper_parameters: dict, model_save_path: str, model_save_name: str) -> None:\n",
    "        self.TRAIN_DATASETS = train_datasets\n",
    "        self.TEST_DATASETS = test_dataset\n",
    "        self.DATA_PATH = data_path\n",
    "        self.MODEL_SAVE_PATH = model_save_path\n",
    "        self.MODEL_SAVE_NAME = model_save_name\n",
    "        self.X_train = []\n",
    "        self.X_test = []\n",
    "        self.Y_train = []\n",
    "        self.Y_test = []\n",
    "        self.HP = hyper_parameters\n",
    "        self.device = torch.device('cuda') if torch.cuda.is_available() else torch.device('cpu')\n",
    "        self.best_predict = []\n",
    "        self.last_predict_y = None\n",
    "        self.train_loss_list = []\n",
    "        self.test_loss_list = []\n",
    "        self.best_mse_loss = 10000.0\n",
    "        self.best_rmse_loss = None\n",
    "        self.best_train_loss = 10000.0\n",
    "        self.norm = 'norm' if is_norm else ''\n",
    "        self.best_model_params = None\n",
    "        \n",
    "    @staticmethod\n",
    "    def RMSE(target, pred):\n",
    "        square_error = (target - pred) ** 2\n",
    "        mse =  (torch.sum(square_error)) / len(target)\n",
    "        rmse = mse ** 0.5\n",
    "        return rmse\n",
    "    \n",
    "    @staticmethod\n",
    "    def MAE(target, pred):\n",
    "        absolute_error = np.abs(target - pred)\n",
    "        return torch.sum(absolute_error) / len(target)\n",
    "    \n",
    "    def _load_x_y(self, folder: str):\n",
    "        y_tmp = np.load(f'{self.DATA_PATH}/{folder}/{folder}_Y.npy')\n",
    "        feature1 = self._norm(np.load(f'{self.DATA_PATH}/{folder}/{folder}_X_17_2560.npy'))\n",
    "        feature2 = self._norm(np.load(f'{self.DATA_PATH}/{folder}/{folder}_X_17_1280.npy'))\n",
    "        feature3 = self._norm(np.load(f'{self.DATA_PATH}/{folder}/{folder}_X_17_640.npy'))\n",
    "        X_train = np.concatenate((feature1, feature2, feature3), axis=2)\n",
    "        return X_train, np.reshape(y_tmp, ((len(y_tmp), -1)))\n",
    "    \n",
    "    def _norm(self, array):\n",
    "        min_list = []\n",
    "        max_list = []\n",
    "        feat_len = array.shape[2]\n",
    "        x = array.reshape(-1, feat_len)\n",
    "        for i in range(feat_len):\n",
    "            col = x[:, i]\n",
    "            mi = np.min(col)\n",
    "            ma = np.max(col)\n",
    "            min_list.append(mi)\n",
    "            max_list.append(ma)\n",
    "        min_array = np.array(min_list)\n",
    "        max_array = np.array(max_list)\n",
    "        # print('min=======')\n",
    "        # print(min_array)\n",
    "        # print('max=======')\n",
    "        # print(max_array)\n",
    "        norm_array = (x - min_array) / (max_array - min_array)\n",
    "        original_shape_array = norm_array.reshape(-1, 40, feat_len)\n",
    "        return original_shape_array\n",
    "        \n",
    "    def _concate(self):\n",
    "        self.X_train = np.concatenate(self.X_train, axis=0)\n",
    "        self.Y_train = np.concatenate(self.Y_train, axis=0)\n",
    "        self.X_test = np.concatenate(self.X_test, axis=0)\n",
    "        self.Y_test = np.concatenate(self.Y_test, axis=0)\n",
    "\n",
    "    def _load_np(self,):\n",
    "        # train\n",
    "        for folder in self.TRAIN_DATASETS:\n",
    "            X_train, Y_train = self._load_x_y(folder)\n",
    "            # print(X_train.shape)\n",
    "            # print(X_train[0][0])\n",
    "            self.X_train.append(X_train)\n",
    "            self.Y_train.append(Y_train)\n",
    "        # test\n",
    "        for folder in self.TEST_DATASETS:\n",
    "            X_test, Y_test = self._load_x_y(folder)\n",
    "            self.X_test.append(X_test)\n",
    "            self.Y_test.append(Y_test)\n",
    "        \n",
    "    def _loop_feature(self, X, selected_indices):\n",
    "        extracted_values_list = []\n",
    "        for i in range(7):\n",
    "            for num in selected_indices:\n",
    "                extracted_values = X[:, :, num + 16 * i]\n",
    "                extracted_values_list.append(extracted_values)\n",
    "        result_array = np.stack(extracted_values_list, axis=-1)\n",
    "        return result_array\n",
    "    \n",
    "    def _select_feature(self, selected_indices):\n",
    "        for i in range(len(self.X_train)):\n",
    "            self.X_train[i] = self._loop_feature(self.X_train[i], selected_indices)\n",
    "        for i in range(len(self.X_test)):\n",
    "            self.X_test[i] = self._loop_feature(self.X_test[i], selected_indices)\n",
    "        \n",
    "    def _tensorizing(self):\n",
    "        self.X_train = Variable(torch.Tensor(self.X_train).float())\n",
    "        self.Y_train = Variable(torch.Tensor(self.Y_train).float())\n",
    "        self.X_test = Variable(torch.Tensor(self.X_test).float())\n",
    "        self.Y_test = Variable(torch.Tensor(self.Y_test).float())\n",
    "        \n",
    "    def _get_dataloader(self):\n",
    "        train_dataset = TensorDataset(self.X_train, self.Y_train)\n",
    "        train_loader = DataLoader(dataset=train_dataset, batch_size=self.HP['batch_size'], shuffle=False)\n",
    "        test_dataset = TensorDataset(self.X_test, self.Y_test)\n",
    "        test_loader = DataLoader(dataset=test_dataset, batch_size=self.HP['batch_size'], shuffle=False)\n",
    "        return train_loader, test_loader\n",
    "    \n",
    "    def _get_model(self):\n",
    "        model = DAST(self.HP['dim_val_s'], self.HP['dim_attn_s'], self.HP['dim_val_t'], self.HP['dim_attn_t'], self.HP['dim_val'], self.HP['dim_attn'], self.HP['time_step'], self.HP['feature_len'], self.HP['dec_seq_len'], self.HP['output_sequence_length'], self.HP['n_decoder_layers'], self.HP['n_encoder_layers'], self.HP['n_heads'], self.HP['debug'])\n",
    "        model = model.to(self.device)\n",
    "        optimizer = torch.optim.Adam(model.parameters(), lr=self.HP['lr'])\n",
    "        criterion = nn.MSELoss()\n",
    "        return model, optimizer, criterion\n",
    "\n",
    "    def train(self, model: DAST, optimizer: torch.optim.Optimizer, criterion, train_loader: DataLoader, epoch: int):\n",
    "        model.train()\n",
    "        tmp_loss_list = []\n",
    "        loop = tqdm(train_loader, leave=True)\n",
    "        for _, (X, Y) in enumerate(loop):\n",
    "            batch_X = X.to(self.device)\n",
    "            batch_Y = Y.to(self.device)\n",
    "            out = model(batch_X)\n",
    "            loss = criterion(out, batch_Y)\n",
    "            optimizer.zero_grad()\n",
    "            loss.backward()\n",
    "            optimizer.step()\n",
    "            tmp_loss_list.append(loss.item())\n",
    "        loss_eopch = np.mean(np.array(tmp_loss_list))\n",
    "        self.train_loss_list.append(loss_eopch)\n",
    "        if (loss_eopch.item() < self.best_train_loss):\n",
    "            self.best_train_loss = loss_eopch.item()\n",
    "        print('epoch = ',epoch,\n",
    "                'train_loss = ',loss_eopch.item())\n",
    "\n",
    "    def eval(self, model: DAST, test_loader: DataLoader, criterion, epoch: int):\n",
    "        model.eval()\n",
    "        prediction_list = []\n",
    "        with torch.no_grad():\n",
    "            for _ ,(batch_x, _) in enumerate(test_loader):\n",
    "                batch_X = batch_x.to(self.device)\n",
    "                prediction = model(batch_X)\n",
    "                prediction_list.append(prediction)\n",
    "\n",
    "        out_batch_pre = torch.cat(prediction_list).detach().cpu()\n",
    "        rmse_loss = self.RMSE(self.Y_test, out_batch_pre, )\n",
    "        mae_loss = self.MAE(self.Y_test, out_batch_pre, )\n",
    "        test_loss = criterion(out_batch_pre, self.Y_test)\n",
    "        self.test_loss_list.append(test_loss)\n",
    "        if (test_loss.item() < self.best_mse_loss):\n",
    "            self.best_mse_loss = test_loss.item()\n",
    "            self.best_rmse_loss = rmse_loss.item()\n",
    "            self.best_predict = np.reshape(out_batch_pre, (-1)).tolist()\n",
    "            torch.save(model.state_dict(), f'{self.MODEL_SAVE_PATH}/{self.MODEL_SAVE_NAME}.pt')\n",
    "        print('rmse_loss = ', rmse_loss.item(),\n",
    "                'mae_loss = ', mae_loss.item(),\n",
    "                'mse_loss = ', test_loss.item())\n",
    "        if epoch == self.HP['epochs'] - 1:\n",
    "            self.last_predict_y = out_batch_pre\n",
    "\n",
    "    def main(self, selected_indices):\n",
    "        self._load_np()\n",
    "        self._select_feature(selected_indices)\n",
    "        self._concate()\n",
    "        self._tensorizing()\n",
    "        model, optimizer, criterion = self._get_model()\n",
    "        train_loader, test_loader = self._get_dataloader()\n",
    "        times = 0\n",
    "        for epoch in range(self.HP['epochs']):\n",
    "            start = time.time()\n",
    "            self.train(model, optimizer, criterion, train_loader, epoch)\n",
    "            end = time.time()\n",
    "            times += end - start\n",
    "            self.eval(model, test_loader, criterion, epoch)\n",
    "        print(f\"train time: {times/100:.7f}, s/epoch\")\n",
    "        print(f\"embed1: {self.HP['dim_val_s']}, embed2: {self.HP['dim_attn_s']}, lr: {self.HP['lr']}, dec_seq_len: {self.HP['dec_seq_len']}\")\n",
    "        print(f\"{self.best_train_loss:.7f}\")\n",
    "        print(f\"{self.best_mse_loss:.7f}\")\n",
    "        print(f\"{self.best_rmse_loss:.7f}\")"
   ]
  },
  {
   "cell_type": "code",
   "execution_count": 3,
   "metadata": {},
   "outputs": [],
   "source": [
    "selected_indices = [1, 3, 5, 7, 9, 10, 14]\n",
    "# selected_indices = [0, 1, 2, 3, 4, 5, 6, 7, 8, 9, 10, 11, 12, 13, 14, 15]\n",
    "FEATURE_LEN = len(selected_indices)\n",
    "FEATURE_SIZE = 20\n",
    "EMBEDD = 10\n",
    "HYPER_PARAMETERS = {\n",
    "    'batch_size': 256,\n",
    "    'dim_val': FEATURE_SIZE,\n",
    "    'dim_attn': EMBEDD,\n",
    "    'dim_val_t': FEATURE_SIZE,\n",
    "    'dim_attn_t': EMBEDD,\n",
    "    'dim_val_s': FEATURE_SIZE,\n",
    "    'dim_attn_s': EMBEDD,\n",
    "    'n_heads': 4,\n",
    "    'n_decoder_layers': 1,\n",
    "    'n_encoder_layers': 2,\n",
    "    'lr': 1e-3,\n",
    "    'epochs': 100,\n",
    "    'time_step': 40,\n",
    "    # limit how many last input used, important!\n",
    "    'dec_seq_len': 6,\n",
    "    'output_sequence_length': 1,\n",
    "    'feature_len': FEATURE_LEN,\n",
    "    'debug': True\n",
    "}"
   ]
  },
  {
   "cell_type": "code",
   "execution_count": 4,
   "metadata": {},
   "outputs": [],
   "source": [
    "DATA_PATH = '../../../data/10FEMTO/processed_data/'\n",
    "TRAIN_DATASETS = ['Bearing1_1', 'Bearing1_2']\n",
    "# TEST_DATASET = ['Bearing1_3']\n",
    "# TEST_DATASET = ['Bearing1_3', 'Bearing1_4', 'Bearing1_5', 'Bearing1_6', 'Bearing1_7']\n",
    "# TRAIN_DATASETS = ['Bearing2_1', 'Bearing2_2']\n",
    "# TEST_DATASET = ['Bearing2_3', 'Bearing2_4', 'Bearing2_5', 'Bearing2_6', 'Bearing2_7']\n",
    "TRAIN_DATASETS = ['Bearing3_1', 'Bearing3_2']\n",
    "TEST_DATASET = ['Bearing3_3']\n",
    "\n",
    "MODEL_SAVE_NAME = f'Bearing1_pretrain_{len(selected_indices)}_norm'\n",
    "IS_NORM = True\n",
    "MODEL_SAVE_PATH = '../../../model/norm'"
   ]
  },
  {
   "cell_type": "code",
   "execution_count": 5,
   "metadata": {},
   "outputs": [],
   "source": [
    "dast_model = DASTModel(train_datasets=TRAIN_DATASETS, test_dataset=TEST_DATASET, data_path=DATA_PATH, is_norm=IS_NORM, hyper_parameters=HYPER_PARAMETERS, model_save_path=MODEL_SAVE_PATH, model_save_name=MODEL_SAVE_NAME)"
   ]
  },
  {
   "cell_type": "code",
   "execution_count": 6,
   "metadata": {},
   "outputs": [
    {
     "name": "stderr",
     "output_type": "stream",
     "text": [
      "100%|██████████| 9/9 [00:00<00:00, 13.23it/s]\n"
     ]
    },
    {
     "name": "stdout",
     "output_type": "stream",
     "text": [
      "epoch =  0 train_loss =  0.2543840433160464\n",
      "rmse_loss =  0.3182831406593323 mae_loss =  0.28624844551086426 mse_loss =  0.10130415856838226\n"
     ]
    },
    {
     "name": "stderr",
     "output_type": "stream",
     "text": [
      "100%|██████████| 9/9 [00:00<00:00, 13.17it/s]\n"
     ]
    },
    {
     "name": "stdout",
     "output_type": "stream",
     "text": [
      "epoch =  1 train_loss =  0.11158232784105672\n",
      "rmse_loss =  0.11987175792455673 mae_loss =  0.086855448782444 mse_loss =  0.014369238168001175\n"
     ]
    },
    {
     "name": "stderr",
     "output_type": "stream",
     "text": [
      "100%|██████████| 9/9 [00:00<00:00, 12.88it/s]\n"
     ]
    },
    {
     "name": "stdout",
     "output_type": "stream",
     "text": [
      "epoch =  2 train_loss =  0.051147359940740794\n",
      "rmse_loss =  0.11295289546251297 mae_loss =  0.0847979336977005 mse_loss =  0.012758356519043446\n"
     ]
    },
    {
     "name": "stderr",
     "output_type": "stream",
     "text": [
      "100%|██████████| 9/9 [00:00<00:00, 13.18it/s]\n"
     ]
    },
    {
     "name": "stdout",
     "output_type": "stream",
     "text": [
      "epoch =  3 train_loss =  0.04205892491154373\n",
      "rmse_loss =  0.1593417078256607 mae_loss =  0.11963853985071182 mse_loss =  0.0253897774964571\n"
     ]
    },
    {
     "name": "stderr",
     "output_type": "stream",
     "text": [
      "100%|██████████| 9/9 [00:00<00:00, 12.98it/s]\n"
     ]
    },
    {
     "name": "stdout",
     "output_type": "stream",
     "text": [
      "epoch =  4 train_loss =  0.04480817172831545\n",
      "rmse_loss =  0.14487114548683167 mae_loss =  0.11644890159368515 mse_loss =  0.020987650379538536\n"
     ]
    },
    {
     "name": "stderr",
     "output_type": "stream",
     "text": [
      "100%|██████████| 9/9 [00:00<00:00, 12.97it/s]\n"
     ]
    },
    {
     "name": "stdout",
     "output_type": "stream",
     "text": [
      "epoch =  5 train_loss =  0.038942177676492266\n",
      "rmse_loss =  0.1876336634159088 mae_loss =  0.17288364470005035 mse_loss =  0.0352063924074173\n"
     ]
    },
    {
     "name": "stderr",
     "output_type": "stream",
     "text": [
      "100%|██████████| 9/9 [00:00<00:00, 13.46it/s]\n"
     ]
    },
    {
     "name": "stdout",
     "output_type": "stream",
     "text": [
      "epoch =  6 train_loss =  0.04138270103269153\n",
      "rmse_loss =  0.19414877891540527 mae_loss =  0.17975150048732758 mse_loss =  0.03769374638795853\n"
     ]
    },
    {
     "name": "stderr",
     "output_type": "stream",
     "text": [
      "100%|██████████| 9/9 [00:00<00:00, 14.67it/s]\n"
     ]
    },
    {
     "name": "stdout",
     "output_type": "stream",
     "text": [
      "epoch =  7 train_loss =  0.04031867911625239\n",
      "rmse_loss =  0.21201974153518677 mae_loss =  0.19643016159534454 mse_loss =  0.04495237395167351\n"
     ]
    },
    {
     "name": "stderr",
     "output_type": "stream",
     "text": [
      "100%|██████████| 9/9 [00:00<00:00, 13.51it/s]\n"
     ]
    },
    {
     "name": "stdout",
     "output_type": "stream",
     "text": [
      "epoch =  8 train_loss =  0.03806966605285803\n",
      "rmse_loss =  0.23843413591384888 mae_loss =  0.2223813533782959 mse_loss =  0.05685083568096161\n"
     ]
    },
    {
     "name": "stderr",
     "output_type": "stream",
     "text": [
      "100%|██████████| 9/9 [00:00<00:00, 14.07it/s]\n"
     ]
    },
    {
     "name": "stdout",
     "output_type": "stream",
     "text": [
      "epoch =  9 train_loss =  0.038248148332867354\n",
      "rmse_loss =  0.2520475387573242 mae_loss =  0.23555110394954681 mse_loss =  0.06352795660495758\n"
     ]
    },
    {
     "name": "stderr",
     "output_type": "stream",
     "text": [
      "100%|██████████| 9/9 [00:00<00:00, 13.31it/s]\n"
     ]
    },
    {
     "name": "stdout",
     "output_type": "stream",
     "text": [
      "epoch =  10 train_loss =  0.03815894529947804\n",
      "rmse_loss =  0.2639135718345642 mae_loss =  0.24687890708446503 mse_loss =  0.06965036690235138\n"
     ]
    },
    {
     "name": "stderr",
     "output_type": "stream",
     "text": [
      "100%|██████████| 9/9 [00:00<00:00, 13.12it/s]\n"
     ]
    },
    {
     "name": "stdout",
     "output_type": "stream",
     "text": [
      "epoch =  11 train_loss =  0.037884343415498734\n",
      "rmse_loss =  0.2741175591945648 mae_loss =  0.25652649998664856 mse_loss =  0.07514043152332306\n"
     ]
    },
    {
     "name": "stderr",
     "output_type": "stream",
     "text": [
      "100%|██████████| 9/9 [00:00<00:00, 12.98it/s]\n"
     ]
    },
    {
     "name": "stdout",
     "output_type": "stream",
     "text": [
      "epoch =  12 train_loss =  0.03769406324459447\n",
      "rmse_loss =  0.2815342843532562 mae_loss =  0.2634326219558716 mse_loss =  0.07926155626773834\n"
     ]
    },
    {
     "name": "stderr",
     "output_type": "stream",
     "text": [
      "100%|██████████| 9/9 [00:00<00:00, 11.59it/s]\n"
     ]
    },
    {
     "name": "stdout",
     "output_type": "stream",
     "text": [
      "epoch =  13 train_loss =  0.03729782538074586\n",
      "rmse_loss =  0.28918179869651794 mae_loss =  0.27064982056617737 mse_loss =  0.08362612128257751\n"
     ]
    },
    {
     "name": "stderr",
     "output_type": "stream",
     "text": [
      "100%|██████████| 9/9 [00:00<00:00, 14.81it/s]\n"
     ]
    },
    {
     "name": "stdout",
     "output_type": "stream",
     "text": [
      "epoch =  14 train_loss =  0.03696101042442024\n",
      "rmse_loss =  0.29636460542678833 mae_loss =  0.27741628885269165 mse_loss =  0.08783197402954102\n"
     ]
    },
    {
     "name": "stderr",
     "output_type": "stream",
     "text": [
      "100%|██████████| 9/9 [00:00<00:00, 15.57it/s]\n"
     ]
    },
    {
     "name": "stdout",
     "output_type": "stream",
     "text": [
      "epoch =  15 train_loss =  0.03674721040038599\n",
      "rmse_loss =  0.3020443320274353 mae_loss =  0.28271105885505676 mse_loss =  0.09123078733682632\n"
     ]
    },
    {
     "name": "stderr",
     "output_type": "stream",
     "text": [
      "100%|██████████| 9/9 [00:00<00:00, 13.07it/s]\n"
     ]
    },
    {
     "name": "stdout",
     "output_type": "stream",
     "text": [
      "epoch =  16 train_loss =  0.03640206794564923\n",
      "rmse_loss =  0.3077256977558136 mae_loss =  0.28805026412010193 mse_loss =  0.09469510614871979\n"
     ]
    },
    {
     "name": "stderr",
     "output_type": "stream",
     "text": [
      "100%|██████████| 9/9 [00:00<00:00, 14.55it/s]\n"
     ]
    },
    {
     "name": "stdout",
     "output_type": "stream",
     "text": [
      "epoch =  17 train_loss =  0.03596034076892667\n",
      "rmse_loss =  0.3139728009700775 mae_loss =  0.2939656972885132 mse_loss =  0.09857892245054245\n"
     ]
    },
    {
     "name": "stderr",
     "output_type": "stream",
     "text": [
      "100%|██████████| 9/9 [00:00<00:00, 14.39it/s]\n"
     ]
    },
    {
     "name": "stdout",
     "output_type": "stream",
     "text": [
      "epoch =  18 train_loss =  0.03558374558471971\n",
      "rmse_loss =  0.31976139545440674 mae_loss =  0.29943275451660156 mse_loss =  0.10224734246730804\n"
     ]
    },
    {
     "name": "stderr",
     "output_type": "stream",
     "text": [
      "100%|██████████| 9/9 [00:00<00:00, 14.57it/s]\n"
     ]
    },
    {
     "name": "stdout",
     "output_type": "stream",
     "text": [
      "epoch =  19 train_loss =  0.03521467000246048\n",
      "rmse_loss =  0.3250240981578827 mae_loss =  0.3044140338897705 mse_loss =  0.10564067214727402\n"
     ]
    },
    {
     "name": "stderr",
     "output_type": "stream",
     "text": [
      "100%|██████████| 9/9 [00:00<00:00, 14.08it/s]\n"
     ]
    },
    {
     "name": "stdout",
     "output_type": "stream",
     "text": [
      "epoch =  20 train_loss =  0.03475981216049857\n",
      "rmse_loss =  0.3305433392524719 mae_loss =  0.30967503786087036 mse_loss =  0.10925889015197754\n"
     ]
    },
    {
     "name": "stderr",
     "output_type": "stream",
     "text": [
      "100%|██████████| 9/9 [00:00<00:00, 15.23it/s]\n"
     ]
    },
    {
     "name": "stdout",
     "output_type": "stream",
     "text": [
      "epoch =  21 train_loss =  0.034274717482427754\n",
      "rmse_loss =  0.33619293570518494 mae_loss =  0.3150778114795685 mse_loss =  0.11302569508552551\n"
     ]
    },
    {
     "name": "stderr",
     "output_type": "stream",
     "text": [
      "100%|██████████| 9/9 [00:00<00:00, 13.79it/s]\n"
     ]
    },
    {
     "name": "stdout",
     "output_type": "stream",
     "text": [
      "epoch =  22 train_loss =  0.03379953269743257\n",
      "rmse_loss =  0.34145110845565796 mae_loss =  0.3201358914375305 mse_loss =  0.11658886075019836\n"
     ]
    },
    {
     "name": "stderr",
     "output_type": "stream",
     "text": [
      "100%|██████████| 9/9 [00:00<00:00, 14.70it/s]\n"
     ]
    },
    {
     "name": "stdout",
     "output_type": "stream",
     "text": [
      "epoch =  23 train_loss =  0.03327604238357809\n",
      "rmse_loss =  0.34647446870803833 mae_loss =  0.3250562846660614 mse_loss =  0.12004456669092178\n"
     ]
    },
    {
     "name": "stderr",
     "output_type": "stream",
     "text": [
      "100%|██████████| 9/9 [00:00<00:00, 14.51it/s]\n"
     ]
    },
    {
     "name": "stdout",
     "output_type": "stream",
     "text": [
      "epoch =  24 train_loss =  0.032689943030062646\n",
      "rmse_loss =  0.3513539731502533 mae_loss =  0.32988840341567993 mse_loss =  0.12344960868358612\n"
     ]
    },
    {
     "name": "stderr",
     "output_type": "stream",
     "text": [
      "100%|██████████| 9/9 [00:00<00:00, 14.81it/s]\n"
     ]
    },
    {
     "name": "stdout",
     "output_type": "stream",
     "text": [
      "epoch =  25 train_loss =  0.032090687555157475\n",
      "rmse_loss =  0.3554416298866272 mae_loss =  0.33402019739151 mse_loss =  0.12633875012397766\n"
     ]
    },
    {
     "name": "stderr",
     "output_type": "stream",
     "text": [
      "100%|██████████| 9/9 [00:00<00:00, 11.59it/s]\n"
     ]
    },
    {
     "name": "stdout",
     "output_type": "stream",
     "text": [
      "epoch =  26 train_loss =  0.03148521089719401\n",
      "rmse_loss =  0.35848450660705566 mae_loss =  0.33718791604042053 mse_loss =  0.12851113080978394\n"
     ]
    },
    {
     "name": "stderr",
     "output_type": "stream",
     "text": [
      "100%|██████████| 9/9 [00:00<00:00, 12.31it/s]\n"
     ]
    },
    {
     "name": "stdout",
     "output_type": "stream",
     "text": [
      "epoch =  27 train_loss =  0.03084823866892192\n",
      "rmse_loss =  0.360955148935318 mae_loss =  0.33981528878211975 mse_loss =  0.13028861582279205\n"
     ]
    },
    {
     "name": "stderr",
     "output_type": "stream",
     "text": [
      "100%|██████████| 9/9 [00:00<00:00, 12.01it/s]\n"
     ]
    },
    {
     "name": "stdout",
     "output_type": "stream",
     "text": [
      "epoch =  28 train_loss =  0.030205319868400693\n",
      "rmse_loss =  0.36320555210113525 mae_loss =  0.3422091007232666 mse_loss =  0.131918266415596\n"
     ]
    },
    {
     "name": "stderr",
     "output_type": "stream",
     "text": [
      "100%|██████████| 9/9 [00:00<00:00, 12.81it/s]\n"
     ]
    },
    {
     "name": "stdout",
     "output_type": "stream",
     "text": [
      "epoch =  29 train_loss =  0.029567502464892134\n",
      "rmse_loss =  0.3652362823486328 mae_loss =  0.34433549642562866 mse_loss =  0.13339754939079285\n"
     ]
    },
    {
     "name": "stderr",
     "output_type": "stream",
     "text": [
      "100%|██████████| 9/9 [00:00<00:00, 12.25it/s]\n"
     ]
    },
    {
     "name": "stdout",
     "output_type": "stream",
     "text": [
      "epoch =  30 train_loss =  0.028941113967448473\n",
      "rmse_loss =  0.36688318848609924 mae_loss =  0.34602782130241394 mse_loss =  0.13460327684879303\n"
     ]
    },
    {
     "name": "stderr",
     "output_type": "stream",
     "text": [
      "100%|██████████| 9/9 [00:00<00:00, 12.33it/s]\n"
     ]
    },
    {
     "name": "stdout",
     "output_type": "stream",
     "text": [
      "epoch =  31 train_loss =  0.028292207409524255\n",
      "rmse_loss =  0.367781400680542 mae_loss =  0.34656843543052673 mse_loss =  0.13526315987110138\n"
     ]
    },
    {
     "name": "stderr",
     "output_type": "stream",
     "text": [
      "100%|██████████| 9/9 [00:00<00:00, 12.29it/s]\n"
     ]
    },
    {
     "name": "stdout",
     "output_type": "stream",
     "text": [
      "epoch =  32 train_loss =  0.028051514954616625\n",
      "rmse_loss =  0.3883143365383148 mae_loss =  0.3681618869304657 mse_loss =  0.15078802406787872\n"
     ]
    },
    {
     "name": "stderr",
     "output_type": "stream",
     "text": [
      "100%|██████████| 9/9 [00:00<00:00, 12.41it/s]\n"
     ]
    },
    {
     "name": "stdout",
     "output_type": "stream",
     "text": [
      "epoch =  33 train_loss =  0.045080979962626264\n",
      "rmse_loss =  0.3640754520893097 mae_loss =  0.33716440200805664 mse_loss =  0.1325509250164032\n"
     ]
    },
    {
     "name": "stderr",
     "output_type": "stream",
     "text": [
      "100%|██████████| 9/9 [00:00<00:00, 12.14it/s]\n"
     ]
    },
    {
     "name": "stdout",
     "output_type": "stream",
     "text": [
      "epoch =  34 train_loss =  0.037645245177878275\n",
      "rmse_loss =  0.31432029604911804 mae_loss =  0.2952885627746582 mse_loss =  0.09879723936319351\n"
     ]
    },
    {
     "name": "stderr",
     "output_type": "stream",
     "text": [
      "100%|██████████| 9/9 [00:00<00:00, 13.02it/s]\n"
     ]
    },
    {
     "name": "stdout",
     "output_type": "stream",
     "text": [
      "epoch =  35 train_loss =  0.022773877420048747\n",
      "rmse_loss =  0.4272247552871704 mae_loss =  0.40099117159843445 mse_loss =  0.18252098560333252\n"
     ]
    },
    {
     "name": "stderr",
     "output_type": "stream",
     "text": [
      "100%|██████████| 9/9 [00:00<00:00, 13.32it/s]\n"
     ]
    },
    {
     "name": "stdout",
     "output_type": "stream",
     "text": [
      "epoch =  36 train_loss =  0.03616323091814087\n",
      "rmse_loss =  0.36867091059684753 mae_loss =  0.35041525959968567 mse_loss =  0.1359182447195053\n"
     ]
    },
    {
     "name": "stderr",
     "output_type": "stream",
     "text": [
      "100%|██████████| 9/9 [00:00<00:00, 13.09it/s]\n"
     ]
    },
    {
     "name": "stdout",
     "output_type": "stream",
     "text": [
      "epoch =  37 train_loss =  0.04437264893203974\n",
      "rmse_loss =  0.2469947636127472 mae_loss =  0.22689691185951233 mse_loss =  0.061006415635347366\n"
     ]
    },
    {
     "name": "stderr",
     "output_type": "stream",
     "text": [
      "100%|██████████| 9/9 [00:00<00:00, 13.41it/s]\n"
     ]
    },
    {
     "name": "stdout",
     "output_type": "stream",
     "text": [
      "epoch =  38 train_loss =  0.02414476504135463\n",
      "rmse_loss =  0.38184306025505066 mae_loss =  0.36162322759628296 mse_loss =  0.14580412209033966\n"
     ]
    },
    {
     "name": "stderr",
     "output_type": "stream",
     "text": [
      "100%|██████████| 9/9 [00:00<00:00, 13.73it/s]\n"
     ]
    },
    {
     "name": "stdout",
     "output_type": "stream",
     "text": [
      "epoch =  39 train_loss =  0.028126343101676967\n",
      "rmse_loss =  0.3743996322154999 mae_loss =  0.3534902334213257 mse_loss =  0.14017507433891296\n"
     ]
    },
    {
     "name": "stderr",
     "output_type": "stream",
     "text": [
      "100%|██████████| 9/9 [00:00<00:00, 13.90it/s]\n"
     ]
    },
    {
     "name": "stdout",
     "output_type": "stream",
     "text": [
      "epoch =  40 train_loss =  0.03121915676941474\n",
      "rmse_loss =  0.3286111354827881 mae_loss =  0.30897819995880127 mse_loss =  0.10798528790473938\n"
     ]
    },
    {
     "name": "stderr",
     "output_type": "stream",
     "text": [
      "100%|██████████| 9/9 [00:00<00:00, 13.45it/s]\n"
     ]
    },
    {
     "name": "stdout",
     "output_type": "stream",
     "text": [
      "epoch =  41 train_loss =  0.023237831554272108\n",
      "rmse_loss =  0.3807688355445862 mae_loss =  0.35916659235954285 mse_loss =  0.1449849158525467\n"
     ]
    },
    {
     "name": "stderr",
     "output_type": "stream",
     "text": [
      "100%|██████████| 9/9 [00:00<00:00, 13.54it/s]\n"
     ]
    },
    {
     "name": "stdout",
     "output_type": "stream",
     "text": [
      "epoch =  42 train_loss =  0.025386020049659744\n",
      "rmse_loss =  0.3792099356651306 mae_loss =  0.3580981492996216 mse_loss =  0.14380016922950745\n"
     ]
    },
    {
     "name": "stderr",
     "output_type": "stream",
     "text": [
      "100%|██████████| 9/9 [00:00<00:00, 13.93it/s]\n"
     ]
    },
    {
     "name": "stdout",
     "output_type": "stream",
     "text": [
      "epoch =  43 train_loss =  0.02595691041400035\n",
      "rmse_loss =  0.3621455132961273 mae_loss =  0.34178873896598816 mse_loss =  0.13114936649799347\n"
     ]
    },
    {
     "name": "stderr",
     "output_type": "stream",
     "text": [
      "100%|██████████| 9/9 [00:00<00:00, 12.98it/s]\n"
     ]
    },
    {
     "name": "stdout",
     "output_type": "stream",
     "text": [
      "epoch =  44 train_loss =  0.021303454362269904\n",
      "rmse_loss =  0.39956390857696533 mae_loss =  0.3781540095806122 mse_loss =  0.15965130925178528\n"
     ]
    },
    {
     "name": "stderr",
     "output_type": "stream",
     "text": [
      "100%|██████████| 9/9 [00:00<00:00, 13.20it/s]\n"
     ]
    },
    {
     "name": "stdout",
     "output_type": "stream",
     "text": [
      "epoch =  45 train_loss =  0.025431401561945677\n",
      "rmse_loss =  0.38635075092315674 mae_loss =  0.36540549993515015 mse_loss =  0.14926691353321075\n"
     ]
    },
    {
     "name": "stderr",
     "output_type": "stream",
     "text": [
      "100%|██████████| 9/9 [00:00<00:00, 13.40it/s]\n"
     ]
    },
    {
     "name": "stdout",
     "output_type": "stream",
     "text": [
      "epoch =  46 train_loss =  0.02489350019540224\n",
      "rmse_loss =  0.35557231307029724 mae_loss =  0.3337261378765106 mse_loss =  0.1264316737651825\n"
     ]
    },
    {
     "name": "stderr",
     "output_type": "stream",
     "text": [
      "100%|██████████| 9/9 [00:00<00:00, 12.83it/s]\n"
     ]
    },
    {
     "name": "stdout",
     "output_type": "stream",
     "text": [
      "epoch =  47 train_loss =  0.02651373880346202\n",
      "rmse_loss =  0.36424311995506287 mae_loss =  0.3448624908924103 mse_loss =  0.13267305493354797\n"
     ]
    },
    {
     "name": "stderr",
     "output_type": "stream",
     "text": [
      "100%|██████████| 9/9 [00:00<00:00, 12.69it/s]\n"
     ]
    },
    {
     "name": "stdout",
     "output_type": "stream",
     "text": [
      "epoch =  48 train_loss =  0.02526188742679854\n",
      "rmse_loss =  0.36740317940711975 mae_loss =  0.34587371349334717 mse_loss =  0.13498510420322418\n"
     ]
    },
    {
     "name": "stderr",
     "output_type": "stream",
     "text": [
      "100%|██████████| 9/9 [00:00<00:00, 13.65it/s]\n"
     ]
    },
    {
     "name": "stdout",
     "output_type": "stream",
     "text": [
      "epoch =  49 train_loss =  0.02171622858279281\n",
      "rmse_loss =  0.40849241614341736 mae_loss =  0.3858664631843567 mse_loss =  0.16686604917049408\n"
     ]
    },
    {
     "name": "stderr",
     "output_type": "stream",
     "text": [
      "100%|██████████| 9/9 [00:00<00:00, 13.71it/s]\n"
     ]
    },
    {
     "name": "stdout",
     "output_type": "stream",
     "text": [
      "epoch =  50 train_loss =  0.022655881449787155\n",
      "rmse_loss =  0.40619006752967834 mae_loss =  0.38425585627555847 mse_loss =  0.1649903804063797\n"
     ]
    },
    {
     "name": "stderr",
     "output_type": "stream",
     "text": [
      "100%|██████████| 9/9 [00:00<00:00, 13.35it/s]\n"
     ]
    },
    {
     "name": "stdout",
     "output_type": "stream",
     "text": [
      "epoch =  51 train_loss =  0.02332521310179598\n",
      "rmse_loss =  0.3766739070415497 mae_loss =  0.3552056849002838 mse_loss =  0.1418832242488861\n"
     ]
    },
    {
     "name": "stderr",
     "output_type": "stream",
     "text": [
      "100%|██████████| 9/9 [00:00<00:00, 13.60it/s]\n"
     ]
    },
    {
     "name": "stdout",
     "output_type": "stream",
     "text": [
      "epoch =  52 train_loss =  0.021020633168518543\n",
      "rmse_loss =  0.3890274465084076 mae_loss =  0.36813315749168396 mse_loss =  0.15134236216545105\n"
     ]
    },
    {
     "name": "stderr",
     "output_type": "stream",
     "text": [
      "100%|██████████| 9/9 [00:00<00:00, 13.57it/s]\n"
     ]
    },
    {
     "name": "stdout",
     "output_type": "stream",
     "text": [
      "epoch =  53 train_loss =  0.021640641808820266\n",
      "rmse_loss =  0.39263197779655457 mae_loss =  0.371637761592865 mse_loss =  0.15415985882282257\n"
     ]
    },
    {
     "name": "stderr",
     "output_type": "stream",
     "text": [
      "100%|██████████| 9/9 [00:00<00:00, 13.10it/s]\n"
     ]
    },
    {
     "name": "stdout",
     "output_type": "stream",
     "text": [
      "epoch =  54 train_loss =  0.02315139811899927\n",
      "rmse_loss =  0.36432185769081116 mae_loss =  0.343184232711792 mse_loss =  0.1327304095029831\n"
     ]
    },
    {
     "name": "stderr",
     "output_type": "stream",
     "text": [
      "100%|██████████| 9/9 [00:00<00:00, 13.70it/s]\n"
     ]
    },
    {
     "name": "stdout",
     "output_type": "stream",
     "text": [
      "epoch =  55 train_loss =  0.022346052069527406\n",
      "rmse_loss =  0.3931867778301239 mae_loss =  0.3724061846733093 mse_loss =  0.15459583699703217\n"
     ]
    },
    {
     "name": "stderr",
     "output_type": "stream",
     "text": [
      "100%|██████████| 9/9 [00:00<00:00, 13.45it/s]\n"
     ]
    },
    {
     "name": "stdout",
     "output_type": "stream",
     "text": [
      "epoch =  56 train_loss =  0.020804170273347862\n",
      "rmse_loss =  0.3892665207386017 mae_loss =  0.36772090196609497 mse_loss =  0.15152843296527863\n"
     ]
    },
    {
     "name": "stderr",
     "output_type": "stream",
     "text": [
      "100%|██████████| 9/9 [00:00<00:00, 13.57it/s]\n"
     ]
    },
    {
     "name": "stdout",
     "output_type": "stream",
     "text": [
      "epoch =  57 train_loss =  0.025816276436671615\n",
      "rmse_loss =  0.36279311776161194 mae_loss =  0.3416205942630768 mse_loss =  0.13161884248256683\n"
     ]
    },
    {
     "name": "stderr",
     "output_type": "stream",
     "text": [
      "100%|██████████| 9/9 [00:00<00:00, 12.49it/s]\n"
     ]
    },
    {
     "name": "stdout",
     "output_type": "stream",
     "text": [
      "epoch =  58 train_loss =  0.016973406891338527\n",
      "rmse_loss =  0.39654606580734253 mae_loss =  0.3751813769340515 mse_loss =  0.15724878013134003\n"
     ]
    },
    {
     "name": "stderr",
     "output_type": "stream",
     "text": [
      "100%|██████████| 9/9 [00:00<00:00, 12.86it/s]\n"
     ]
    },
    {
     "name": "stdout",
     "output_type": "stream",
     "text": [
      "epoch =  59 train_loss =  0.0270719860563986\n",
      "rmse_loss =  0.41706809401512146 mae_loss =  0.3972746431827545 mse_loss =  0.17394579946994781\n"
     ]
    },
    {
     "name": "stderr",
     "output_type": "stream",
     "text": [
      "100%|██████████| 9/9 [00:00<00:00, 13.37it/s]\n"
     ]
    },
    {
     "name": "stdout",
     "output_type": "stream",
     "text": [
      "epoch =  60 train_loss =  0.03693646217127227\n",
      "rmse_loss =  0.3385109603404999 mae_loss =  0.3136116862297058 mse_loss =  0.11458966881036758\n"
     ]
    },
    {
     "name": "stderr",
     "output_type": "stream",
     "text": [
      "100%|██████████| 9/9 [00:00<00:00, 13.30it/s]\n"
     ]
    },
    {
     "name": "stdout",
     "output_type": "stream",
     "text": [
      "epoch =  61 train_loss =  0.03424287899138613\n",
      "rmse_loss =  0.3414261043071747 mae_loss =  0.3254767954349518 mse_loss =  0.11657177656888962\n"
     ]
    },
    {
     "name": "stderr",
     "output_type": "stream",
     "text": [
      "100%|██████████| 9/9 [00:00<00:00, 13.70it/s]\n"
     ]
    },
    {
     "name": "stdout",
     "output_type": "stream",
     "text": [
      "epoch =  62 train_loss =  0.024520482790345948\n",
      "rmse_loss =  0.35259920358657837 mae_loss =  0.3356797993183136 mse_loss =  0.124326191842556\n"
     ]
    },
    {
     "name": "stderr",
     "output_type": "stream",
     "text": [
      "100%|██████████| 9/9 [00:00<00:00, 13.37it/s]\n"
     ]
    },
    {
     "name": "stdout",
     "output_type": "stream",
     "text": [
      "epoch =  63 train_loss =  0.020158363635548286\n",
      "rmse_loss =  0.4086611270904541 mae_loss =  0.3887448012828827 mse_loss =  0.16700391471385956\n"
     ]
    },
    {
     "name": "stderr",
     "output_type": "stream",
     "text": [
      "100%|██████████| 9/9 [00:00<00:00, 13.34it/s]\n"
     ]
    },
    {
     "name": "stdout",
     "output_type": "stream",
     "text": [
      "epoch =  64 train_loss =  0.026676339123191103\n",
      "rmse_loss =  0.3694867789745331 mae_loss =  0.3512474596500397 mse_loss =  0.13652047514915466\n"
     ]
    },
    {
     "name": "stderr",
     "output_type": "stream",
     "text": [
      "100%|██████████| 9/9 [00:00<00:00, 13.10it/s]\n"
     ]
    },
    {
     "name": "stdout",
     "output_type": "stream",
     "text": [
      "epoch =  65 train_loss =  0.02023919084523287\n",
      "rmse_loss =  0.3969152867794037 mae_loss =  0.37793391942977905 mse_loss =  0.15754175186157227\n"
     ]
    },
    {
     "name": "stderr",
     "output_type": "stream",
     "text": [
      "100%|██████████| 9/9 [00:00<00:00, 13.09it/s]\n"
     ]
    },
    {
     "name": "stdout",
     "output_type": "stream",
     "text": [
      "epoch =  66 train_loss =  0.020034350726443034\n",
      "rmse_loss =  0.42529115080833435 mae_loss =  0.40684226155281067 mse_loss =  0.18087255954742432\n"
     ]
    },
    {
     "name": "stderr",
     "output_type": "stream",
     "text": [
      "100%|██████████| 9/9 [00:00<00:00, 13.37it/s]\n"
     ]
    },
    {
     "name": "stdout",
     "output_type": "stream",
     "text": [
      "epoch =  67 train_loss =  0.025766657380801108\n",
      "rmse_loss =  0.36227765679359436 mae_loss =  0.3429012894630432 mse_loss =  0.13124509155750275\n"
     ]
    },
    {
     "name": "stderr",
     "output_type": "stream",
     "text": [
      "100%|██████████| 9/9 [00:00<00:00, 12.36it/s]\n"
     ]
    },
    {
     "name": "stdout",
     "output_type": "stream",
     "text": [
      "epoch =  68 train_loss =  0.017520359963075154\n",
      "rmse_loss =  0.40986353158950806 mae_loss =  0.3908299207687378 mse_loss =  0.1679881066083908\n"
     ]
    },
    {
     "name": "stderr",
     "output_type": "stream",
     "text": [
      "100%|██████████| 9/9 [00:00<00:00, 12.84it/s]\n"
     ]
    },
    {
     "name": "stdout",
     "output_type": "stream",
     "text": [
      "epoch =  69 train_loss =  0.022451895075694967\n",
      "rmse_loss =  0.4175426661968231 mae_loss =  0.3993130326271057 mse_loss =  0.17434188723564148\n"
     ]
    },
    {
     "name": "stderr",
     "output_type": "stream",
     "text": [
      "100%|██████████| 9/9 [00:00<00:00, 12.16it/s]\n"
     ]
    },
    {
     "name": "stdout",
     "output_type": "stream",
     "text": [
      "epoch =  70 train_loss =  0.024512879227081105\n",
      "rmse_loss =  0.3512376844882965 mae_loss =  0.33246248960494995 mse_loss =  0.12336791306734085\n"
     ]
    },
    {
     "name": "stderr",
     "output_type": "stream",
     "text": [
      "100%|██████████| 9/9 [00:00<00:00, 12.55it/s]\n"
     ]
    },
    {
     "name": "stdout",
     "output_type": "stream",
     "text": [
      "epoch =  71 train_loss =  0.015372526366263628\n",
      "rmse_loss =  0.42619243264198303 mae_loss =  0.40797901153564453 mse_loss =  0.18163999915122986\n"
     ]
    },
    {
     "name": "stderr",
     "output_type": "stream",
     "text": [
      "100%|██████████| 9/9 [00:00<00:00, 12.38it/s]\n"
     ]
    },
    {
     "name": "stdout",
     "output_type": "stream",
     "text": [
      "epoch =  72 train_loss =  0.024360206023427762\n",
      "rmse_loss =  0.3973905146121979 mae_loss =  0.37879064679145813 mse_loss =  0.15791921317577362\n"
     ]
    },
    {
     "name": "stderr",
     "output_type": "stream",
     "text": [
      "100%|██████████| 9/9 [00:00<00:00, 12.19it/s]\n"
     ]
    },
    {
     "name": "stdout",
     "output_type": "stream",
     "text": [
      "epoch =  73 train_loss =  0.02410185926904281\n",
      "rmse_loss =  0.34651923179626465 mae_loss =  0.32842543721199036 mse_loss =  0.12007557600736618\n"
     ]
    },
    {
     "name": "stderr",
     "output_type": "stream",
     "text": [
      "100%|██████████| 9/9 [00:00<00:00, 12.41it/s]\n"
     ]
    },
    {
     "name": "stdout",
     "output_type": "stream",
     "text": [
      "epoch =  74 train_loss =  0.017096958524133597\n",
      "rmse_loss =  0.4225389361381531 mae_loss =  0.4054454565048218 mse_loss =  0.17853915691375732\n"
     ]
    },
    {
     "name": "stderr",
     "output_type": "stream",
     "text": [
      "100%|██████████| 9/9 [00:00<00:00, 12.61it/s]\n"
     ]
    },
    {
     "name": "stdout",
     "output_type": "stream",
     "text": [
      "epoch =  75 train_loss =  0.024983903095643554\n",
      "rmse_loss =  0.3833003044128418 mae_loss =  0.36486560106277466 mse_loss =  0.1469191163778305\n"
     ]
    },
    {
     "name": "stderr",
     "output_type": "stream",
     "text": [
      "100%|██████████| 9/9 [00:00<00:00, 12.83it/s]\n"
     ]
    },
    {
     "name": "stdout",
     "output_type": "stream",
     "text": [
      "epoch =  76 train_loss =  0.023597078294389777\n",
      "rmse_loss =  0.34500783681869507 mae_loss =  0.32735663652420044 mse_loss =  0.1190304085612297\n"
     ]
    },
    {
     "name": "stderr",
     "output_type": "stream",
     "text": [
      "100%|██████████| 9/9 [00:00<00:00, 12.83it/s]\n"
     ]
    },
    {
     "name": "stdout",
     "output_type": "stream",
     "text": [
      "epoch =  77 train_loss =  0.016299614708663687\n",
      "rmse_loss =  0.4172111451625824 mae_loss =  0.3999364674091339 mse_loss =  0.17406514286994934\n"
     ]
    },
    {
     "name": "stderr",
     "output_type": "stream",
     "text": [
      "100%|██████████| 9/9 [00:00<00:00, 12.94it/s]\n"
     ]
    },
    {
     "name": "stdout",
     "output_type": "stream",
     "text": [
      "epoch =  78 train_loss =  0.022886686984242663\n",
      "rmse_loss =  0.3907358646392822 mae_loss =  0.37271806597709656 mse_loss =  0.15267451107501984\n"
     ]
    },
    {
     "name": "stderr",
     "output_type": "stream",
     "text": [
      "100%|██████████| 9/9 [00:00<00:00, 13.14it/s]\n"
     ]
    },
    {
     "name": "stdout",
     "output_type": "stream",
     "text": [
      "epoch =  79 train_loss =  0.021351238842018776\n",
      "rmse_loss =  0.35850289463996887 mae_loss =  0.3410075306892395 mse_loss =  0.1285243183374405\n"
     ]
    },
    {
     "name": "stderr",
     "output_type": "stream",
     "text": [
      "100%|██████████| 9/9 [00:00<00:00, 12.30it/s]\n"
     ]
    },
    {
     "name": "stdout",
     "output_type": "stream",
     "text": [
      "epoch =  80 train_loss =  0.016175668803043664\n",
      "rmse_loss =  0.41658714413642883 mae_loss =  0.3992495536804199 mse_loss =  0.17354485392570496\n"
     ]
    },
    {
     "name": "stderr",
     "output_type": "stream",
     "text": [
      "100%|██████████| 9/9 [00:00<00:00, 12.88it/s]\n"
     ]
    },
    {
     "name": "stdout",
     "output_type": "stream",
     "text": [
      "epoch =  81 train_loss =  0.021298216248396784\n",
      "rmse_loss =  0.3895985186100006 mae_loss =  0.3719361126422882 mse_loss =  0.15178699791431427\n"
     ]
    },
    {
     "name": "stderr",
     "output_type": "stream",
     "text": [
      "100%|██████████| 9/9 [00:00<00:00, 12.64it/s]\n"
     ]
    },
    {
     "name": "stdout",
     "output_type": "stream",
     "text": [
      "epoch =  82 train_loss =  0.020048939519458346\n",
      "rmse_loss =  0.36614182591438293 mae_loss =  0.3489474058151245 mse_loss =  0.1340598315000534\n"
     ]
    },
    {
     "name": "stderr",
     "output_type": "stream",
     "text": [
      "100%|██████████| 9/9 [00:00<00:00, 12.09it/s]\n"
     ]
    },
    {
     "name": "stdout",
     "output_type": "stream",
     "text": [
      "epoch =  83 train_loss =  0.016501211871703465\n",
      "rmse_loss =  0.41750335693359375 mae_loss =  0.40051257610321045 mse_loss =  0.17430904507637024\n"
     ]
    },
    {
     "name": "stderr",
     "output_type": "stream",
     "text": [
      "100%|██████████| 9/9 [00:00<00:00, 12.49it/s]\n"
     ]
    },
    {
     "name": "stdout",
     "output_type": "stream",
     "text": [
      "epoch =  84 train_loss =  0.020974396359330665\n",
      "rmse_loss =  0.38244467973709106 mae_loss =  0.3652796447277069 mse_loss =  0.14626392722129822\n"
     ]
    },
    {
     "name": "stderr",
     "output_type": "stream",
     "text": [
      "100%|██████████| 9/9 [00:00<00:00, 12.91it/s]\n"
     ]
    },
    {
     "name": "stdout",
     "output_type": "stream",
     "text": [
      "epoch =  85 train_loss =  0.019630810646857653\n",
      "rmse_loss =  0.3649598956108093 mae_loss =  0.34813228249549866 mse_loss =  0.13319572806358337\n"
     ]
    },
    {
     "name": "stderr",
     "output_type": "stream",
     "text": [
      "100%|██████████| 9/9 [00:00<00:00, 12.36it/s]\n"
     ]
    },
    {
     "name": "stdout",
     "output_type": "stream",
     "text": [
      "epoch =  86 train_loss =  0.016680200015091233\n",
      "rmse_loss =  0.4199621379375458 mae_loss =  0.4034734070301056 mse_loss =  0.17636819183826447\n"
     ]
    },
    {
     "name": "stderr",
     "output_type": "stream",
     "text": [
      "100%|██████████| 9/9 [00:00<00:00, 12.72it/s]\n"
     ]
    },
    {
     "name": "stdout",
     "output_type": "stream",
     "text": [
      "epoch =  87 train_loss =  0.021695048076152388\n",
      "rmse_loss =  0.37110844254493713 mae_loss =  0.3545767664909363 mse_loss =  0.1377214789390564\n"
     ]
    },
    {
     "name": "stderr",
     "output_type": "stream",
     "text": [
      "100%|██████████| 9/9 [00:00<00:00, 12.73it/s]\n"
     ]
    },
    {
     "name": "stdout",
     "output_type": "stream",
     "text": [
      "epoch =  88 train_loss =  0.019872157239458628\n",
      "rmse_loss =  0.35790446400642395 mae_loss =  0.3413970172405243 mse_loss =  0.1280955970287323\n"
     ]
    },
    {
     "name": "stderr",
     "output_type": "stream",
     "text": [
      "100%|██████████| 9/9 [00:00<00:00, 12.13it/s]\n"
     ]
    },
    {
     "name": "stdout",
     "output_type": "stream",
     "text": [
      "epoch =  89 train_loss =  0.017412272644125752\n",
      "rmse_loss =  0.42084982991218567 mae_loss =  0.4050118625164032 mse_loss =  0.1771145761013031\n"
     ]
    },
    {
     "name": "stderr",
     "output_type": "stream",
     "text": [
      "100%|██████████| 9/9 [00:00<00:00, 12.56it/s]\n"
     ]
    },
    {
     "name": "stdout",
     "output_type": "stream",
     "text": [
      "epoch =  90 train_loss =  0.02342412697746315\n",
      "rmse_loss =  0.35820457339286804 mae_loss =  0.3419823944568634 mse_loss =  0.12831051647663116\n"
     ]
    },
    {
     "name": "stderr",
     "output_type": "stream",
     "text": [
      "100%|██████████| 9/9 [00:00<00:00, 13.07it/s]\n"
     ]
    },
    {
     "name": "stdout",
     "output_type": "stream",
     "text": [
      "epoch =  91 train_loss =  0.021684918785467744\n",
      "rmse_loss =  0.34658607840538025 mae_loss =  0.33028265833854675 mse_loss =  0.12012191861867905\n"
     ]
    },
    {
     "name": "stderr",
     "output_type": "stream",
     "text": [
      "100%|██████████| 9/9 [00:00<00:00, 12.52it/s]\n"
     ]
    },
    {
     "name": "stdout",
     "output_type": "stream",
     "text": [
      "epoch =  92 train_loss =  0.018313726953541238\n",
      "rmse_loss =  0.4140322208404541 mae_loss =  0.39911848306655884 mse_loss =  0.17142269015312195\n"
     ]
    },
    {
     "name": "stderr",
     "output_type": "stream",
     "text": [
      "100%|██████████| 9/9 [00:00<00:00, 12.75it/s]\n"
     ]
    },
    {
     "name": "stdout",
     "output_type": "stream",
     "text": [
      "epoch =  93 train_loss =  0.02428770178974244\n",
      "rmse_loss =  0.3607249855995178 mae_loss =  0.34492480754852295 mse_loss =  0.13012251257896423\n"
     ]
    },
    {
     "name": "stderr",
     "output_type": "stream",
     "text": [
      "100%|██████████| 9/9 [00:00<00:00, 12.90it/s]\n"
     ]
    },
    {
     "name": "stdout",
     "output_type": "stream",
     "text": [
      "epoch =  94 train_loss =  0.02261817333702412\n",
      "rmse_loss =  0.3429616093635559 mae_loss =  0.3270556330680847 mse_loss =  0.11762266606092453\n"
     ]
    },
    {
     "name": "stderr",
     "output_type": "stream",
     "text": [
      "100%|██████████| 9/9 [00:00<00:00, 12.26it/s]\n"
     ]
    },
    {
     "name": "stdout",
     "output_type": "stream",
     "text": [
      "epoch =  95 train_loss =  0.015174932829621766\n",
      "rmse_loss =  0.42713406682014465 mae_loss =  0.4115518033504486 mse_loss =  0.1824434995651245\n"
     ]
    },
    {
     "name": "stderr",
     "output_type": "stream",
     "text": [
      "100%|██████████| 9/9 [00:00<00:00, 12.12it/s]\n"
     ]
    },
    {
     "name": "stdout",
     "output_type": "stream",
     "text": [
      "epoch =  96 train_loss =  0.022649808870887175\n",
      "rmse_loss =  0.379963755607605 mae_loss =  0.3642387092113495 mse_loss =  0.14437246322631836\n"
     ]
    },
    {
     "name": "stderr",
     "output_type": "stream",
     "text": [
      "100%|██████████| 9/9 [00:00<00:00, 12.65it/s]\n"
     ]
    },
    {
     "name": "stdout",
     "output_type": "stream",
     "text": [
      "epoch =  97 train_loss =  0.020824352990732424\n",
      "rmse_loss =  0.3499968349933624 mae_loss =  0.3339812457561493 mse_loss =  0.12249778211116791\n"
     ]
    },
    {
     "name": "stderr",
     "output_type": "stream",
     "text": [
      "100%|██████████| 9/9 [00:00<00:00, 12.92it/s]\n"
     ]
    },
    {
     "name": "stdout",
     "output_type": "stream",
     "text": [
      "epoch =  98 train_loss =  0.01661185041949567\n",
      "rmse_loss =  0.41800084710121155 mae_loss =  0.4028087556362152 mse_loss =  0.17472469806671143\n"
     ]
    },
    {
     "name": "stderr",
     "output_type": "stream",
     "text": [
      "100%|██████████| 9/9 [00:00<00:00, 12.48it/s]"
     ]
    },
    {
     "name": "stdout",
     "output_type": "stream",
     "text": [
      "epoch =  99 train_loss =  0.020974401623890217\n",
      "rmse_loss =  0.3869190514087677 mae_loss =  0.37119126319885254 mse_loss =  0.14970636367797852\n",
      "train time: 0.6928280, s/epoch\n",
      "embed1: 20, embed2: 10, lr: 0.001, dec_seq_len: 6\n",
      "0.0151749\n",
      "0.0127584\n",
      "0.1129529\n"
     ]
    },
    {
     "name": "stderr",
     "output_type": "stream",
     "text": [
      "\n"
     ]
    }
   ],
   "source": [
    "dast_model.main(selected_indices)"
   ]
  },
  {
   "cell_type": "code",
   "execution_count": 7,
   "metadata": {},
   "outputs": [],
   "source": [
    "y = dast_model.Y_test.detach().cpu().numpy()\n",
    "y = np.reshape(y, -1)\n",
    "y = y.tolist()"
   ]
  },
  {
   "cell_type": "code",
   "execution_count": 8,
   "metadata": {},
   "outputs": [
    {
     "data": {
      "image/png": "[encoded data removed]",
      "text/plain": [
       "<Figure size 640x480 with 1 Axes>"
      ]
     },
     "metadata": {},
     "output_type": "display_data"
    }
   ],
   "source": [
    "def loss_list():\n",
    "    plt.plot(dast_model.train_loss_list, label='Train loss', marker='o', markersize=1)\n",
    "    plt.plot(dast_model.test_loss_list, label='Test loss', marker='s', markersize=1)\n",
    "    plt.xlabel('Epoch')\n",
    "    plt.ylabel('MSE loss')\n",
    "    plt.legend()\n",
    "    plt.show()\n",
    "loss_list()"
   ]
  },
  {
   "cell_type": "code",
   "execution_count": 10,
   "metadata": {},
   "outputs": [
    {
     "data": {
      "image/png": "[encoded data removed]",
      "text/plain": [
       "<Figure size 640x480 with 1 Axes>"
      ]
     },
     "metadata": {},
     "output_type": "display_data"
    }
   ],
   "source": [
    "def best_predict():\n",
    "    plt.plot(dast_model.best_predict, label='Pred', marker='o', markersize=1)\n",
    "    plt.plot(y, label='Y', marker='s', markersize=1)\n",
    "    plt.xlabel('Time Step')\n",
    "    plt.ylabel('RUL')\n",
    "    plt.legend()\n",
    "    plt.show()\n",
    "best_predict()"
   ]
  },
  {
   "cell_type": "code",
   "execution_count": 10,
   "metadata": {},
   "outputs": [
    {
     "data": {
      "image/png": "[encoded data removed]",
      "text/plain": [
       "<Figure size 640x480 with 1 Axes>"
      ]
     },
     "metadata": {},
     "output_type": "display_data"
    }
   ],
   "source": [
    "def last_predict_vs_y():\n",
    "    last_predict_y = np.reshape(dast_model.last_predict_y, (-1))\n",
    "    last_predict_y = last_predict_y.tolist()\n",
    "    plt.plot(last_predict_y, label='Pred', marker='o', markersize=1)\n",
    "    plt.plot(y, label='Y', marker='s', markersize=1)\n",
    "    plt.xlabel('Time Step')\n",
    "    plt.ylabel('RUL')\n",
    "    plt.legend()\n",
    "    plt.show()\n",
    "last_predict_vs_y()"
   ]
  },
  {
   "cell_type": "code",
   "execution_count": 11,
   "metadata": {},
   "outputs": [
    {
     "name": "stdout",
     "output_type": "stream",
     "text": [
      "0.0095894\n",
      "0.0499251\n",
      "0.2234393\n"
     ]
    }
   ],
   "source": [
    "print(f\"{dast_model.best_train_loss:.7f}\")\n",
    "print(f\"{dast_model.best_mse_loss:.7f}\")\n",
    "print(f\"{dast_model.best_rmse_loss:.7f}\")"
   ]
  },
  {
   "cell_type": "code",
   "execution_count": null,
   "metadata": {},
   "outputs": [],
   "source": [
    "# Run above"
   ]
  }
 ],
 "metadata": {
  "kernelspec": {
   "display_name": "nlp",
   "language": "python",
   "name": "python3"
  },
  "language_info": {
   "codemirror_mode": {
    "name": "ipython",
    "version": 3
   },
   "file_extension": ".py",
   "mimetype": "text/x-python",
   "name": "python",
   "nbconvert_exporter": "python",
   "pygments_lexer": "ipython3",
   "version": "3.7.15"
  }
 },
 "nbformat": 4,
 "nbformat_minor": 2
}
