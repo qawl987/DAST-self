{
 "cells": [
  {
   "cell_type": "code",
   "execution_count": 12,
   "metadata": {},
   "outputs": [],
   "source": [
    "import copy\n",
    "import sys\n",
    "sys.path.append('/home/kai/DAST/network')\n",
    "import torch\n",
    "import torch.nn as nn\n",
    "import numpy as np\n",
    "import numpy as np\n",
    "import matplotlib.pyplot as plt\n",
    "import os\n",
    "import matplotlib.pyplot as plt\n",
    "import sys\n",
    "import os\n",
    "import time\n",
    "from torch.autograd import Variable\n",
    "from DAST_utils import *\n",
    "from DAST_Network import *\n",
    "from torch.utils.data import TensorDataset, DataLoader\n",
    "from tqdm import tqdm\n",
    "from typing import List\n",
    "os.environ[\"CUDA_VISIBLE_DEVICES\"] = \"1\"\n",
    "torch.manual_seed(42)\n",
    "if torch.cuda.is_available():\n",
    "    torch.cuda.manual_seed_all(42)\n"
   ]
  },
  {
   "cell_type": "code",
   "execution_count": 13,
   "metadata": {},
   "outputs": [],
   "source": [
    "class DASTModel():\n",
    "    def __init__(self, train_datasets: List[str], test_dataset: List[str], data_path: str, is_norm: bool, hyper_parameters: dict, model_save_path: str, model_save_name: str) -> None:\n",
    "        self.TRAIN_DATASETS = train_datasets\n",
    "        self.TEST_DATASETS = test_dataset\n",
    "        self.DATA_PATH = data_path\n",
    "        self.MODEL_SAVE_PATH = model_save_path\n",
    "        self.MODEL_SAVE_NAME = model_save_name\n",
    "        self.X_train = []\n",
    "        self.X_test = []\n",
    "        self.Y_train = []\n",
    "        self.Y_test = []\n",
    "        self.HP = hyper_parameters\n",
    "        self.device = torch.device('cuda') if torch.cuda.is_available() else torch.device('cpu')\n",
    "        self.best_predict = []\n",
    "        self.last_predict_y = None\n",
    "        self.train_loss_list = []\n",
    "        self.test_loss_list = []\n",
    "        self.best_mse_loss = 10000.0\n",
    "        self.best_rmse_loss = None\n",
    "        self.best_train_loss = 10000.0\n",
    "        self.norm = 'norm' if is_norm else ''\n",
    "        self.best_model_params = None\n",
    "        \n",
    "    @staticmethod\n",
    "    def RMSE(target, pred):\n",
    "        square_error = (target - pred) ** 2\n",
    "        mse =  (torch.sum(square_error)) / len(target)\n",
    "        rmse = mse ** 0.5\n",
    "        return rmse\n",
    "    \n",
    "    @staticmethod\n",
    "    def MAE(target, pred):\n",
    "        absolute_error = np.abs(target - pred)\n",
    "        return torch.sum(absolute_error) / len(target)\n",
    "    \n",
    "    def _load_x_y(self, folder: str):\n",
    "        y_tmp = np.load(f'{self.DATA_PATH}/{folder}/{folder}_Y.npy')\n",
    "        feature1 = self._norm(np.load(f'{self.DATA_PATH}/{folder}/{folder}_X_17_2560.npy'))\n",
    "        feature2 = self._norm(np.load(f'{self.DATA_PATH}/{folder}/{folder}_X_17_1280.npy'))\n",
    "        feature3 = self._norm(np.load(f'{self.DATA_PATH}/{folder}/{folder}_X_17_640.npy'))\n",
    "        X_train = np.concatenate((feature1, feature2, feature3), axis=2)\n",
    "        return X_train, np.reshape(y_tmp, ((len(y_tmp), -1)))\n",
    "    \n",
    "    def _norm(self, array):\n",
    "        feat_len = array.shape[2]\n",
    "        x = array.reshape(-1, feat_len)\n",
    "        min_vals = np.min(x, axis=1, keepdims=True)\n",
    "        max_vals = np.max(x, axis=1, keepdims=True)\n",
    "        normalized_array = (x - min_vals) / (max_vals - min_vals)\n",
    "        # print('min=======')\n",
    "        # print(min_array)\n",
    "        # print('max=======')\n",
    "        # print(max_array)\n",
    "        original_shape_array = normalized_array.reshape(-1, 40, feat_len)\n",
    "        return original_shape_array\n",
    "        \n",
    "    def _concate(self):\n",
    "        self.X_train = np.concatenate(self.X_train, axis=0)\n",
    "        self.Y_train = np.concatenate(self.Y_train, axis=0)\n",
    "        self.X_test = np.concatenate(self.X_test, axis=0)\n",
    "        self.Y_test = np.concatenate(self.Y_test, axis=0)\n",
    "\n",
    "    def _load_np(self,):\n",
    "        # train\n",
    "        for folder in self.TRAIN_DATASETS:\n",
    "            X_train, Y_train = self._load_x_y(folder)\n",
    "            # print(X_train.shape)\n",
    "            # print(X_train[0][0])\n",
    "            self.X_train.append(X_train)\n",
    "            self.Y_train.append(Y_train)\n",
    "        # test\n",
    "        for folder in self.TEST_DATASETS:\n",
    "            X_test, Y_test = self._load_x_y(folder)\n",
    "            self.X_test.append(X_test)\n",
    "            self.Y_test.append(Y_test)\n",
    "        \n",
    "    def _loop_feature(self, X, selected_indices):\n",
    "        extracted_values_list = []\n",
    "        for i in range(7):\n",
    "            for num in selected_indices:\n",
    "                extracted_values = X[:, :, num + 16 * i]\n",
    "                extracted_values_list.append(extracted_values)\n",
    "        result_array = np.stack(extracted_values_list, axis=-1)\n",
    "        return result_array\n",
    "    \n",
    "    def _select_feature(self, selected_indices):\n",
    "        for i in range(len(self.X_train)):\n",
    "            self.X_train[i] = self._loop_feature(self.X_train[i], selected_indices)\n",
    "        for i in range(len(self.X_test)):\n",
    "            self.X_test[i] = self._loop_feature(self.X_test[i], selected_indices)\n",
    "        \n",
    "    def _tensorizing(self):\n",
    "        self.X_train = Variable(torch.Tensor(self.X_train).float())\n",
    "        self.Y_train = Variable(torch.Tensor(self.Y_train).float())\n",
    "        self.X_test = Variable(torch.Tensor(self.X_test).float())\n",
    "        self.Y_test = Variable(torch.Tensor(self.Y_test).float())\n",
    "        \n",
    "    def _get_dataloader(self):\n",
    "        train_dataset = TensorDataset(self.X_train, self.Y_train)\n",
    "        train_loader = DataLoader(dataset=train_dataset, batch_size=self.HP['batch_size'], shuffle=False)\n",
    "        test_dataset = TensorDataset(self.X_test, self.Y_test)\n",
    "        test_loader = DataLoader(dataset=test_dataset, batch_size=self.HP['batch_size'], shuffle=False)\n",
    "        return train_loader, test_loader\n",
    "    \n",
    "    def _get_model(self):\n",
    "        model = DAST(self.HP['dim_val_s'], self.HP['dim_attn_s'], self.HP['dim_val_t'], self.HP['dim_attn_t'], self.HP['dim_val'], self.HP['dim_attn'], self.HP['time_step'], self.HP['feature_len'], self.HP['dec_seq_len'], self.HP['output_sequence_length'], self.HP['n_decoder_layers'], self.HP['n_encoder_layers'], self.HP['n_heads'], self.HP['debug'])\n",
    "        model = model.to(self.device)\n",
    "        optimizer = torch.optim.Adam(model.parameters(), lr=self.HP['lr'])\n",
    "        criterion = nn.MSELoss()\n",
    "        return model, optimizer, criterion\n",
    "\n",
    "    def train(self, model: DAST, optimizer: torch.optim.Optimizer, criterion, train_loader: DataLoader, epoch: int):\n",
    "        model.train()\n",
    "        tmp_loss_list = []\n",
    "        loop = tqdm(train_loader, leave=True)\n",
    "        for _, (X, Y) in enumerate(loop):\n",
    "            batch_X = X.to(self.device)\n",
    "            batch_Y = Y.to(self.device)\n",
    "            out = model(batch_X)\n",
    "            loss = criterion(out, batch_Y)\n",
    "            optimizer.zero_grad()\n",
    "            loss.backward()\n",
    "            optimizer.step()\n",
    "            tmp_loss_list.append(loss.item())\n",
    "        loss_eopch = np.mean(np.array(tmp_loss_list))\n",
    "        self.train_loss_list.append(loss_eopch)\n",
    "        if (loss_eopch.item() < self.best_train_loss):\n",
    "            self.best_train_loss = loss_eopch.item()\n",
    "        print('epoch = ',epoch,\n",
    "                'train_loss = ',loss_eopch.item())\n",
    "\n",
    "    def eval(self, model: DAST, test_loader: DataLoader, criterion, epoch: int):\n",
    "        model.eval()\n",
    "        prediction_list = []\n",
    "        with torch.no_grad():\n",
    "            for _ ,(batch_x, _) in enumerate(test_loader):\n",
    "                batch_X = batch_x.to(self.device)\n",
    "                prediction = model(batch_X)\n",
    "                prediction_list.append(prediction)\n",
    "\n",
    "        out_batch_pre = torch.cat(prediction_list).detach().cpu()\n",
    "        rmse_loss = self.RMSE(self.Y_test, out_batch_pre, )\n",
    "        mae_loss = self.MAE(self.Y_test, out_batch_pre, )\n",
    "        test_loss = criterion(out_batch_pre, self.Y_test)\n",
    "        self.test_loss_list.append(test_loss)\n",
    "        if (test_loss.item() < self.best_mse_loss):\n",
    "            self.best_mse_loss = test_loss.item()\n",
    "            self.best_rmse_loss = rmse_loss.item()\n",
    "            self.best_predict = np.reshape(out_batch_pre, (-1)).tolist()\n",
    "            torch.save(model.state_dict(), f'{self.MODEL_SAVE_PATH}/{self.MODEL_SAVE_NAME}.pt')\n",
    "        print('rmse_loss = ', rmse_loss.item(),\n",
    "                'mae_loss = ', mae_loss.item(),\n",
    "                'mse_loss = ', test_loss.item())\n",
    "        if epoch == self.HP['epochs'] - 1:\n",
    "            self.last_predict_y = out_batch_pre\n",
    "\n",
    "    def main(self, selected_indices):\n",
    "        self._load_np()\n",
    "        self._select_feature(selected_indices)\n",
    "        self._concate()\n",
    "        self._tensorizing()\n",
    "        model, optimizer, criterion = self._get_model()\n",
    "        train_loader, test_loader = self._get_dataloader()\n",
    "        times = 0\n",
    "        for epoch in range(self.HP['epochs']):\n",
    "            start = time.time()\n",
    "            self.train(model, optimizer, criterion, train_loader, epoch)\n",
    "            end = time.time()\n",
    "            times += end - start\n",
    "            self.eval(model, test_loader, criterion, epoch)\n",
    "        print(f\"train time: {times/100:.7f}, s/epoch\")\n",
    "        print(f\"embed1: {self.HP['dim_val_s']}, embed2: {self.HP['dim_attn_s']}, lr: {self.HP['lr']}, dec_seq_len: {self.HP['dec_seq_len']}\")\n",
    "        print(f\"{self.best_train_loss:.7f}\")\n",
    "        print(f\"{self.best_mse_loss:.7f}\")\n",
    "        print(f\"{self.best_rmse_loss:.7f}\")"
   ]
  },
  {
   "cell_type": "code",
   "execution_count": 14,
   "metadata": {},
   "outputs": [],
   "source": [
    "selected_indices = [1, 3, 5, 7, 9, 10, 14]\n",
    "# selected_indices = [0, 1, 2, 3, 4, 5, 6, 7, 8, 9, 10, 11, 12, 13, 14, 15]\n",
    "FEATURE_LEN = len(selected_indices)\n",
    "FEATURE_SIZE = 20\n",
    "EMBEDD = 20\n",
    "HYPER_PARAMETERS = {\n",
    "    'batch_size': 256,\n",
    "    'dim_val': FEATURE_SIZE,\n",
    "    'dim_attn': EMBEDD,\n",
    "    'dim_val_t': FEATURE_SIZE,\n",
    "    'dim_attn_t': EMBEDD,\n",
    "    'dim_val_s': FEATURE_SIZE,\n",
    "    'dim_attn_s': EMBEDD,\n",
    "    'n_heads': 4,\n",
    "    'n_decoder_layers': 1,\n",
    "    'n_encoder_layers': 2,\n",
    "    'lr': 1e-3,\n",
    "    'epochs': 100,\n",
    "    'time_step': 40,\n",
    "    # limit how many last input used, important!\n",
    "    'dec_seq_len': 6,\n",
    "    'output_sequence_length': 1,\n",
    "    'feature_len': FEATURE_LEN,\n",
    "    'debug': True\n",
    "}"
   ]
  },
  {
   "cell_type": "code",
   "execution_count": 15,
   "metadata": {},
   "outputs": [],
   "source": [
    "DATA_PATH = '../../../data/10FEMTO/processed_data/'\n",
    "# TRAIN_DATASETS = ['Bearing1_1', 'Bearing1_2']\n",
    "# TEST_DATASET = ['Bearing1_3', 'Bearing1_4', 'Bearing1_5', 'Bearing1_6', 'Bearing1_7']\n",
    "# TRAIN_DATASETS = ['Bearing2_1', 'Bearing2_2']\n",
    "# TEST_DATASET = ['Bearing2_3', 'Bearing2_4', 'Bearing2_5', 'Bearing2_6', 'Bearing2_7']\n",
    "TRAIN_DATASETS = ['Bearing3_1', 'Bearing3_2']\n",
    "TEST_DATASET = ['Bearing3_3']\n",
    "\n",
    "MODEL_SAVE_NAME = f'Bearing{TRAIN_DATASETS[0][7]}_pretrain_{len(selected_indices)}_batch_norm'\n",
    "IS_NORM = True\n",
    "MODEL_SAVE_PATH = '../../../model/norm'"
   ]
  },
  {
   "cell_type": "code",
   "execution_count": 16,
   "metadata": {},
   "outputs": [],
   "source": [
    "dast_model = DASTModel(train_datasets=TRAIN_DATASETS, test_dataset=TEST_DATASET, data_path=DATA_PATH, is_norm=IS_NORM, hyper_parameters=HYPER_PARAMETERS, model_save_path=MODEL_SAVE_PATH, model_save_name=MODEL_SAVE_NAME)"
   ]
  },
  {
   "cell_type": "code",
   "execution_count": 17,
   "metadata": {},
   "outputs": [
    {
     "name": "stderr",
     "output_type": "stream",
     "text": [
      "100%|██████████| 9/9 [00:00<00:00, 12.87it/s]\n"
     ]
    },
    {
     "name": "stdout",
     "output_type": "stream",
     "text": [
      "epoch =  0 train_loss =  0.12988204705632395\n",
      "rmse_loss =  0.24407775700092316 mae_loss =  0.23161420226097107 mse_loss =  0.0595739521086216\n"
     ]
    },
    {
     "name": "stderr",
     "output_type": "stream",
     "text": [
      "100%|██████████| 9/9 [00:00<00:00, 12.38it/s]\n"
     ]
    },
    {
     "name": "stdout",
     "output_type": "stream",
     "text": [
      "epoch =  1 train_loss =  0.14720938458210892\n",
      "rmse_loss =  0.1547684520483017 mae_loss =  0.11235270649194717 mse_loss =  0.02395327389240265\n"
     ]
    },
    {
     "name": "stderr",
     "output_type": "stream",
     "text": [
      "100%|██████████| 9/9 [00:00<00:00, 13.03it/s]\n"
     ]
    },
    {
     "name": "stdout",
     "output_type": "stream",
     "text": [
      "epoch =  2 train_loss =  0.06095058482605964\n",
      "rmse_loss =  0.10801848024129868 mae_loss =  0.07695325464010239 mse_loss =  0.011667991988360882\n"
     ]
    },
    {
     "name": "stderr",
     "output_type": "stream",
     "text": [
      "100%|██████████| 9/9 [00:00<00:00, 14.60it/s]\n"
     ]
    },
    {
     "name": "stdout",
     "output_type": "stream",
     "text": [
      "epoch =  3 train_loss =  0.05062539500391318\n",
      "rmse_loss =  0.1298128068447113 mae_loss =  0.09052107483148575 mse_loss =  0.016851365566253662\n"
     ]
    },
    {
     "name": "stderr",
     "output_type": "stream",
     "text": [
      "100%|██████████| 9/9 [00:00<00:00, 14.52it/s]\n"
     ]
    },
    {
     "name": "stdout",
     "output_type": "stream",
     "text": [
      "epoch =  4 train_loss =  0.05098600147498979\n",
      "rmse_loss =  0.1244778260588646 mae_loss =  0.08482041954994202 mse_loss =  0.01549472939223051\n"
     ]
    },
    {
     "name": "stderr",
     "output_type": "stream",
     "text": [
      "100%|██████████| 9/9 [00:00<00:00, 13.87it/s]\n"
     ]
    },
    {
     "name": "stdout",
     "output_type": "stream",
     "text": [
      "epoch =  5 train_loss =  0.036255657103740506\n",
      "rmse_loss =  0.14216186106204987 mae_loss =  0.10434044897556305 mse_loss =  0.02020999602973461\n"
     ]
    },
    {
     "name": "stderr",
     "output_type": "stream",
     "text": [
      "100%|██████████| 9/9 [00:00<00:00, 14.67it/s]\n"
     ]
    },
    {
     "name": "stdout",
     "output_type": "stream",
     "text": [
      "epoch =  6 train_loss =  0.041726175954358444\n",
      "rmse_loss =  0.12192944437265396 mae_loss =  0.0905555859208107 mse_loss =  0.014866788871586323\n"
     ]
    },
    {
     "name": "stderr",
     "output_type": "stream",
     "text": [
      "100%|██████████| 9/9 [00:00<00:00, 17.97it/s]\n"
     ]
    },
    {
     "name": "stdout",
     "output_type": "stream",
     "text": [
      "epoch =  7 train_loss =  0.034118195788727865\n",
      "rmse_loss =  0.1588929146528244 mae_loss =  0.12338315695524216 mse_loss =  0.025246957316994667\n"
     ]
    },
    {
     "name": "stderr",
     "output_type": "stream",
     "text": [
      "100%|██████████| 9/9 [00:00<00:00, 18.08it/s]\n"
     ]
    },
    {
     "name": "stdout",
     "output_type": "stream",
     "text": [
      "epoch =  8 train_loss =  0.03166614620325466\n",
      "rmse_loss =  0.18172192573547363 mae_loss =  0.15845847129821777 mse_loss =  0.03302285820245743\n"
     ]
    },
    {
     "name": "stderr",
     "output_type": "stream",
     "text": [
      "100%|██████████| 9/9 [00:00<00:00, 17.97it/s]\n"
     ]
    },
    {
     "name": "stdout",
     "output_type": "stream",
     "text": [
      "epoch =  9 train_loss =  0.03393871559657984\n",
      "rmse_loss =  0.17827968299388885 mae_loss =  0.1543993055820465 mse_loss =  0.03178364410996437\n"
     ]
    },
    {
     "name": "stderr",
     "output_type": "stream",
     "text": [
      "100%|██████████| 9/9 [00:00<00:00, 17.84it/s]\n"
     ]
    },
    {
     "name": "stdout",
     "output_type": "stream",
     "text": [
      "epoch =  10 train_loss =  0.02936784302194913\n",
      "rmse_loss =  0.20738928020000458 mae_loss =  0.1826077252626419 mse_loss =  0.04301031306385994\n"
     ]
    },
    {
     "name": "stderr",
     "output_type": "stream",
     "text": [
      "100%|██████████| 9/9 [00:00<00:00, 17.90it/s]\n"
     ]
    },
    {
     "name": "stdout",
     "output_type": "stream",
     "text": [
      "epoch =  11 train_loss =  0.02994029733559324\n",
      "rmse_loss =  0.21687862277030945 mae_loss =  0.19691918790340424 mse_loss =  0.04703633487224579\n"
     ]
    },
    {
     "name": "stderr",
     "output_type": "stream",
     "text": [
      "100%|██████████| 9/9 [00:00<00:00, 18.01it/s]\n"
     ]
    },
    {
     "name": "stdout",
     "output_type": "stream",
     "text": [
      "epoch =  12 train_loss =  0.030589931696239445\n",
      "rmse_loss =  0.2129780352115631 mae_loss =  0.19024702906608582 mse_loss =  0.045359641313552856\n"
     ]
    },
    {
     "name": "stderr",
     "output_type": "stream",
     "text": [
      "100%|██████████| 9/9 [00:00<00:00, 17.84it/s]\n"
     ]
    },
    {
     "name": "stdout",
     "output_type": "stream",
     "text": [
      "epoch =  13 train_loss =  0.027519489793727796\n",
      "rmse_loss =  0.2357991486787796 mae_loss =  0.2147936224937439 mse_loss =  0.05560123547911644\n"
     ]
    },
    {
     "name": "stderr",
     "output_type": "stream",
     "text": [
      "100%|██████████| 9/9 [00:00<00:00, 17.74it/s]\n"
     ]
    },
    {
     "name": "stdout",
     "output_type": "stream",
     "text": [
      "epoch =  14 train_loss =  0.02937209104291267\n",
      "rmse_loss =  0.2324991673231125 mae_loss =  0.21261480450630188 mse_loss =  0.05405586212873459\n"
     ]
    },
    {
     "name": "stderr",
     "output_type": "stream",
     "text": [
      "100%|██████████| 9/9 [00:00<00:00, 17.68it/s]\n"
     ]
    },
    {
     "name": "stdout",
     "output_type": "stream",
     "text": [
      "epoch =  15 train_loss =  0.027932248000676434\n",
      "rmse_loss =  0.23521341383457184 mae_loss =  0.2129935324192047 mse_loss =  0.055325351655483246\n"
     ]
    },
    {
     "name": "stderr",
     "output_type": "stream",
     "text": [
      "100%|██████████| 9/9 [00:00<00:00, 17.97it/s]\n"
     ]
    },
    {
     "name": "stdout",
     "output_type": "stream",
     "text": [
      "epoch =  16 train_loss =  0.02663154931118091\n",
      "rmse_loss =  0.2530614137649536 mae_loss =  0.23288249969482422 mse_loss =  0.06404007971286774\n"
     ]
    },
    {
     "name": "stderr",
     "output_type": "stream",
     "text": [
      "100%|██████████| 9/9 [00:00<00:00, 18.16it/s]\n"
     ]
    },
    {
     "name": "stdout",
     "output_type": "stream",
     "text": [
      "epoch =  17 train_loss =  0.028376966818339296\n",
      "rmse_loss =  0.24017101526260376 mae_loss =  0.21885235607624054 mse_loss =  0.05768211558461189\n"
     ]
    },
    {
     "name": "stderr",
     "output_type": "stream",
     "text": [
      "100%|██████████| 9/9 [00:00<00:00, 18.22it/s]\n"
     ]
    },
    {
     "name": "stdout",
     "output_type": "stream",
     "text": [
      "epoch =  18 train_loss =  0.02561879983275301\n",
      "rmse_loss =  0.2564435303211212 mae_loss =  0.23491045832633972 mse_loss =  0.06576328724622726\n"
     ]
    },
    {
     "name": "stderr",
     "output_type": "stream",
     "text": [
      "100%|██████████| 9/9 [00:00<00:00, 17.95it/s]\n"
     ]
    },
    {
     "name": "stdout",
     "output_type": "stream",
     "text": [
      "epoch =  19 train_loss =  0.02666703427934812\n",
      "rmse_loss =  0.26047059893608093 mae_loss =  0.2392733246088028 mse_loss =  0.0678449273109436\n"
     ]
    },
    {
     "name": "stderr",
     "output_type": "stream",
     "text": [
      "100%|██████████| 9/9 [00:00<00:00, 18.33it/s]\n"
     ]
    },
    {
     "name": "stdout",
     "output_type": "stream",
     "text": [
      "epoch =  20 train_loss =  0.026302271807152364\n",
      "rmse_loss =  0.25267264246940613 mae_loss =  0.22984027862548828 mse_loss =  0.06384345889091492\n"
     ]
    },
    {
     "name": "stderr",
     "output_type": "stream",
     "text": [
      "100%|██████████| 9/9 [00:00<00:00, 18.89it/s]\n"
     ]
    },
    {
     "name": "stdout",
     "output_type": "stream",
     "text": [
      "epoch =  21 train_loss =  0.02448869299971395\n",
      "rmse_loss =  0.27625590562820435 mae_loss =  0.25393590331077576 mse_loss =  0.07631732523441315\n"
     ]
    },
    {
     "name": "stderr",
     "output_type": "stream",
     "text": [
      "100%|██████████| 9/9 [00:00<00:00, 18.96it/s]\n"
     ]
    },
    {
     "name": "stdout",
     "output_type": "stream",
     "text": [
      "epoch =  22 train_loss =  0.026604617480188608\n",
      "rmse_loss =  0.25897136330604553 mae_loss =  0.23586486279964447 mse_loss =  0.06706617027521133\n"
     ]
    },
    {
     "name": "stderr",
     "output_type": "stream",
     "text": [
      "100%|██████████| 9/9 [00:00<00:00, 18.87it/s]\n"
     ]
    },
    {
     "name": "stdout",
     "output_type": "stream",
     "text": [
      "epoch =  23 train_loss =  0.02376266706010534\n",
      "rmse_loss =  0.2760157287120819 mae_loss =  0.25254014134407043 mse_loss =  0.07618468254804611\n"
     ]
    },
    {
     "name": "stderr",
     "output_type": "stream",
     "text": [
      "100%|██████████| 9/9 [00:00<00:00, 18.92it/s]\n"
     ]
    },
    {
     "name": "stdout",
     "output_type": "stream",
     "text": [
      "epoch =  24 train_loss =  0.025044566486030817\n",
      "rmse_loss =  0.2803323268890381 mae_loss =  0.2562183737754822 mse_loss =  0.07858621329069138\n"
     ]
    },
    {
     "name": "stderr",
     "output_type": "stream",
     "text": [
      "100%|██████████| 9/9 [00:00<00:00, 18.85it/s]\n"
     ]
    },
    {
     "name": "stdout",
     "output_type": "stream",
     "text": [
      "epoch =  25 train_loss =  0.024538566461867757\n",
      "rmse_loss =  0.2679566442966461 mae_loss =  0.24296867847442627 mse_loss =  0.07180076837539673\n"
     ]
    },
    {
     "name": "stderr",
     "output_type": "stream",
     "text": [
      "100%|██████████| 9/9 [00:00<00:00, 18.91it/s]\n"
     ]
    },
    {
     "name": "stdout",
     "output_type": "stream",
     "text": [
      "epoch =  26 train_loss =  0.02291740368430813\n",
      "rmse_loss =  0.29841604828834534 mae_loss =  0.27264413237571716 mse_loss =  0.08905213326215744\n"
     ]
    },
    {
     "name": "stderr",
     "output_type": "stream",
     "text": [
      "100%|██████████| 9/9 [00:00<00:00, 18.89it/s]\n"
     ]
    },
    {
     "name": "stdout",
     "output_type": "stream",
     "text": [
      "epoch =  27 train_loss =  0.025373646239232685\n",
      "rmse_loss =  0.2680339515209198 mae_loss =  0.24200357496738434 mse_loss =  0.07184220105409622\n"
     ]
    },
    {
     "name": "stderr",
     "output_type": "stream",
     "text": [
      "100%|██████████| 9/9 [00:00<00:00, 18.92it/s]\n"
     ]
    },
    {
     "name": "stdout",
     "output_type": "stream",
     "text": [
      "epoch =  28 train_loss =  0.02179936130738093\n",
      "rmse_loss =  0.30000439286231995 mae_loss =  0.2733714282512665 mse_loss =  0.0900026336312294\n"
     ]
    },
    {
     "name": "stderr",
     "output_type": "stream",
     "text": [
      "100%|██████████| 9/9 [00:00<00:00, 18.89it/s]\n"
     ]
    },
    {
     "name": "stdout",
     "output_type": "stream",
     "text": [
      "epoch =  29 train_loss =  0.024535768018621538\n",
      "rmse_loss =  0.28707072138786316 mae_loss =  0.25966131687164307 mse_loss =  0.08240960538387299\n"
     ]
    },
    {
     "name": "stderr",
     "output_type": "stream",
     "text": [
      "100%|██████████| 9/9 [00:00<00:00, 18.96it/s]\n"
     ]
    },
    {
     "name": "stdout",
     "output_type": "stream",
     "text": [
      "epoch =  30 train_loss =  0.022288780400736466\n",
      "rmse_loss =  0.2872169315814972 mae_loss =  0.2596817910671234 mse_loss =  0.08249357342720032\n"
     ]
    },
    {
     "name": "stderr",
     "output_type": "stream",
     "text": [
      "100%|██████████| 9/9 [00:00<00:00, 18.87it/s]\n"
     ]
    },
    {
     "name": "stdout",
     "output_type": "stream",
     "text": [
      "epoch =  31 train_loss =  0.02236332232132554\n",
      "rmse_loss =  0.31547799706459045 mae_loss =  0.2852414548397064 mse_loss =  0.09952636063098907\n"
     ]
    },
    {
     "name": "stderr",
     "output_type": "stream",
     "text": [
      "100%|██████████| 9/9 [00:00<00:00, 18.92it/s]\n"
     ]
    },
    {
     "name": "stdout",
     "output_type": "stream",
     "text": [
      "epoch =  32 train_loss =  0.023936732723895047\n",
      "rmse_loss =  0.27223774790763855 mae_loss =  0.24272212386131287 mse_loss =  0.0741133987903595\n"
     ]
    },
    {
     "name": "stderr",
     "output_type": "stream",
     "text": [
      "100%|██████████| 9/9 [00:00<00:00, 18.88it/s]\n"
     ]
    },
    {
     "name": "stdout",
     "output_type": "stream",
     "text": [
      "epoch =  33 train_loss =  0.020366928721260693\n",
      "rmse_loss =  0.3333130180835724 mae_loss =  0.3009294271469116 mse_loss =  0.11109756678342819\n"
     ]
    },
    {
     "name": "stderr",
     "output_type": "stream",
     "text": [
      "100%|██████████| 9/9 [00:00<00:00, 18.93it/s]\n"
     ]
    },
    {
     "name": "stdout",
     "output_type": "stream",
     "text": [
      "epoch =  34 train_loss =  0.02509040314341999\n",
      "rmse_loss =  0.271089643239975 mae_loss =  0.24051697552204132 mse_loss =  0.07348959147930145\n"
     ]
    },
    {
     "name": "stderr",
     "output_type": "stream",
     "text": [
      "100%|██████████| 9/9 [00:00<00:00, 18.91it/s]\n"
     ]
    },
    {
     "name": "stdout",
     "output_type": "stream",
     "text": [
      "epoch =  35 train_loss =  0.019397474877122376\n",
      "rmse_loss =  0.3288280963897705 mae_loss =  0.2965993881225586 mse_loss =  0.10812791436910629\n"
     ]
    },
    {
     "name": "stderr",
     "output_type": "stream",
     "text": [
      "100%|██████████| 9/9 [00:00<00:00, 18.94it/s]\n"
     ]
    },
    {
     "name": "stdout",
     "output_type": "stream",
     "text": [
      "epoch =  36 train_loss =  0.02412402556122591\n",
      "rmse_loss =  0.29547667503356934 mae_loss =  0.26315736770629883 mse_loss =  0.08730646967887878\n"
     ]
    },
    {
     "name": "stderr",
     "output_type": "stream",
     "text": [
      "100%|██████████| 9/9 [00:00<00:00, 18.91it/s]\n"
     ]
    },
    {
     "name": "stdout",
     "output_type": "stream",
     "text": [
      "epoch =  37 train_loss =  0.02043604475653006\n",
      "rmse_loss =  0.30615565180778503 mae_loss =  0.27443668246269226 mse_loss =  0.09373129159212112\n"
     ]
    },
    {
     "name": "stderr",
     "output_type": "stream",
     "text": [
      "100%|██████████| 9/9 [00:00<00:00, 18.92it/s]\n"
     ]
    },
    {
     "name": "stdout",
     "output_type": "stream",
     "text": [
      "epoch =  38 train_loss =  0.02171682830279072\n",
      "rmse_loss =  0.3416326642036438 mae_loss =  0.30383580923080444 mse_loss =  0.11671288311481476\n"
     ]
    },
    {
     "name": "stderr",
     "output_type": "stream",
     "text": [
      "100%|██████████| 9/9 [00:00<00:00, 18.95it/s]\n"
     ]
    },
    {
     "name": "stdout",
     "output_type": "stream",
     "text": [
      "epoch =  39 train_loss =  0.023559600683963962\n",
      "rmse_loss =  0.2758806347846985 mae_loss =  0.24041636288166046 mse_loss =  0.07611013203859329\n"
     ]
    },
    {
     "name": "stderr",
     "output_type": "stream",
     "text": [
      "100%|██████████| 9/9 [00:00<00:00, 18.95it/s]\n"
     ]
    },
    {
     "name": "stdout",
     "output_type": "stream",
     "text": [
      "epoch =  40 train_loss =  0.019257915581369564\n",
      "rmse_loss =  0.38513627648353577 mae_loss =  0.3430268466472626 mse_loss =  0.1483299434185028\n"
     ]
    },
    {
     "name": "stderr",
     "output_type": "stream",
     "text": [
      "100%|██████████| 9/9 [00:00<00:00, 18.92it/s]\n"
     ]
    },
    {
     "name": "stdout",
     "output_type": "stream",
     "text": [
      "epoch =  41 train_loss =  0.02723972654591004\n",
      "rmse_loss =  0.2451442927122116 mae_loss =  0.20707134902477264 mse_loss =  0.06009572744369507\n"
     ]
    },
    {
     "name": "stderr",
     "output_type": "stream",
     "text": [
      "100%|██████████| 9/9 [00:00<00:00, 18.93it/s]\n"
     ]
    },
    {
     "name": "stdout",
     "output_type": "stream",
     "text": [
      "epoch =  42 train_loss =  0.017758660212469597\n",
      "rmse_loss =  0.37048038840293884 mae_loss =  0.3311459720134735 mse_loss =  0.1372557282447815\n"
     ]
    },
    {
     "name": "stderr",
     "output_type": "stream",
     "text": [
      "100%|██████████| 9/9 [00:00<00:00, 18.91it/s]\n"
     ]
    },
    {
     "name": "stdout",
     "output_type": "stream",
     "text": [
      "epoch =  43 train_loss =  0.027611006905014317\n",
      "rmse_loss =  0.27094289660453796 mae_loss =  0.23537899553775787 mse_loss =  0.07341005653142929\n"
     ]
    },
    {
     "name": "stderr",
     "output_type": "stream",
     "text": [
      "100%|██████████| 9/9 [00:00<00:00, 18.93it/s]\n"
     ]
    },
    {
     "name": "stdout",
     "output_type": "stream",
     "text": [
      "epoch =  44 train_loss =  0.018389526107865903\n",
      "rmse_loss =  0.33806318044662476 mae_loss =  0.30288463830947876 mse_loss =  0.11428670585155487\n"
     ]
    },
    {
     "name": "stderr",
     "output_type": "stream",
     "text": [
      "100%|██████████| 9/9 [00:00<00:00, 18.92it/s]\n"
     ]
    },
    {
     "name": "stdout",
     "output_type": "stream",
     "text": [
      "epoch =  45 train_loss =  0.0241850558668375\n",
      "rmse_loss =  0.3482714593410492 mae_loss =  0.30373117327690125 mse_loss =  0.12129300832748413\n"
     ]
    },
    {
     "name": "stderr",
     "output_type": "stream",
     "text": [
      "100%|██████████| 9/9 [00:00<00:00, 18.93it/s]\n"
     ]
    },
    {
     "name": "stdout",
     "output_type": "stream",
     "text": [
      "epoch =  46 train_loss =  0.022743004167245492\n",
      "rmse_loss =  0.2876591384410858 mae_loss =  0.24819597601890564 mse_loss =  0.08274777233600616\n"
     ]
    },
    {
     "name": "stderr",
     "output_type": "stream",
     "text": [
      "100%|██████████| 9/9 [00:00<00:00, 18.96it/s]\n"
     ]
    },
    {
     "name": "stdout",
     "output_type": "stream",
     "text": [
      "epoch =  47 train_loss =  0.01971377621197866\n",
      "rmse_loss =  0.4338054358959198 mae_loss =  0.3826720416545868 mse_loss =  0.18818716704845428\n"
     ]
    },
    {
     "name": "stderr",
     "output_type": "stream",
     "text": [
      "100%|██████████| 9/9 [00:00<00:00, 18.90it/s]\n"
     ]
    },
    {
     "name": "stdout",
     "output_type": "stream",
     "text": [
      "epoch =  48 train_loss =  0.028457913043287892\n",
      "rmse_loss =  0.2126278579235077 mae_loss =  0.17003630101680756 mse_loss =  0.04521060734987259\n"
     ]
    },
    {
     "name": "stderr",
     "output_type": "stream",
     "text": [
      "100%|██████████| 9/9 [00:00<00:00, 18.94it/s]\n"
     ]
    },
    {
     "name": "stdout",
     "output_type": "stream",
     "text": [
      "epoch =  49 train_loss =  0.01898455368872318\n",
      "rmse_loss =  0.34410274028778076 mae_loss =  0.30629584193229675 mse_loss =  0.11840670555830002\n"
     ]
    },
    {
     "name": "stderr",
     "output_type": "stream",
     "text": [
      "100%|██████████| 9/9 [00:00<00:00, 18.92it/s]\n"
     ]
    },
    {
     "name": "stdout",
     "output_type": "stream",
     "text": [
      "epoch =  50 train_loss =  0.029101936612278223\n",
      "rmse_loss =  0.2940213680267334 mae_loss =  0.2532558739185333 mse_loss =  0.0864485651254654\n"
     ]
    },
    {
     "name": "stderr",
     "output_type": "stream",
     "text": [
      "100%|██████████| 9/9 [00:00<00:00, 18.92it/s]\n"
     ]
    },
    {
     "name": "stdout",
     "output_type": "stream",
     "text": [
      "epoch =  51 train_loss =  0.017395221007366974\n",
      "rmse_loss =  0.3500021994113922 mae_loss =  0.314055860042572 mse_loss =  0.12250152975320816\n"
     ]
    },
    {
     "name": "stderr",
     "output_type": "stream",
     "text": [
      "100%|██████████| 9/9 [00:00<00:00, 18.92it/s]\n"
     ]
    },
    {
     "name": "stdout",
     "output_type": "stream",
     "text": [
      "epoch =  52 train_loss =  0.02525891477449073\n",
      "rmse_loss =  0.38898852467536926 mae_loss =  0.3352569341659546 mse_loss =  0.15131208300590515\n"
     ]
    },
    {
     "name": "stderr",
     "output_type": "stream",
     "text": [
      "100%|██████████| 9/9 [00:00<00:00, 18.94it/s]\n"
     ]
    },
    {
     "name": "stdout",
     "output_type": "stream",
     "text": [
      "epoch =  53 train_loss =  0.02237239009183314\n",
      "rmse_loss =  0.26572415232658386 mae_loss =  0.2214626520872116 mse_loss =  0.07060932368040085\n"
     ]
    },
    {
     "name": "stderr",
     "output_type": "stream",
     "text": [
      "100%|██████████| 9/9 [00:00<00:00, 18.92it/s]\n"
     ]
    },
    {
     "name": "stdout",
     "output_type": "stream",
     "text": [
      "epoch =  54 train_loss =  0.01878607208426628\n",
      "rmse_loss =  0.4223896861076355 mae_loss =  0.37329864501953125 mse_loss =  0.1784130483865738\n"
     ]
    },
    {
     "name": "stderr",
     "output_type": "stream",
     "text": [
      "100%|██████████| 9/9 [00:00<00:00, 18.92it/s]\n"
     ]
    },
    {
     "name": "stdout",
     "output_type": "stream",
     "text": [
      "epoch =  55 train_loss =  0.028458460027145013\n",
      "rmse_loss =  0.2224559783935547 mae_loss =  0.1828266680240631 mse_loss =  0.049486663192510605\n"
     ]
    },
    {
     "name": "stderr",
     "output_type": "stream",
     "text": [
      "100%|██████████| 9/9 [00:00<00:00, 18.91it/s]\n"
     ]
    },
    {
     "name": "stdout",
     "output_type": "stream",
     "text": [
      "epoch =  56 train_loss =  0.01641949986676789\n",
      "rmse_loss =  0.34714698791503906 mae_loss =  0.30700215697288513 mse_loss =  0.12051103264093399\n"
     ]
    },
    {
     "name": "stderr",
     "output_type": "stream",
     "text": [
      "100%|██████████| 9/9 [00:00<00:00, 18.86it/s]\n"
     ]
    },
    {
     "name": "stdout",
     "output_type": "stream",
     "text": [
      "epoch =  57 train_loss =  0.024866746195281546\n",
      "rmse_loss =  0.3208044171333313 mae_loss =  0.2749773859977722 mse_loss =  0.10291548073291779\n"
     ]
    },
    {
     "name": "stderr",
     "output_type": "stream",
     "text": [
      "100%|██████████| 9/9 [00:00<00:00, 18.88it/s]\n"
     ]
    },
    {
     "name": "stdout",
     "output_type": "stream",
     "text": [
      "epoch =  58 train_loss =  0.01576979748076863\n",
      "rmse_loss =  0.33153411746025085 mae_loss =  0.2923597991466522 mse_loss =  0.1099148690700531\n"
     ]
    },
    {
     "name": "stderr",
     "output_type": "stream",
     "text": [
      "100%|██████████| 9/9 [00:00<00:00, 18.94it/s]\n"
     ]
    },
    {
     "name": "stdout",
     "output_type": "stream",
     "text": [
      "epoch =  59 train_loss =  0.01969325200965007\n",
      "rmse_loss =  0.3891608417034149 mae_loss =  0.3345646858215332 mse_loss =  0.1514461636543274\n"
     ]
    },
    {
     "name": "stderr",
     "output_type": "stream",
     "text": [
      "100%|██████████| 9/9 [00:00<00:00, 18.89it/s]\n"
     ]
    },
    {
     "name": "stdout",
     "output_type": "stream",
     "text": [
      "epoch =  60 train_loss =  0.019435555570655398\n",
      "rmse_loss =  0.2799564599990845 mae_loss =  0.23711705207824707 mse_loss =  0.07837561517953873\n"
     ]
    },
    {
     "name": "stderr",
     "output_type": "stream",
     "text": [
      "100%|██████████| 9/9 [00:00<00:00, 18.94it/s]\n"
     ]
    },
    {
     "name": "stdout",
     "output_type": "stream",
     "text": [
      "epoch =  61 train_loss =  0.01608398261790474\n",
      "rmse_loss =  0.3941560685634613 mae_loss =  0.3430689573287964 mse_loss =  0.15535899996757507\n"
     ]
    },
    {
     "name": "stderr",
     "output_type": "stream",
     "text": [
      "100%|██████████| 9/9 [00:00<00:00, 18.90it/s]\n"
     ]
    },
    {
     "name": "stdout",
     "output_type": "stream",
     "text": [
      "epoch =  62 train_loss =  0.021999488985683355\n",
      "rmse_loss =  0.27881675958633423 mae_loss =  0.23543348908424377 mse_loss =  0.07773879170417786\n"
     ]
    },
    {
     "name": "stderr",
     "output_type": "stream",
     "text": [
      "100%|██████████| 9/9 [00:00<00:00, 18.93it/s]\n"
     ]
    },
    {
     "name": "stdout",
     "output_type": "stream",
     "text": [
      "epoch =  63 train_loss =  0.014204289958191415\n",
      "rmse_loss =  0.3624935746192932 mae_loss =  0.3154343068599701 mse_loss =  0.13140159845352173\n"
     ]
    },
    {
     "name": "stderr",
     "output_type": "stream",
     "text": [
      "100%|██████████| 9/9 [00:00<00:00, 18.84it/s]\n"
     ]
    },
    {
     "name": "stdout",
     "output_type": "stream",
     "text": [
      "epoch =  64 train_loss =  0.019603809936799936\n",
      "rmse_loss =  0.33448079228401184 mae_loss =  0.28386521339416504 mse_loss =  0.11187740415334702\n"
     ]
    },
    {
     "name": "stderr",
     "output_type": "stream",
     "text": [
      "100%|██████████| 9/9 [00:00<00:00, 18.96it/s]\n"
     ]
    },
    {
     "name": "stdout",
     "output_type": "stream",
     "text": [
      "epoch =  65 train_loss =  0.014783658294214143\n",
      "rmse_loss =  0.3441256582736969 mae_loss =  0.29701247811317444 mse_loss =  0.11842247098684311\n"
     ]
    },
    {
     "name": "stderr",
     "output_type": "stream",
     "text": [
      "100%|██████████| 9/9 [00:00<00:00, 18.89it/s]\n"
     ]
    },
    {
     "name": "stdout",
     "output_type": "stream",
     "text": [
      "epoch =  66 train_loss =  0.016331876653970942\n",
      "rmse_loss =  0.3730807304382324 mae_loss =  0.3179333209991455 mse_loss =  0.1391892284154892\n"
     ]
    },
    {
     "name": "stderr",
     "output_type": "stream",
     "text": [
      "100%|██████████| 9/9 [00:00<00:00, 18.93it/s]\n"
     ]
    },
    {
     "name": "stdout",
     "output_type": "stream",
     "text": [
      "epoch =  67 train_loss =  0.01669347564327634\n",
      "rmse_loss =  0.3235861361026764 mae_loss =  0.2752658724784851 mse_loss =  0.1047079861164093\n"
     ]
    },
    {
     "name": "stderr",
     "output_type": "stream",
     "text": [
      "100%|██████████| 9/9 [00:00<00:00, 18.91it/s]\n"
     ]
    },
    {
     "name": "stdout",
     "output_type": "stream",
     "text": [
      "epoch =  68 train_loss =  0.014230863708588812\n",
      "rmse_loss =  0.38332995772361755 mae_loss =  0.3274078667163849 mse_loss =  0.14694185554981232\n"
     ]
    },
    {
     "name": "stderr",
     "output_type": "stream",
     "text": [
      "100%|██████████| 9/9 [00:00<00:00, 18.96it/s]\n"
     ]
    },
    {
     "name": "stdout",
     "output_type": "stream",
     "text": [
      "epoch =  69 train_loss =  0.01732075456271155\n",
      "rmse_loss =  0.32622164487838745 mae_loss =  0.2744450867176056 mse_loss =  0.10642056167125702\n"
     ]
    },
    {
     "name": "stderr",
     "output_type": "stream",
     "text": [
      "100%|██████████| 9/9 [00:00<00:00, 18.90it/s]\n"
     ]
    },
    {
     "name": "stdout",
     "output_type": "stream",
     "text": [
      "epoch =  70 train_loss =  0.013858439277909283\n",
      "rmse_loss =  0.3806665241718292 mae_loss =  0.32313302159309387 mse_loss =  0.14490701258182526\n"
     ]
    },
    {
     "name": "stderr",
     "output_type": "stream",
     "text": [
      "100%|██████████| 9/9 [00:00<00:00, 18.94it/s]\n"
     ]
    },
    {
     "name": "stdout",
     "output_type": "stream",
     "text": [
      "epoch =  71 train_loss =  0.016059775746220514\n",
      "rmse_loss =  0.3488287627696991 mae_loss =  0.2911224365234375 mse_loss =  0.12168151140213013\n"
     ]
    },
    {
     "name": "stderr",
     "output_type": "stream",
     "text": [
      "100%|██████████| 9/9 [00:00<00:00, 17.15it/s]\n"
     ]
    },
    {
     "name": "stdout",
     "output_type": "stream",
     "text": [
      "epoch =  72 train_loss =  0.014515333576127887\n",
      "rmse_loss =  0.3814471364021301 mae_loss =  0.3199946880340576 mse_loss =  0.14550191164016724\n"
     ]
    },
    {
     "name": "stderr",
     "output_type": "stream",
     "text": [
      "100%|██████████| 9/9 [00:00<00:00, 18.93it/s]\n"
     ]
    },
    {
     "name": "stdout",
     "output_type": "stream",
     "text": [
      "epoch =  73 train_loss =  0.014272848053628372\n",
      "rmse_loss =  0.3667549192905426 mae_loss =  0.3037112057209015 mse_loss =  0.1345091611146927\n"
     ]
    },
    {
     "name": "stderr",
     "output_type": "stream",
     "text": [
      "100%|██████████| 9/9 [00:00<00:00, 18.90it/s]\n"
     ]
    },
    {
     "name": "stdout",
     "output_type": "stream",
     "text": [
      "epoch =  74 train_loss =  0.01491259452369478\n",
      "rmse_loss =  0.39238980412483215 mae_loss =  0.32353952527046204 mse_loss =  0.15396976470947266\n"
     ]
    },
    {
     "name": "stderr",
     "output_type": "stream",
     "text": [
      "100%|██████████| 9/9 [00:00<00:00, 18.91it/s]\n"
     ]
    },
    {
     "name": "stdout",
     "output_type": "stream",
     "text": [
      "epoch =  75 train_loss =  0.013349375674604542\n",
      "rmse_loss =  0.37825196981430054 mae_loss =  0.30958619713783264 mse_loss =  0.14307455718517303\n"
     ]
    },
    {
     "name": "stderr",
     "output_type": "stream",
     "text": [
      "100%|██████████| 9/9 [00:00<00:00, 18.90it/s]\n"
     ]
    },
    {
     "name": "stdout",
     "output_type": "stream",
     "text": [
      "epoch =  76 train_loss =  0.014318191174728176\n",
      "rmse_loss =  0.4153873324394226 mae_loss =  0.3371240794658661 mse_loss =  0.1725466251373291\n"
     ]
    },
    {
     "name": "stderr",
     "output_type": "stream",
     "text": [
      "100%|██████████| 9/9 [00:00<00:00, 18.79it/s]\n"
     ]
    },
    {
     "name": "stdout",
     "output_type": "stream",
     "text": [
      "epoch =  77 train_loss =  0.014691466181021597\n",
      "rmse_loss =  0.38364142179489136 mae_loss =  0.31115132570266724 mse_loss =  0.1471807360649109\n"
     ]
    },
    {
     "name": "stderr",
     "output_type": "stream",
     "text": [
      "100%|██████████| 9/9 [00:00<00:00, 18.91it/s]\n"
     ]
    },
    {
     "name": "stdout",
     "output_type": "stream",
     "text": [
      "epoch =  78 train_loss =  0.013716458873305883\n",
      "rmse_loss =  0.43175286054611206 mae_loss =  0.34762391448020935 mse_loss =  0.18641053140163422\n"
     ]
    },
    {
     "name": "stderr",
     "output_type": "stream",
     "text": [
      "100%|██████████| 9/9 [00:00<00:00, 18.94it/s]\n"
     ]
    },
    {
     "name": "stdout",
     "output_type": "stream",
     "text": [
      "epoch =  79 train_loss =  0.018119192255350452\n",
      "rmse_loss =  0.38619664311408997 mae_loss =  0.3150392174720764 mse_loss =  0.1491478532552719\n"
     ]
    },
    {
     "name": "stderr",
     "output_type": "stream",
     "text": [
      "100%|██████████| 9/9 [00:00<00:00, 18.91it/s]\n"
     ]
    },
    {
     "name": "stdout",
     "output_type": "stream",
     "text": [
      "epoch =  80 train_loss =  0.012565592323274663\n",
      "rmse_loss =  0.45187222957611084 mae_loss =  0.36654382944107056 mse_loss =  0.2041885107755661\n"
     ]
    },
    {
     "name": "stderr",
     "output_type": "stream",
     "text": [
      "100%|██████████| 9/9 [00:00<00:00, 18.97it/s]\n"
     ]
    },
    {
     "name": "stdout",
     "output_type": "stream",
     "text": [
      "epoch =  81 train_loss =  0.017391557326643832\n",
      "rmse_loss =  0.32549068331718445 mae_loss =  0.2604731321334839 mse_loss =  0.1059441864490509\n"
     ]
    },
    {
     "name": "stderr",
     "output_type": "stream",
     "text": [
      "100%|██████████| 9/9 [00:00<00:00, 18.73it/s]\n"
     ]
    },
    {
     "name": "stdout",
     "output_type": "stream",
     "text": [
      "epoch =  82 train_loss =  0.01149250726060321\n",
      "rmse_loss =  0.44517242908477783 mae_loss =  0.3617378771305084 mse_loss =  0.1981784999370575\n"
     ]
    },
    {
     "name": "stderr",
     "output_type": "stream",
     "text": [
      "100%|██████████| 9/9 [00:00<00:00, 18.89it/s]\n"
     ]
    },
    {
     "name": "stdout",
     "output_type": "stream",
     "text": [
      "epoch =  83 train_loss =  0.01505464634909812\n",
      "rmse_loss =  0.4011869430541992 mae_loss =  0.319995254278183 mse_loss =  0.16095097362995148\n"
     ]
    },
    {
     "name": "stderr",
     "output_type": "stream",
     "text": [
      "100%|██████████| 9/9 [00:00<00:00, 18.77it/s]\n"
     ]
    },
    {
     "name": "stdout",
     "output_type": "stream",
     "text": [
      "epoch =  84 train_loss =  0.01156979576141263\n",
      "rmse_loss =  0.3726169764995575 mae_loss =  0.29420459270477295 mse_loss =  0.13884341716766357\n"
     ]
    },
    {
     "name": "stderr",
     "output_type": "stream",
     "text": [
      "100%|██████████| 9/9 [00:00<00:00, 18.39it/s]\n"
     ]
    },
    {
     "name": "stdout",
     "output_type": "stream",
     "text": [
      "epoch =  85 train_loss =  0.01621798371585707\n",
      "rmse_loss =  0.430594265460968 mae_loss =  0.3430767059326172 mse_loss =  0.18541142344474792\n"
     ]
    },
    {
     "name": "stderr",
     "output_type": "stream",
     "text": [
      "100%|██████████| 9/9 [00:00<00:00, 13.54it/s]\n"
     ]
    },
    {
     "name": "stdout",
     "output_type": "stream",
     "text": [
      "epoch =  86 train_loss =  0.01738835596996877\n",
      "rmse_loss =  0.3933998644351959 mae_loss =  0.326272189617157 mse_loss =  0.15476344525814056\n"
     ]
    },
    {
     "name": "stderr",
     "output_type": "stream",
     "text": [
      "100%|██████████| 9/9 [00:00<00:00, 13.42it/s]\n"
     ]
    },
    {
     "name": "stdout",
     "output_type": "stream",
     "text": [
      "epoch =  87 train_loss =  0.015112540154303942\n",
      "rmse_loss =  0.4282476007938385 mae_loss =  0.3488265573978424 mse_loss =  0.18339601159095764\n"
     ]
    },
    {
     "name": "stderr",
     "output_type": "stream",
     "text": [
      "100%|██████████| 9/9 [00:00<00:00, 13.88it/s]\n"
     ]
    },
    {
     "name": "stdout",
     "output_type": "stream",
     "text": [
      "epoch =  88 train_loss =  0.021499926431311503\n",
      "rmse_loss =  0.41041332483291626 mae_loss =  0.33956918120384216 mse_loss =  0.1684391051530838\n"
     ]
    },
    {
     "name": "stderr",
     "output_type": "stream",
     "text": [
      "100%|██████████| 9/9 [00:00<00:00, 12.95it/s]\n"
     ]
    },
    {
     "name": "stdout",
     "output_type": "stream",
     "text": [
      "epoch =  89 train_loss =  0.011768165742978454\n",
      "rmse_loss =  0.4607788324356079 mae_loss =  0.38048189878463745 mse_loss =  0.21231713891029358\n"
     ]
    },
    {
     "name": "stderr",
     "output_type": "stream",
     "text": [
      "100%|██████████| 9/9 [00:00<00:00, 13.41it/s]\n"
     ]
    },
    {
     "name": "stdout",
     "output_type": "stream",
     "text": [
      "epoch =  90 train_loss =  0.02640843449626118\n",
      "rmse_loss =  0.3166530132293701 mae_loss =  0.257233202457428 mse_loss =  0.1002691239118576\n"
     ]
    },
    {
     "name": "stderr",
     "output_type": "stream",
     "text": [
      "100%|██████████| 9/9 [00:00<00:00, 13.57it/s]\n"
     ]
    },
    {
     "name": "stdout",
     "output_type": "stream",
     "text": [
      "epoch =  91 train_loss =  0.017962672527775995\n",
      "rmse_loss =  0.46485552191734314 mae_loss =  0.4069651961326599 mse_loss =  0.21609064936637878\n"
     ]
    },
    {
     "name": "stderr",
     "output_type": "stream",
     "text": [
      "100%|██████████| 9/9 [00:00<00:00, 13.67it/s]\n"
     ]
    },
    {
     "name": "stdout",
     "output_type": "stream",
     "text": [
      "epoch =  92 train_loss =  0.0188140405031542\n",
      "rmse_loss =  0.4303739368915558 mae_loss =  0.3679398000240326 mse_loss =  0.18522171676158905\n"
     ]
    },
    {
     "name": "stderr",
     "output_type": "stream",
     "text": [
      "100%|██████████| 9/9 [00:00<00:00, 13.28it/s]\n"
     ]
    },
    {
     "name": "stdout",
     "output_type": "stream",
     "text": [
      "epoch =  93 train_loss =  0.019212379042680066\n",
      "rmse_loss =  0.3538173735141754 mae_loss =  0.2904806137084961 mse_loss =  0.1251867264509201\n"
     ]
    },
    {
     "name": "stderr",
     "output_type": "stream",
     "text": [
      "100%|██████████| 9/9 [00:00<00:00, 13.90it/s]\n"
     ]
    },
    {
     "name": "stdout",
     "output_type": "stream",
     "text": [
      "epoch =  94 train_loss =  0.012952385347388271\n",
      "rmse_loss =  0.36970940232276917 mae_loss =  0.3084148168563843 mse_loss =  0.13668504357337952\n"
     ]
    },
    {
     "name": "stderr",
     "output_type": "stream",
     "text": [
      "100%|██████████| 9/9 [00:00<00:00, 13.34it/s]\n"
     ]
    },
    {
     "name": "stdout",
     "output_type": "stream",
     "text": [
      "epoch =  95 train_loss =  0.014860225181716183\n",
      "rmse_loss =  0.40717536211013794 mae_loss =  0.32841578125953674 mse_loss =  0.16579177975654602\n"
     ]
    },
    {
     "name": "stderr",
     "output_type": "stream",
     "text": [
      "100%|██████████| 9/9 [00:00<00:00, 13.26it/s]\n"
     ]
    },
    {
     "name": "stdout",
     "output_type": "stream",
     "text": [
      "epoch =  96 train_loss =  0.011329164909612801\n",
      "rmse_loss =  0.41244420409202576 mae_loss =  0.3382017910480499 mse_loss =  0.17011022567749023\n"
     ]
    },
    {
     "name": "stderr",
     "output_type": "stream",
     "text": [
      "100%|██████████| 9/9 [00:00<00:00, 13.43it/s]\n"
     ]
    },
    {
     "name": "stdout",
     "output_type": "stream",
     "text": [
      "epoch =  97 train_loss =  0.011992595287867718\n",
      "rmse_loss =  0.4494660794734955 mae_loss =  0.3576176166534424 mse_loss =  0.20201975107192993\n"
     ]
    },
    {
     "name": "stderr",
     "output_type": "stream",
     "text": [
      "100%|██████████| 9/9 [00:00<00:00, 13.86it/s]\n"
     ]
    },
    {
     "name": "stdout",
     "output_type": "stream",
     "text": [
      "epoch =  98 train_loss =  0.012165171986756226\n",
      "rmse_loss =  0.42718204855918884 mae_loss =  0.3360845148563385 mse_loss =  0.1824844926595688\n"
     ]
    },
    {
     "name": "stderr",
     "output_type": "stream",
     "text": [
      "100%|██████████| 9/9 [00:00<00:00, 13.21it/s]"
     ]
    },
    {
     "name": "stdout",
     "output_type": "stream",
     "text": [
      "epoch =  99 train_loss =  0.010442370898090303\n",
      "rmse_loss =  0.4199222922325134 mae_loss =  0.3272070586681366 mse_loss =  0.17633472383022308\n",
      "train time: 0.5247752, s/epoch\n",
      "embed1: 20, embed2: 20, lr: 0.001, dec_seq_len: 6\n",
      "0.0104424\n",
      "0.0116680\n",
      "0.1080185\n"
     ]
    },
    {
     "name": "stderr",
     "output_type": "stream",
     "text": [
      "\n"
     ]
    }
   ],
   "source": [
    "dast_model.main(selected_indices)"
   ]
  },
  {
   "cell_type": "code",
   "execution_count": 18,
   "metadata": {},
   "outputs": [],
   "source": [
    "y = dast_model.Y_test.detach().cpu().numpy()\n",
    "y = np.reshape(y, -1)\n",
    "y = y.tolist()"
   ]
  },
  {
   "cell_type": "code",
   "execution_count": 19,
   "metadata": {},
   "outputs": [
    {
     "data": {
      "image/png": "[encoded data removed]",
      "text/plain": [
       "<Figure size 640x480 with 1 Axes>"
      ]
     },
     "metadata": {},
     "output_type": "display_data"
    }
   ],
   "source": [
    "def loss_list():\n",
    "    plt.plot(dast_model.train_loss_list, label='Train loss', marker='o', markersize=1)\n",
    "    plt.plot(dast_model.test_loss_list, label='Test loss', marker='s', markersize=1)\n",
    "    plt.xlabel('Epoch')\n",
    "    plt.ylabel('MSE loss')\n",
    "    plt.legend()\n",
    "    plt.show()\n",
    "loss_list()"
   ]
  },
  {
   "cell_type": "code",
   "execution_count": 20,
   "metadata": {},
   "outputs": [
    {
     "data": {
      "image/png": "[encoded data removed]",
      "text/plain": [
       "<Figure size 640x480 with 1 Axes>"
      ]
     },
     "metadata": {},
     "output_type": "display_data"
    }
   ],
   "source": [
    "def best_predict():\n",
    "    plt.plot(dast_model.best_predict, label='Pred', marker='o', markersize=1)\n",
    "    plt.plot(y, label='Y', marker='s', markersize=1)\n",
    "    plt.xlabel('Time Step')\n",
    "    plt.ylabel('RUL')\n",
    "    plt.legend()\n",
    "    plt.show()\n",
    "best_predict()"
   ]
  },
  {
   "cell_type": "code",
   "execution_count": 21,
   "metadata": {},
   "outputs": [
    {
     "data": {
      "image/png": "[encoded data removed]",
      "text/plain": [
       "<Figure size 640x480 with 1 Axes>"
      ]
     },
     "metadata": {},
     "output_type": "display_data"
    }
   ],
   "source": [
    "def last_predict_vs_y():\n",
    "    last_predict_y = np.reshape(dast_model.last_predict_y, (-1))\n",
    "    last_predict_y = last_predict_y.tolist()\n",
    "    plt.plot(last_predict_y, label='Pred', marker='o', markersize=1)\n",
    "    plt.plot(y, label='Y', marker='s', markersize=1)\n",
    "    plt.xlabel('Time Step')\n",
    "    plt.ylabel('RUL')\n",
    "    plt.legend()\n",
    "    plt.show()\n",
    "last_predict_vs_y()"
   ]
  },
  {
   "cell_type": "code",
   "execution_count": 22,
   "metadata": {},
   "outputs": [
    {
     "name": "stdout",
     "output_type": "stream",
     "text": [
      "0.0104424\n",
      "0.0116680\n",
      "0.1080185\n"
     ]
    }
   ],
   "source": [
    "print(f\"{dast_model.best_train_loss:.7f}\")\n",
    "print(f\"{dast_model.best_mse_loss:.7f}\")\n",
    "print(f\"{dast_model.best_rmse_loss:.7f}\")"
   ]
  },
  {
   "cell_type": "code",
   "execution_count": null,
   "metadata": {},
   "outputs": [],
   "source": [
    "# Run above"
   ]
  }
 ],
 "metadata": {
  "kernelspec": {
   "display_name": "nlp",
   "language": "python",
   "name": "python3"
  },
  "language_info": {
   "codemirror_mode": {
    "name": "ipython",
    "version": 3
   },
   "file_extension": ".py",
   "mimetype": "text/x-python",
   "name": "python",
   "nbconvert_exporter": "python",
   "pygments_lexer": "ipython3",
   "version": "3.7.15"
  }
 },
 "nbformat": 4,
 "nbformat_minor": 2
}
