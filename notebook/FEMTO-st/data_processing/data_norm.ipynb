{
 "cells": [
  {
   "cell_type": "code",
   "execution_count": 5,
   "metadata": {},
   "outputs": [],
   "source": [
    "import pandas as pd\n",
    "import numpy as np\n",
    "import matplotlib.pyplot as plt\n",
    "from scipy.fft import fft\n",
    "import os\n",
    "from scipy.optimize import fsolve\n",
    "from functools import partial\n"
   ]
  },
  {
   "cell_type": "code",
   "execution_count": 6,
   "metadata": {},
   "outputs": [],
   "source": [
    "FEMTO = '../../../data/10FEMTO/raw_data/Validation_set/'\n",
    "POST_PROCESS = '../../../data/10FEMTO/processed_data/'\n",
    "DATASET = [('Bearing1_1', True, 100), ('Bearing1_2', True, 10), ('Bearing1_3', False, 100), ('Bearing1_4', True, 40)]\n",
    "# DATASET = [('Bearing1_1', True, 100)]\n",
    "# DATASET = [('Bearing1_3', False), ('Bearing1_4', True), ('Bearing1_5', True), ('Bearing1_6', True), ('Bearing1_7', True), ('Bearing2_3', False), ('Bearing3_1', False)]\n",
    "WINDOW_SIZE = 40\n",
    "MIN_SIGNAL_SIZE = 640"
   ]
  },
  {
   "cell_type": "code",
   "execution_count": 7,
   "metadata": {},
   "outputs": [],
   "source": [
    "class Process():\n",
    "    def __init__(self, folders: [(str, bool, int)], window_size: int, min_signal: int) -> None:\n",
    "        self.folders = folders\n",
    "\n",
    "    def loop_folder(self):\n",
    "        for (folder, is_train, convergence) in self.folders:\n",
    "            print(folder, is_train)\n",
    "            try:\n",
    "                self.train = is_train\n",
    "                accs = os.listdir(FEMTO+folder)\n",
    "                accs.sort()\n",
    "                accs = [acc for acc in accs if acc.startswith('acc')]\n",
    "                self.life = len(accs)\n",
    "                feature = pd.DataFrame()\n",
    "                for stamp, acc in enumerate(accs):\n",
    "                    x = pd.read_csv(f'{FEMTO}/{folder}/{acc}', header=None, sep=',', usecols=[4])\n",
    "                    feature = pd.concat([feature, x])\n",
    "                MAX = feature.max()\n",
    "                MIN = feature.min()\n",
    "                SUB = (MAX - MIN)\n",
    "                norm_feature = (feature - MIN) / SUB\n",
    "                LEN = 2560\n",
    "                for i in range(0, len(norm_feature), LEN):\n",
    "                    z = norm_feature.iloc[i:i+LEN]\n",
    "                    zeros = '0' * (5 - len(str((i // LEN)) + 1))\n",
    "                    z.to_csv(f'{FEMTO}/{folder}_norm/acc_{zeros}{(i // LEN) + 1}.csv', header=None, index=False)\n",
    "            except Exception as e:\n",
    "                print(e)\n",
    "                print(folder)"
   ]
  },
  {
   "cell_type": "code",
   "execution_count": 8,
   "metadata": {},
   "outputs": [
    {
     "name": "stdout",
     "output_type": "stream",
     "text": [
      "Bearing1_1 True\n",
      "Bearing1_2 True\n",
      "Bearing1_3 False\n",
      "Bearing1_4 True\n"
     ]
    }
   ],
   "source": [
    "process = Process(DATASET, WINDOW_SIZE, MIN_SIGNAL_SIZE)\n",
    "process.loop_folder()"
   ]
  },
  {
   "cell_type": "code",
   "execution_count": null,
   "metadata": {},
   "outputs": [],
   "source": []
  }
 ],
 "metadata": {
  "kernelspec": {
   "display_name": "nlp",
   "language": "python",
   "name": "python3"
  },
  "language_info": {
   "codemirror_mode": {
    "name": "ipython",
    "version": 3
   },
   "file_extension": ".py",
   "mimetype": "text/x-python",
   "name": "python",
   "nbconvert_exporter": "python",
   "pygments_lexer": "ipython3",
   "version": "3.7.15"
  }
 },
 "nbformat": 4,
 "nbformat_minor": 2
}
