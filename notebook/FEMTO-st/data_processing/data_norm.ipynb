{
 "cells": [
  {
   "cell_type": "code",
   "execution_count": 36,
   "metadata": {},
   "outputs": [],
   "source": [
    "import pandas as pd\n",
    "import numpy as np\n",
    "import matplotlib.pyplot as plt\n",
    "import os\n",
    "from functools import partial\n"
   ]
  },
  {
   "cell_type": "code",
   "execution_count": 37,
   "metadata": {},
   "outputs": [],
   "source": [
    "FEMTO = '../../../data/10FEMTO/raw_data/Validation_set/'\n",
    "POST_PROCESS = '../../../data/10FEMTO/processed_data/'\n",
    "# DATASET = [('Bearing1_1', True, 100), ('Bearing1_2', True, 10), ('Bearing1_3', False, 100), ('Bearing1_4', True, 40)]\n",
    "# DATASET = [('Bearing1_1', True, 100)]\n",
    "DATASET = [('Bearing1_1'), ('Bearing1_2'), ('Bearing2_1'), ('Bearing2_2'), ('Bearing3_1'), ('Bearing3_2')]\n",
    "OUTPUT_FOLDER = '../../../data/10FEMTO/raw_data/Validation_set_norm/'\n",
    "WINDOW_SIZE = 40\n",
    "MIN_SIGNAL_SIZE = 640"
   ]
  },
  {
   "cell_type": "code",
   "execution_count": 38,
   "metadata": {},
   "outputs": [],
   "source": [
    "class Process():\n",
    "    def __init__(self, folders) -> None:\n",
    "        self.folders = folders\n",
    "\n",
    "    def loop_folder(self):\n",
    "        for (folder) in self.folders:\n",
    "            print(folder)\n",
    "            # try:\n",
    "            accs = os.listdir(FEMTO+folder)\n",
    "            accs.sort()\n",
    "            accs = [acc for acc in accs if acc.startswith('acc')]\n",
    "            self.life = len(accs)\n",
    "            feature = pd.DataFrame()\n",
    "            for stamp, acc in enumerate(accs):\n",
    "                x = pd.read_csv(f'{FEMTO}/{folder}/{acc}', header=None, sep=',', usecols=[4])\n",
    "                feature = pd.concat([feature, x])\n",
    "\n",
    "            print(feature.shape)\n",
    "            MAX = feature.max()\n",
    "            MIN = feature.min()\n",
    "            SUB = (MAX - MIN)\n",
    "            norm_feature = (feature - MIN) / SUB\n",
    "            LEN = 2560\n",
    "            for i in range(0, len(norm_feature), LEN):\n",
    "                z = norm_feature.iloc[i:i+LEN]\n",
    "                zeros = '0' * (5 - len(str((i // LEN) + 1)))\n",
    "                z.to_csv(f'{OUTPUT_FOLDER}/{folder}/acc_{zeros}{(i // LEN) + 1}.csv', header=None, index=False)\n",
    "            print('done')\n",
    "            # except Exception as e:\n",
    "            #     print(e)\n",
    "            #     print(folder)"
   ]
  },
  {
   "cell_type": "code",
   "execution_count": 39,
   "metadata": {},
   "outputs": [
    {
     "name": "stdout",
     "output_type": "stream",
     "text": [
      "Bearing1_1\n",
      "(7175680, 1)\n",
      "done\n",
      "Bearing1_2\n",
      "(2229760, 1)\n",
      "done\n",
      "Bearing2_1\n",
      "(2332160, 1)\n",
      "done\n",
      "Bearing2_2\n",
      "(2040320, 1)\n",
      "done\n",
      "Bearing3_1\n",
      "(1318400, 1)\n",
      "done\n",
      "Bearing3_2\n",
      "(4190720, 1)\n",
      "done\n"
     ]
    }
   ],
   "source": [
    "process = Process(DATASET)\n",
    "process.loop_folder()"
   ]
  },
  {
   "cell_type": "code",
   "execution_count": null,
   "metadata": {},
   "outputs": [],
   "source": []
  }
 ],
 "metadata": {
  "kernelspec": {
   "display_name": "nlp",
   "language": "python",
   "name": "python3"
  },
  "language_info": {
   "codemirror_mode": {
    "name": "ipython",
    "version": 3
   },
   "file_extension": ".py",
   "mimetype": "text/x-python",
   "name": "python",
   "nbconvert_exporter": "python",
   "pygments_lexer": "ipython3",
   "version": "3.7.15"
  }
 },
 "nbformat": 4,
 "nbformat_minor": 2
}
