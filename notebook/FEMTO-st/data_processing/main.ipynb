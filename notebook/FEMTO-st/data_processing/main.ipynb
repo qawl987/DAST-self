{
 "cells": [
  {
   "cell_type": "code",
   "execution_count": null,
   "metadata": {},
   "outputs": [],
   "source": [
    "from preprocess import Process"
   ]
  },
  {
   "cell_type": "code",
   "execution_count": null,
   "metadata": {},
   "outputs": [],
   "source": [
    "FEMTO_PATH = '../../../data/10FEMTO/raw_data/Validation_set/'\n",
    "POST_PROCESS_PATH = '../../../data/10FEMTO/processed_data/'\n",
    "# DATASET = [('Bearing1_1', True, 100), ('Bearing1_2', True, 10), ('Bearing1_3', False, 100), ('Bearing1_4', True, 40)]\n",
    "# DATASET = [('Bearing1_3', False, 100)]\n",
    "DATASET = [('Bearing1_1', True, 100)]\n",
    "# DATASET = [('Bearing1_1', True, 100), ('Bearing1_2', True, 30), ('Bearing1_3', False, 80), ('Bearing1_4', False, 50), ('Bearing1_5', False, 90), ('Bearing1_6', False, 90), ('Bearing1_7', False, 80),('Bearing2_1', True, 30), ('Bearing2_2', True, 30), ('Bearing2_3', False, 70), ('Bearing2_4', False, 27), ('Bearing2_5', False, 84), ('Bearing2_6', False, 25), ('Bearing2_7', False, 8), ('Bearing3_1', True, 17), ('Bearing3_2', True, 50), ('Bearing3_3', False, 15)]\n",
    "WINDOW_SIZE = 40\n",
    "MIN_SIGNAL_SIZE = 640\n",
    "IS_SAVE = False"
   ]
  },
  {
   "cell_type": "code",
   "execution_count": null,
   "metadata": {},
   "outputs": [],
   "source": [
    "process = Process(DATASET, WINDOW_SIZE, MIN_SIGNAL_SIZE, FEMTO_PATH, POST_PROCESS_PATH, IS_SAVE)\n",
    "process.loop_folder()"
   ]
  },
  {
   "cell_type": "code",
   "execution_count": null,
   "metadata": {},
   "outputs": [],
   "source": []
  }
 ],
 "metadata": {
  "kernelspec": {
   "display_name": "nlp",
   "language": "python",
   "name": "python3"
  },
  "language_info": {
   "codemirror_mode": {
    "name": "ipython",
    "version": 3
   },
   "file_extension": ".py",
   "mimetype": "text/x-python",
   "name": "python",
   "nbconvert_exporter": "python",
   "pygments_lexer": "ipython3",
   "version": "3.7.15"
  }
 },
 "nbformat": 4,
 "nbformat_minor": 2
}
