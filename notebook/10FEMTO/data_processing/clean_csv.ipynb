{
 "cells": [
  {
   "cell_type": "code",
   "execution_count": 1,
   "metadata": {},
   "outputs": [],
   "source": [
    "import pandas as pd\n",
    "import os"
   ]
  },
  {
   "cell_type": "code",
   "execution_count": 25,
   "metadata": {},
   "outputs": [],
   "source": [
    "folders = ['Bearing1_6', 'Bearing1_7', 'Bearing2_3', 'Bearing2_4', 'Bearing2_5', 'Bearing2_6', 'Bearing2_7', 'Bearing3_3']"
   ]
  },
  {
   "cell_type": "code",
   "execution_count": 2,
   "metadata": {},
   "outputs": [],
   "source": [
    "folders = ['Bearing1_4']"
   ]
  },
  {
   "cell_type": "code",
   "execution_count": 3,
   "metadata": {},
   "outputs": [],
   "source": [
    "folder_type = 'Validation_Set/Full_Test_Set/'"
   ]
  },
  {
   "cell_type": "code",
   "execution_count": 4,
   "metadata": {},
   "outputs": [],
   "source": [
    "for folder in folders:\n",
    "    os.environ['fold'] = 'Validation_Set/Full_Test_Set/'+folder+'/'\n",
    "    files = os.listdir(f'./{folder_type}/{folder}')\n",
    "    temp_files = [temp for temp in files if temp.startswith('acc')]\n",
    "    for file in temp_files:\n",
    "        x = pd.read_csv(f'./{folder_type}/{folder}/{file}', sep=';', header=None)\n",
    "        x.to_csv(f'./Learning_set/Bearing1_2_new/{file}', sep=',', header=None, index=False)\n",
    "    !mv Learning_set/Bearing1_2_new/* $fold"
   ]
  },
  {
   "cell_type": "code",
   "execution_count": 26,
   "metadata": {},
   "outputs": [
    {
     "name": "stdout",
     "output_type": "stream",
     "text": [
      "mv: cannot stat 'Learning_set/Bearing1_2_new/*': No such file or directory\n",
      "mv: cannot stat 'Learning_set/Bearing1_2_new/*': No such file or directory\n"
     ]
    }
   ],
   "source": [
    "folder_type = 'Test_set'\n",
    "for folder in folders:\n",
    "    os.environ['fold'] = 'Test_set/'+folder+'/'\n",
    "    files = os.listdir(f'./{folder_type}/{folder}')\n",
    "    temp_files = [temp for temp in files if temp.startswith('temp')]\n",
    "    for file in temp_files:\n",
    "        x = pd.read_csv(f'./{folder_type}/{folder}/{file}', sep=';', header=None)\n",
    "        x.to_csv(f'./Learning_set/Bearing1_2_new/{file}', sep=',', header=None, index=False)\n",
    "    !mv Learning_set/Bearing1_2_new/* $fold"
   ]
  },
  {
   "cell_type": "code",
   "execution_count": 10,
   "metadata": {},
   "outputs": [
    {
     "name": "stdout",
     "output_type": "stream",
     "text": [
      "Bearing1_6\n"
     ]
    }
   ],
   "source": [
    "!echo $fold"
   ]
  }
 ],
 "metadata": {
  "kernelspec": {
   "display_name": "nlp",
   "language": "python",
   "name": "python3"
  },
  "language_info": {
   "codemirror_mode": {
    "name": "ipython",
    "version": 3
   },
   "file_extension": ".py",
   "mimetype": "text/x-python",
   "name": "python",
   "nbconvert_exporter": "python",
   "pygments_lexer": "ipython3",
   "version": "3.7.15"
  },
  "orig_nbformat": 4
 },
 "nbformat": 4,
 "nbformat_minor": 2
}
