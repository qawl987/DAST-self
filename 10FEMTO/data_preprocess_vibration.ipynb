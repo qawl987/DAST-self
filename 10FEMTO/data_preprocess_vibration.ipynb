{
 "cells": [
  {
   "cell_type": "code",
   "execution_count": 1,
   "metadata": {},
   "outputs": [],
   "source": [
    "import pandas as pd\n",
    "import numpy as np\n",
    "import matplotlib.pyplot as plt\n",
    "import os\n",
    "import re\n",
    "from sklearn import preprocessing\n",
    "from sklearn.metrics import mean_squared_error, r2_score, mean_absolute_error\n",
    "from sklearn.model_selection import GridSearchCV\n",
    "from sklearn import linear_model\n",
    "from scipy import interpolate\n",
    "import scipy.io as sio\n",
    "from numpy import *\n",
    "\n",
    "min_max_scaler = preprocessing.MinMaxScaler()"
   ]
  },
  {
   "cell_type": "code",
   "execution_count": null,
   "metadata": {},
   "outputs": [],
   "source": [
    "max_window_stamp = 50\n",
    "window_size = 40\n",
    "stride = 25"
   ]
  },
  {
   "cell_type": "code",
   "execution_count": null,
   "metadata": {},
   "outputs": [],
   "source": [
    "train_acc = []\n",
    "train_y = []"
   ]
  },
  {
   "cell_type": "code",
   "execution_count": null,
   "metadata": {},
   "outputs": [],
   "source": [
    "def get_train_acc(bearing_folders, folder_type):\n",
    "    for bearing_folder in bearing_folders:\n",
    "        csv_files = os.listdir(f'./{folder_type}/{bearing_folder}')\n",
    "        csv_files.sort()\n",
    "        acc_files = [acc for acc in csv_files if acc.startswith('acc')]\n",
    "        for stamp, acc_file in enumerate(acc_files):\n",
    "            vibra = pd.read_csv(f'./{folder_type}/{bearing_folder}/{acc_file}',header=None,sep=',', usecols=[4,5])\n",
    "            for i in range(max_window_stamp):\n",
    "                train_acc.append(vibra.iloc[i*stride:i*stride + window_size, :].values.tolist())\n",
    "                train_rul = len(acc_files) - stamp\n",
    "                train_y.append(train_rul)"
   ]
  },
  {
   "cell_type": "code",
   "execution_count": null,
   "metadata": {},
   "outputs": [],
   "source": [
    "bearing_folders = ['Bearing1_1', 'Bearing1_2']\n",
    "folder_type = 'Learning_set'\n",
    "get_train_acc(bearing_folders, folder_type)"
   ]
  },
  {
   "cell_type": "code",
   "execution_count": null,
   "metadata": {},
   "outputs": [],
   "source": [
    "bearing_folders = ['Bearing1_3', 'Bearing1_4']\n",
    "folder_type = 'Validation_Set/Full_Test_Set/'\n",
    "get_train_acc(bearing_folders, folder_type)"
   ]
  },
  {
   "cell_type": "code",
   "execution_count": null,
   "metadata": {},
   "outputs": [],
   "source": [
    "train_acc = np.array(train_acc)\n",
    "len_x = len(train_acc)\n",
    "dim_x = train_acc.shape[2]\n",
    "train_acc = train_acc.reshape(-1, dim_x)\n",
    "print(train_acc.shape)\n",
    "train_acc = min_max_scaler.fit_transform(train_acc)\n",
    "train_acc = np.reshape(train_acc,(len_x, 40, dim_x))"
   ]
  },
  {
   "cell_type": "code",
   "execution_count": null,
   "metadata": {},
   "outputs": [],
   "source": [
    "shape(train_acc)"
   ]
  },
  {
   "cell_type": "code",
   "execution_count": null,
   "metadata": {},
   "outputs": [],
   "source": [
    "plt.plot(train_acc[:, 0])"
   ]
  },
  {
   "cell_type": "code",
   "execution_count": null,
   "metadata": {},
   "outputs": [],
   "source": [
    "condition = 'Bearing1'"
   ]
  },
  {
   "cell_type": "code",
   "execution_count": null,
   "metadata": {},
   "outputs": [],
   "source": [
    "sio.savemat(f'./Mat_train/{condition}1-4_2d_train_stride{stride}_x.mat', {\"train_x\": train_acc})\n",
    "sio.savemat(f'./Mat_train/{condition}1-4_2d_train_stride{stride}_y.mat', {\"train_y\": train_y})"
   ]
  },
  {
   "attachments": {},
   "cell_type": "markdown",
   "metadata": {},
   "source": [
    "# Test"
   ]
  },
  {
   "cell_type": "code",
   "execution_count": 10,
   "metadata": {},
   "outputs": [],
   "source": [
    "folder_type = 'Test_set'\n",
    "# bearing_folders = ['Bearing1_6', 'Bearing1_7']\n",
    "bearing_folders = ['Bearing1_5']\n",
    "condition = 'Bearing1'\n",
    "test_life = {\n",
    "    'Bearing1_3': 2375,\n",
    "    'Bearing1_4': 1428,\n",
    "    'Bearing1_5': 2463,\n",
    "    'Bearing1_6': 2448,\n",
    "    'Bearing1_7': 2259,\n",
    "    'Bearing2_3': 1955,\n",
    "    'Bearing2_4': 751,\n",
    "    'Bearing2_5': 2311,\n",
    "    'Bearing2_6': 701,\n",
    "    'Bearing2_7': 230,\n",
    "    'Bearing3_3': 434,\n",
    "}\n",
    "test_end = {\n",
    "    'Bearing1_3': 1802,\n",
    "    'Bearing1_4': 1139,\n",
    "    'Bearing1_5': 2302,\n",
    "    'Bearing1_6': 2302,\n",
    "    'Bearing1_7': 1502,\n",
    "    'Bearing2_3': 1202,\n",
    "    'Bearing2_4': 612,\n",
    "    'Bearing2_5': 2002,\n",
    "    'Bearing2_6': 572,\n",
    "    'Bearing2_7': 172,\n",
    "    'Bearing3_3': 352,\n",
    "}\n",
    "test_rul = {\n",
    "    'Bearing1_3': 573,\n",
    "    'Bearing1_4': 289,\n",
    "    'Bearing1_5': 161,\n",
    "    'Bearing1_6': 146,\n",
    "    'Bearing1_7': 757,\n",
    "    'Bearing2_3': 753,\n",
    "    'Bearing2_4': 139,\n",
    "    'Bearing2_5': 309,\n",
    "    'Bearing2_6': 129,\n",
    "    'Bearing2_7': 58,\n",
    "    'Bearing3_3': 82,\n",
    "}"
   ]
  },
  {
   "cell_type": "code",
   "execution_count": 11,
   "metadata": {},
   "outputs": [],
   "source": [
    "test_x = []\n",
    "test_y = []\n",
    "max_window_stamp = 50\n",
    "window_size = 40\n",
    "test_acc = []\n",
    "test_temp = []\n",
    "stride = 25"
   ]
  },
  {
   "cell_type": "code",
   "execution_count": 11,
   "metadata": {},
   "outputs": [
    {
     "name": "stdout",
     "output_type": "stream",
     "text": [
      "50\n"
     ]
    }
   ],
   "source": [
    "csv_files = os.listdir(f'./{folder_type}/{bearing_folder}')\n",
    "csv_files.sort()\n",
    "acc_files = [acc for acc in csv_files if acc.startswith('acc')]\n",
    "acc_files = acc_files[-50:]\n",
    "print(len(acc_files))"
   ]
  },
  {
   "cell_type": "code",
   "execution_count": 12,
   "metadata": {},
   "outputs": [],
   "source": [
    "def get_test_acc(bearing_folders, folder_type):\n",
    "    for bearing_folder in bearing_folders:\n",
    "        csv_files = os.listdir(f'./{folder_type}/{bearing_folder}')\n",
    "        csv_files.sort()\n",
    "        acc_files = [acc for acc in csv_files if acc.startswith('acc')]\n",
    "        acc_files = acc_files[-50:]\n",
    "        for index, acc_file in enumerate(acc_files):\n",
    "            vibra = pd.read_csv(f'./{folder_type}/{bearing_folder}/{acc_file}',header=None,sep=',', usecols=[4,5])\n",
    "            for i in range(max_window_stamp):\n",
    "                test_acc.append(vibra.iloc[i*stride:i*stride + window_size, :].values.tolist())\n",
    "                test_y.append(test_rul[bearing_folder] + 50 - index)"
   ]
  },
  {
   "cell_type": "code",
   "execution_count": 13,
   "metadata": {},
   "outputs": [],
   "source": [
    "get_test_acc(bearing_folders, folder_type)"
   ]
  },
  {
   "cell_type": "code",
   "execution_count": 6,
   "metadata": {},
   "outputs": [],
   "source": [
    "train_x = sio.loadmat(f'./Mat_train/Bearing11-4_2d_train_stride25_x.mat')['train_x']  # load sliding window preprocessed and Statistical features processed data (mean value and regression coefficient estimates feature)\n",
    "len_x = len(train_x)\n",
    "dim_x = train_x.shape[2]\n",
    "train_x = train_x.reshape(-1, dim_x)\n",
    "min_max_scaler.fit(train_x)\n",
    "del train_x"
   ]
  },
  {
   "cell_type": "code",
   "execution_count": 14,
   "metadata": {},
   "outputs": [
    {
     "name": "stdout",
     "output_type": "stream",
     "text": [
      "(100000, 2)\n"
     ]
    }
   ],
   "source": [
    "test_acc = np.array(test_acc)\n",
    "len_x = len(test_acc)\n",
    "dim_x = test_acc.shape[2]\n",
    "test_acc = test_acc.reshape(-1, dim_x)\n",
    "print(test_acc.shape)\n",
    "test_acc = min_max_scaler.transform(test_acc)\n",
    "test_acc = np.reshape(test_acc,(len_x, 40, dim_x))"
   ]
  },
  {
   "cell_type": "code",
   "execution_count": 15,
   "metadata": {},
   "outputs": [
    {
     "data": {
      "text/plain": [
       "(2500, 40, 2)"
      ]
     },
     "execution_count": 15,
     "metadata": {},
     "output_type": "execute_result"
    }
   ],
   "source": [
    "shape(test_acc)"
   ]
  },
  {
   "cell_type": "code",
   "execution_count": 9,
   "metadata": {},
   "outputs": [],
   "source": [
    "sio.savemat(f'./Mat_test/{condition}_6-7_test_x.mat', {\"test_x\": test_acc})\n",
    "sio.savemat(f'./Mat_test/{condition}_6-7_test_y.mat', {\"test_y\": test_y})"
   ]
  },
  {
   "cell_type": "code",
   "execution_count": 16,
   "metadata": {},
   "outputs": [],
   "source": [
    "sio.savemat(f'./Mat_valid/{condition}_5_valid_x.mat', {\"valid_x\": test_acc})\n",
    "sio.savemat(f'./Mat_valid/{condition}_5_valid_y.mat', {\"valid_y\": test_y})"
   ]
  },
  {
   "attachments": {},
   "cell_type": "markdown",
   "metadata": {},
   "source": [
    "# Appendix"
   ]
  },
  {
   "cell_type": "code",
   "execution_count": null,
   "metadata": {},
   "outputs": [],
   "source": [
    "csv_files = os.listdir(f'./{folder_type}/{bearing_folder}')\n",
    "csv_files.sort()\n",
    "acc_files = [acc for acc in csv_files if acc.startswith('acc')]"
   ]
  },
  {
   "cell_type": "code",
   "execution_count": null,
   "metadata": {},
   "outputs": [],
   "source": [
    "for stamp, acc_file in enumerate(acc_files):\n",
    "    vibra = pd.read_csv(f'./{folder_type}/{bearing_folder}/{acc_file}',header=None,sep=',', usecols=[4,5])\n",
    "    for i in range(max_window_stamp):\n",
    "        train_acc.append(vibra.iloc[i*stride:i*stride + window_size, :].values.tolist())\n",
    "        train_rul = len(acc_files) - stamp\n",
    "        train_y.append(train_rul)"
   ]
  },
  {
   "cell_type": "code",
   "execution_count": 17,
   "metadata": {},
   "outputs": [],
   "source": [
    "y_test = sio.loadmat(f'./Mat_test/Bearing1_6-7_test_y.mat')['test_y']"
   ]
  },
  {
   "cell_type": "code",
   "execution_count": 19,
   "metadata": {},
   "outputs": [
    {
     "data": {
      "text/plain": [
       "(1, 5000)"
      ]
     },
     "execution_count": 19,
     "metadata": {},
     "output_type": "execute_result"
    }
   ],
   "source": [
    "y_test.shape"
   ]
  },
  {
   "cell_type": "code",
   "execution_count": 18,
   "metadata": {},
   "outputs": [
    {
     "name": "stdout",
     "output_type": "stream",
     "text": [
      "[196 196 196 ... 758 758 758]\n"
     ]
    }
   ],
   "source": [
    "print(y_test[0])"
   ]
  }
 ],
 "metadata": {
  "kernelspec": {
   "display_name": "nlp",
   "language": "python",
   "name": "python3"
  },
  "language_info": {
   "codemirror_mode": {
    "name": "ipython",
    "version": 3
   },
   "file_extension": ".py",
   "mimetype": "text/x-python",
   "name": "python",
   "nbconvert_exporter": "python",
   "pygments_lexer": "ipython3",
   "version": "3.7.15"
  },
  "orig_nbformat": 4
 },
 "nbformat": 4,
 "nbformat_minor": 2
}
